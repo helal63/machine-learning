{
 "cells": [
  {
   "cell_type": "code",
   "execution_count": 1,
   "metadata": {},
   "outputs": [
    {
     "name": "stdout",
     "output_type": "stream",
     "text": [
      "['testing_list.txt', 'README.md', 'LICENSE', 'audio', 'validation_list.txt']\n"
     ]
    }
   ],
   "source": [
    "# This Python 3 environment comes with many helpful analytics libraries installed\n",
    "# It is defined by the kaggle/python docker image: https://github.com/kaggle/docker-python\n",
    "# For example, here's several helpful packages to load in \n",
    "\n",
    "import numpy as np # linear algebra\n",
    "#import pandas as pd # data processing, CSV file I/O (e.g. pd.read_csv)\n",
    "\n",
    "# Input data files are available in the \"../input/\" directory.\n",
    "# For example, running this (by clicking run or pressing Shift+Enter) will list the files in the input directory\n",
    "\n",
    "import os\n",
    "print(os.listdir(\"../ml/datasets/speech/train\"))\n",
    "\n",
    "# Any results you write to the current directory are saved as output."
   ]
  },
  {
   "cell_type": "code",
   "execution_count": 2,
   "metadata": {},
   "outputs": [],
   "source": [
    "# Custom Imports\n",
    "\n",
    "from subprocess import check_output\n",
    "from scipy.io import wavfile"
   ]
  },
  {
   "cell_type": "code",
   "execution_count": 3,
   "metadata": {},
   "outputs": [
    {
     "name": "stdout",
     "output_type": "stream",
     "text": [
      "doing_the_dishes.wav\n",
      "dude_miaowing.wav\n",
      "exercise_bike.wav\n",
      "pink_noise.wav\n",
      "README.md\n",
      "running_tap.wav\n",
      "white_noise.wav\n",
      "\n",
      "Silence files saved: 398\n"
     ]
    },
    {
     "name": "stderr",
     "output_type": "stream",
     "text": [
      "/home/john/.local/lib/python3.6/site-packages/scipy/io/wavfile.py:273: WavFileWarning: Chunk (non-data) not understood, skipping it.\n",
      "  WavFileWarning)\n"
     ]
    }
   ],
   "source": [
    "# processing silence files\n",
    "train_audio_path = '../ml/datasets/speech/train/audio'\n",
    "\n",
    "print(check_output([\"ls\", train_audio_path + \"/_background_noise_\"]).decode(\"utf8\"))\n",
    "\n",
    "def wavread(file):\n",
    "    sample_rate, samples = wavfile.read(str(train_audio_path) + '/' + file)\n",
    "    return np.array(samples)\n",
    "\n",
    "files = os.listdir(train_audio_path + '/_background_noise_')\n",
    "\n",
    "tot_files = 0\n",
    "\n",
    "for f in files:\n",
    "    if not f.endswith('wav'):\n",
    "        continue\n",
    "\n",
    "    f_samples = wavread('/_background_noise_/'+f)\n",
    "    f_len = len(f_samples)\n",
    "    f_name = os.path.splitext(f)[0]\n",
    "\n",
    "    i = 0\n",
    "    \n",
    "    sfile = train_audio_path + '/silence/' + f_name + '_'\n",
    "    \n",
    "    while (i + 1)*16000 <= f_len:\n",
    "        wavfile.write(sfile + str(i) + '.wav', 16000, f_samples[i*16000:i*16000+16000])\n",
    "        i = i + 1\n",
    "        tot_files = tot_files + 1\n",
    "\n",
    "print(\"Silence files saved:\",tot_files)"
   ]
  },
  {
   "cell_type": "code",
   "execution_count": null,
   "metadata": {},
   "outputs": [],
   "source": []
  }
 ],
 "metadata": {
  "kernelspec": {
   "display_name": "Python 3",
   "language": "python",
   "name": "python3"
  },
  "language_info": {
   "codemirror_mode": {
    "name": "ipython",
    "version": 3
   },
   "file_extension": ".py",
   "mimetype": "text/x-python",
   "name": "python",
   "nbconvert_exporter": "python",
   "pygments_lexer": "ipython3",
   "version": "3.6.6"
  }
 },
 "nbformat": 4,
 "nbformat_minor": 2
}
