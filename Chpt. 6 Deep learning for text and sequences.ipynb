{
 "cells": [
  {
   "cell_type": "code",
   "execution_count": 23,
   "metadata": {},
   "outputs": [],
   "source": [
    "# To support both python 2 and python 3\n",
    "from __future__ import division, print_function, unicode_literals\n",
    "\n",
    "# Common imports\n",
    "import numpy as np\n",
    "import os\n",
    "import sys\n",
    "\n",
    "# to make this notebook's output stable across runs\n",
    "def reset_graph(seed=42):\n",
    "    tf.reset_default_graph()\n",
    "    tf.set_random_seed(seed)\n",
    "    np.random.seed(seed)\n",
    "\n",
    "# To plot pretty figures\n",
    "%matplotlib inline\n",
    "import matplotlib\n",
    "import matplotlib.pyplot as plt\n",
    "plt.rcParams['axes.labelsize'] = 14\n",
    "plt.rcParams['xtick.labelsize'] = 12\n",
    "plt.rcParams['ytick.labelsize'] = 12"
   ]
  },
  {
   "cell_type": "code",
   "execution_count": 2,
   "metadata": {},
   "outputs": [
    {
     "name": "stderr",
     "output_type": "stream",
     "text": [
      "Using TensorFlow backend.\n"
     ]
    },
    {
     "data": {
      "text/plain": [
       "'2.2.2'"
      ]
     },
     "execution_count": 2,
     "metadata": {},
     "output_type": "execute_result"
    }
   ],
   "source": [
    "import keras\n",
    "\n",
    "keras.__version__"
   ]
  },
  {
   "cell_type": "code",
   "execution_count": null,
   "metadata": {},
   "outputs": [],
   "source": [
    "import numpy as np\n",
    "samples = ['The cat sat on the mat.', 'The dog ate my homework.']\n",
    "\n",
    "token_index = {}\n",
    "for sample in samples:\n",
    "    for word in sample.split():\n",
    "        if word not in token_index:\n",
    "            token_index[word] = len(token_index) + 1\n",
    "            \n",
    "max_length = 10\n",
    "\n",
    "results = np.zeros(shape=(len(samples),\n",
    "                          max_length,\n",
    "                          max(token_index.values()) + 1))\n",
    "for i, sample in enumerate(samples):\n",
    "    for j, word in list(enumerate(sample.split()))[:max_length]:\n",
    "        index = token_index.get(word)\n",
    "        results[i, j, index] = 1."
   ]
  },
  {
   "cell_type": "code",
   "execution_count": null,
   "metadata": {},
   "outputs": [],
   "source": [
    "import string\n",
    "\n",
    "samples = samples = ['The cat sat on the mat.', 'The dog ate my homework.']\n",
    "characters = string.printable\n",
    "token_index = dict(zip(range(1, len(characters) + 1), characters))\n",
    "\n",
    "max_length = 50\n",
    "results = np.zeros((len(samples), max_length, max(token_index.keys()) + 1))\n",
    "for i, sample in enumerate(samples):\n",
    "    for j, character in enumerate(sample):\n",
    "        index = token_index.get(character)\n",
    "        results[i, j, index] = 1."
   ]
  },
  {
   "cell_type": "code",
   "execution_count": null,
   "metadata": {},
   "outputs": [],
   "source": [
    "from keras.preprocessing.text import Tokenizer\n",
    "\n",
    "samples = ['The cat sat on the mat.', 'The dog ate my homework.']\n",
    "\n",
    "tokenizer = Tokenizer(num_words=1000)\n",
    "tokenizer.fit_on_texts(samples)\n",
    "\n",
    "sequences = tokenizer.texts_to_sequences(samples)\n",
    "one_hot_results = tokenizer.texts_to_matrix(samples, mode='binary')\n",
    "\n",
    "word_index = tokenizer.word_index\n",
    "print('Found %s unique tokens.' % len(word_index))"
   ]
  },
  {
   "cell_type": "code",
   "execution_count": null,
   "metadata": {},
   "outputs": [],
   "source": [
    "samples = ['The cat sat on the mat.', 'The dog ate my homework.']\n",
    "dimensionality = 1000\n",
    "max_length = 10\n",
    "\n",
    "results = np.zeros((len(samples), max_length, dimensionality))\n",
    "for i, sample in enumerate(samples):\n",
    "    for j, word in list(enumerate(sample.split()))[:max_length]:\n",
    "        index = abs(hash(word)) % dimensionality\n",
    "        results[i, j, index] = 1"
   ]
  },
  {
   "cell_type": "code",
   "execution_count": null,
   "metadata": {},
   "outputs": [],
   "source": [
    "from keras.layers import Embedding\n",
    "\n",
    "embedding_layer = Embedding(1000,64)"
   ]
  },
  {
   "cell_type": "code",
   "execution_count": null,
   "metadata": {},
   "outputs": [],
   "source": [
    "from keras.datasets import imdb\n",
    "from keras import preprocessing\n",
    "\n",
    "max_features = 10000\n",
    "maxlen = 20\n",
    "\n",
    "(x_train, y_train), (x_test, y_test) = imdb.load_data(num_words=max_features)\n",
    "\n",
    "x_train = preprocessing.sequence.pad_sequences(x_train, maxlen=maxlen)\n",
    "x_test = preprocessing.sequence.pad_sequences(x_test, maxlen=maxlen)"
   ]
  },
  {
   "cell_type": "code",
   "execution_count": null,
   "metadata": {},
   "outputs": [],
   "source": [
    "from keras.models import Sequential\n",
    "from keras.layers import Flatten, Dense\n",
    "\n",
    "model = Sequential()\n",
    "model.add(Embedding(10000, 8, input_length=maxlen))\n",
    "\n",
    "model.add(Flatten())\n",
    "\n",
    "model.add(Dense(1, activation='sigmoid'))\n",
    "model.compile(optimizer='rmsprop', loss='binary_crossentropy', metrics=['acc'])\n",
    "model.summary()\n",
    "\n",
    "history = model.fit(x_train, y_train,\n",
    "                    epochs=10,\n",
    "                    batch_size=32,\n",
    "                    validation_split=0.2)"
   ]
  },
  {
   "cell_type": "code",
   "execution_count": null,
   "metadata": {},
   "outputs": [],
   "source": [
    "import os\n",
    "\n",
    "imdb_dir = '/home/john/ml/datasets/aclImdb'\n",
    "train_dir = os.path.join(imdb_dir, 'train')\n",
    "\n",
    "labels = []\n",
    "texts = []\n",
    "\n",
    "for label_type in ['neg', 'pos']:\n",
    "    dir_name = os.path.join(train_dir, label_type)\n",
    "    for fname in os.listdir(dir_name):\n",
    "        if fname[-4:] == '.txt':\n",
    "            f = open(os.path.join(dir_name, fname))\n",
    "            texts.append(f.read())\n",
    "            f.close()\n",
    "            if label_type == 'neg':\n",
    "                labels.append(0)\n",
    "            else:\n",
    "                labels.append(1)"
   ]
  },
  {
   "cell_type": "code",
   "execution_count": null,
   "metadata": {},
   "outputs": [],
   "source": [
    "from keras.preprocessing.text import Tokenizer\n",
    "from keras.preprocessing.sequence import pad_sequences\n",
    "import numpy as np\n",
    "\n",
    "maxlen = 100\n",
    "training_samples = 200\n",
    "validation_samples = 10000\n",
    "max_words = 10000\n",
    "\n",
    "tokenizer = Tokenizer(num_words=max_words)\n",
    "tokenizer.fit_on_texts(texts)\n",
    "sequences = tokenizer.texts_to_sequences(texts)\n",
    "word_index = tokenizer.word_index\n",
    "print('Found %s unique tokens.' % len(word_index))\n",
    "\n",
    "data = pad_sequences(sequences, maxlen=maxlen)\n",
    "\n",
    "labels = np.asarray(labels)\n",
    "print('Shape of data tensor:', data.shape)\n",
    "print('Shape of label tensor:', labels.shape)\n",
    "\n",
    "indicies = np.arange(data.shape[0])\n",
    "np.random.shuffle(indicies)\n",
    "data = data[indicies]\n",
    "labels = labels[indicies]\n",
    "\n",
    "x_train = data[:training_samples]\n",
    "y_train = labels[:training_samples]\n",
    "x_val = data[training_samples: training_samples + validation_samples]\n",
    "y_val = labels[training_samples: training_samples + validation_samples]"
   ]
  },
  {
   "cell_type": "code",
   "execution_count": null,
   "metadata": {},
   "outputs": [],
   "source": [
    "glove_dir = '/home/john/ml/glove.6B'\n",
    "\n",
    "embeddings_index = {}\n",
    "f = open(os.path.join(glove_dir, 'glove.6B.100d.txt'))\n",
    "for line in f:\n",
    "    values = line.split()\n",
    "    word = values[0]\n",
    "    coefs = np.asarray(values[1:], dtype='float32')\n",
    "    embeddings_index[word] = coefs\n",
    "f.close()\n",
    "\n",
    "print('Found %s word vectors.' % len(embeddings_index))"
   ]
  },
  {
   "cell_type": "code",
   "execution_count": null,
   "metadata": {},
   "outputs": [],
   "source": [
    "embedding_dim = 100\n",
    "\n",
    "embedding_matrix = np.zeros((max_words, embedding_dim))\n",
    "for word, i in word_index.items():\n",
    "    embedding_vector = embeddings_index.get(word)\n",
    "    if i < max_words:\n",
    "        if embedding_vector is not None:\n",
    "            embedding_matrix[i] = embedding_vector"
   ]
  },
  {
   "cell_type": "code",
   "execution_count": null,
   "metadata": {},
   "outputs": [],
   "source": [
    "from keras.models import Sequential\n",
    "from keras.layers import Embedding, Flatten, Dense\n",
    "\n",
    "model = Sequential()\n",
    "model.add(Embedding(max_words, embedding_dim, input_length=maxlen))\n",
    "model.add(Flatten())\n",
    "model.add(Dense(32, activation='relu'))\n",
    "model.add(Dense(1, activation='sigmoid'))\n",
    "model.summary()"
   ]
  },
  {
   "cell_type": "code",
   "execution_count": null,
   "metadata": {},
   "outputs": [],
   "source": [
    "model.layers[0].set_weights([embedding_matrix])\n",
    "model.layers[0].trainable = False"
   ]
  },
  {
   "cell_type": "code",
   "execution_count": null,
   "metadata": {},
   "outputs": [],
   "source": [
    "model.compile(optimizer='rmsprop',\n",
    "              loss='binary_crossentropy',\n",
    "              metrics=['acc'])\n",
    "history = model.fit(x_train, y_train,\n",
    "                    epochs=10,\n",
    "                    batch_size=32,\n",
    "                    validation_data=(x_val, y_val))\n",
    "model.save_weights('pre_trained_glove_model.h5')"
   ]
  },
  {
   "cell_type": "code",
   "execution_count": null,
   "metadata": {},
   "outputs": [],
   "source": [
    "import matplotlib.pyplot as plt\n",
    "\n",
    "acc = history.history['acc']\n",
    "val_acc = history.history['val_acc']\n",
    "loss = history.history['loss']\n",
    "val_loss = history.history['val_loss']\n",
    "\n",
    "epochs = range(1, len(acc) + 1)\n",
    "\n",
    "plt.plot(epochs, acc, 'bo', label='Training acc')\n",
    "plt.plot(epochs, val_acc, 'b', label='Validation acc')\n",
    "plt.title('Training and validation accuracy')\n",
    "plt.legend()\n",
    "\n",
    "plt.figure()\n",
    "\n",
    "plt.plot(epochs, loss, 'bo', label='Training loss')\n",
    "plt.plot(epochs, val_loss, 'b', label='Validation loss')\n",
    "plt.title('Training and validation loss')\n",
    "plt.legend()\n",
    "\n",
    "plt.show()"
   ]
  },
  {
   "cell_type": "code",
   "execution_count": null,
   "metadata": {},
   "outputs": [],
   "source": [
    "from keras.models import Sequential\n",
    "from keras.layers import Embedding, Flatten, Dense\n",
    "\n",
    "model = Sequential()\n",
    "model.add(Embedding(max_words, embedding_dim, input_length=maxlen))\n",
    "model.add(Flatten())\n",
    "model.add(Dense(32, activation='relu'))\n",
    "model.add(Dense(1, activation='sigmoid'))\n",
    "model.summary()\n",
    "\n",
    "model.compile(optimizer='rmsprop',\n",
    "              loss='binary_crossentropy',\n",
    "              metrics=['acc'])\n",
    "history = model.fit(x_train, y_train,\n",
    "                    epochs=10,\n",
    "                    batch_size=32,\n",
    "                    validation_data=(x_val,y_val))"
   ]
  },
  {
   "cell_type": "code",
   "execution_count": null,
   "metadata": {},
   "outputs": [],
   "source": [
    "plt.clf()\n",
    "\n",
    "acc = history.history['acc']\n",
    "val_acc = history.history['val_acc']\n",
    "loss = history.history['loss']\n",
    "val_loss = history.history['val_loss']\n",
    "\n",
    "epochs = range(1, len(acc) + 1)\n",
    "\n",
    "plt.plot(epochs, acc, 'bo', label='Training acc')\n",
    "plt.plot(epochs, val_acc, 'b', label='Validation acc')\n",
    "plt.title('Training and validation accuracy')\n",
    "plt.legend()\n",
    "\n",
    "plt.figure()\n",
    "\n",
    "plt.plot(epochs, loss, 'bo', label='Training loss')\n",
    "plt.plot(epochs, val_loss, 'b', label='Validation loss')\n",
    "plt.title('Training and validation loss')\n",
    "plt.legend()\n",
    "\n",
    "plt.show()"
   ]
  },
  {
   "cell_type": "code",
   "execution_count": null,
   "metadata": {},
   "outputs": [],
   "source": [
    "test_dir = os.path.join(imdb_dir, 'test')\n",
    "\n",
    "labels = []\n",
    "texts = []\n",
    "\n",
    "for label_type in ['neg', 'pos']:\n",
    "    dir_name = os.path.join(test_dir, label_type)\n",
    "    for fname in sorted(os.listdir(dir_name)):\n",
    "        if fname[-4:] == '.txt':\n",
    "            f = open(os.path.join(dir_name, fname))\n",
    "            texts.append(f.read())\n",
    "            f.close()\n",
    "            if label_type == 'neg':\n",
    "                labels.append(0)\n",
    "            else:\n",
    "                labels.append(1)\n",
    "sequences = tokenizer.texts_to_sequences(texts)\n",
    "x_test = pad_sequences(sequences, maxlen=maxlen)\n",
    "y_test = np.asarray(labels)"
   ]
  },
  {
   "cell_type": "code",
   "execution_count": null,
   "metadata": {},
   "outputs": [],
   "source": [
    "model.load_weights('pre_trained_glove_model.h5')\n",
    "model.evaluate(x_test, y_test)"
   ]
  },
  {
   "cell_type": "code",
   "execution_count": null,
   "metadata": {},
   "outputs": [],
   "source": [
    "import gc as gc\n",
    "\n",
    "del history\n",
    "del model\n",
    "gc.collect()"
   ]
  },
  {
   "cell_type": "code",
   "execution_count": null,
   "metadata": {},
   "outputs": [],
   "source": [
    "import numpy as np\n",
    "\n",
    "timesteps = 100\n",
    "input_features = 32\n",
    "output_features = 64\n",
    "\n",
    "inputs = np.random.random((timesteps, input_features))\n",
    "\n",
    "state_t = np.zeros((output_features,))\n",
    "\n",
    "W = np.random.random((output_features, input_features))\n",
    "U = np.random.random((output_features, output_features))\n",
    "b = np.random.random((output_features,))\n",
    "\n",
    "successive_outputs = []\n",
    "for input_t in inputs:\n",
    "    output_t = np.tanh(np.dot(W, input_t) + np.dot(U, state_t) + b)\n",
    "    successive_outputs.append(output_t)\n",
    "    state_t = output_t\n",
    "    \n",
    "final_output_sequence = np.concatenate(successive_outputs, axis=0)"
   ]
  },
  {
   "cell_type": "code",
   "execution_count": null,
   "metadata": {},
   "outputs": [],
   "source": [
    "from keras.models import Sequential\n",
    "from keras.layers import SimpleRNN, Embedding\n",
    "\n",
    "model = Sequential()\n",
    "model.add(Embedding(10000, 32))\n",
    "model.add(SimpleRNN(32))\n",
    "model.summary()"
   ]
  },
  {
   "cell_type": "code",
   "execution_count": null,
   "metadata": {},
   "outputs": [],
   "source": [
    "model = Sequential()\n",
    "model.add(Embedding(10000, 32))\n",
    "model.add(SimpleRNN(32, return_sequences=True))\n",
    "model.summary()"
   ]
  },
  {
   "cell_type": "code",
   "execution_count": null,
   "metadata": {},
   "outputs": [],
   "source": [
    "model = Sequential()\n",
    "model.add(Embedding(10000, 32))\n",
    "model.add(SimpleRNN(32, return_sequences=True))\n",
    "model.add(SimpleRNN(32, return_sequences=True))\n",
    "model.add(SimpleRNN(32, return_sequences=True))\n",
    "model.add(SimpleRNN(32))\n",
    "model.summary()"
   ]
  },
  {
   "cell_type": "code",
   "execution_count": null,
   "metadata": {},
   "outputs": [],
   "source": [
    "from keras.datasets import imdb\n",
    "from keras.preprocessing import sequence\n",
    "\n",
    "max_features = 10000\n",
    "maxlen = 500\n",
    "batch_size = 32\n",
    "\n",
    "print('Loading data...')\n",
    "(input_train, y_train), (input_test, y_test) = imdb.load_data(num_words=max_features)\n",
    "print(len(input_train), 'train sequences')\n",
    "print(len(input_test), 'test sequences')\n",
    "\n",
    "print('Pad sequences (samples x time)')\n",
    "input_train = sequence.pad_sequences(input_train, maxlen=maxlen)\n",
    "input_test = sequence.pad_sequences(input_test, maxlen=maxlen)\n",
    "print('input_train shape:', input_train.shape)\n",
    "print('input_test shape:', input_test.shape)"
   ]
  },
  {
   "cell_type": "code",
   "execution_count": null,
   "metadata": {},
   "outputs": [],
   "source": [
    "from keras.layers import Dense\n",
    "\n",
    "model = Sequential()\n",
    "model.add(Embedding(max_features, 32))\n",
    "model.add(SimpleRNN(32))\n",
    "model.add(Dense(1, activation='sigmoid'))\n",
    "\n",
    "model.compile(optimizer='rmsprop', loss='binary_crossentropy', metrics=['acc'])\n",
    "history = model.fit(input_train, y_train,\n",
    "                    epochs=10,\n",
    "                    batch_size=128,\n",
    "                    validation_split=0.2)"
   ]
  },
  {
   "cell_type": "code",
   "execution_count": null,
   "metadata": {},
   "outputs": [],
   "source": [
    "plt.clf()\n",
    "\n",
    "acc = history.history['acc']\n",
    "val_acc = history.history['val_acc']\n",
    "loss = history.history['loss']\n",
    "val_loss = history.history['val_loss']\n",
    "\n",
    "epochs = range(1, len(acc) + 1)\n",
    "\n",
    "plt.plot(epochs, acc, 'bo', label='Training acc')\n",
    "plt.plot(epochs, val_acc, 'b', label='Validation acc')\n",
    "plt.title('Training and validation accuracy')\n",
    "plt.legend()\n",
    "\n",
    "plt.figure()\n",
    "\n",
    "plt.plot(epochs, loss, 'bo', label='Training loss')\n",
    "plt.plot(epochs, val_loss, 'b', label='Validation loss')\n",
    "plt.title('Training and validation loss')\n",
    "plt.legend()\n",
    "\n",
    "plt.show()"
   ]
  },
  {
   "cell_type": "code",
   "execution_count": null,
   "metadata": {},
   "outputs": [],
   "source": [
    "from keras.layers import LSTM\n",
    "\n",
    "model = Sequential()\n",
    "model.add(Embedding(max_features, 32))\n",
    "model.add(LSTM(32))\n",
    "model.add(Dense(1, activation='sigmoid'))\n",
    "\n",
    "model.compile(optimizer='rmsprop',\n",
    "              loss='binary_crossentropy',\n",
    "              metrics=['acc'])\n",
    "history = model.fit(input_train, y_train,\n",
    "                    epochs=10,\n",
    "                    batch_size=128,\n",
    "                    validation_split=0.2)"
   ]
  },
  {
   "cell_type": "code",
   "execution_count": null,
   "metadata": {},
   "outputs": [],
   "source": [
    "plt.clf()\n",
    "\n",
    "acc = history.history['acc']\n",
    "val_acc = history.history['val_acc']\n",
    "loss = history.history['loss']\n",
    "val_loss = history.history['val_loss']\n",
    "\n",
    "epochs = range(1, len(acc) + 1)\n",
    "\n",
    "plt.plot(epochs, acc, 'bo', label='Training acc')\n",
    "plt.plot(epochs, val_acc, 'b', label='Validation acc')\n",
    "plt.title('Training and validation accuracy')\n",
    "plt.legend()\n",
    "\n",
    "plt.figure()\n",
    "\n",
    "plt.plot(epochs, loss, 'bo', label='Training loss')\n",
    "plt.plot(epochs, val_loss, 'b', label='Validation loss')\n",
    "plt.title('Training and validation loss')\n",
    "plt.legend()\n",
    "\n",
    "plt.show()"
   ]
  },
  {
   "cell_type": "code",
   "execution_count": null,
   "metadata": {},
   "outputs": [],
   "source": [
    "del history\n",
    "del model\n",
    "gc.collect()"
   ]
  },
  {
   "cell_type": "code",
   "execution_count": 15,
   "metadata": {},
   "outputs": [],
   "source": [
    "import os\n",
    "\n",
    "data_dir ='/home/john/Downloads/jena_climate'\n",
    "fname = os.path.join(data_dir, 'jena_climate_2009_2016.csv')\n",
    "\n",
    "f = open(fname)\n",
    "data = f.read()\n",
    "f.close()\n",
    "\n",
    "lines = data.split('\\n')\n",
    "header = lines[0].split(',')\n",
    "lines = lines[1:]"
   ]
  },
  {
   "cell_type": "code",
   "execution_count": 16,
   "metadata": {},
   "outputs": [],
   "source": [
    "import numpy as np\n",
    "\n",
    "float_data = np.zeros((len(lines), len(header) -1))\n",
    "for i, line in enumerate(lines):\n",
    "    values = [float(x) for x in line.split(',')[1:]]\n",
    "    float_data[i, :] = values"
   ]
  },
  {
   "cell_type": "code",
   "execution_count": 17,
   "metadata": {},
   "outputs": [
    {
     "data": {
      "text/plain": [
       "[<matplotlib.lines.Line2D at 0x7f0b7c90d940>]"
      ]
     },
     "execution_count": 17,
     "metadata": {},
     "output_type": "execute_result"
    },
    {
     "data": {
      "image/png": "[encoded data removed]",
      "text/plain": [
       "<Figure size 432x288 with 1 Axes>"
      ]
     },
     "metadata": {
      "needs_background": "light"
     },
     "output_type": "display_data"
    }
   ],
   "source": [
    "from matplotlib import pyplot as plt\n",
    "%matplotlib inline\n",
    "\n",
    "temp = float_data[:, 1]\n",
    "plt.plot(range(len(temp)), temp)"
   ]
  },
  {
   "cell_type": "code",
   "execution_count": 18,
   "metadata": {},
   "outputs": [
    {
     "data": {
      "text/plain": [
       "[<matplotlib.lines.Line2D at 0x7f0b9c176668>]"
      ]
     },
     "execution_count": 18,
     "metadata": {},
     "output_type": "execute_result"
    },
    {
     "data": {
      "image/png": "[encoded data removed]",
      "text/plain": [
       "<Figure size 432x288 with 1 Axes>"
      ]
     },
     "metadata": {
      "needs_background": "light"
     },
     "output_type": "display_data"
    }
   ],
   "source": [
    "plt.plot(range(1440), temp[:1440])"
   ]
  },
  {
   "cell_type": "code",
   "execution_count": 19,
   "metadata": {},
   "outputs": [],
   "source": [
    "mean = float_data[:200000].mean(axis=0)\n",
    "float_data -= mean\n",
    "std = float_data[:200000].std(axis=0)\n",
    "float_data /= std"
   ]
  },
  {
   "cell_type": "code",
   "execution_count": 20,
   "metadata": {},
   "outputs": [],
   "source": [
    "def generator(data, lookback, delay, min_index, max_index, shuffle=False, batch_size=128, step=6):\n",
    "    if max_index is None:\n",
    "        max_index = len(data) - delay - 1\n",
    "    i = min_index + lookback\n",
    "    while 1:\n",
    "        if shuffle:\n",
    "            rows = np.random.randint(min_index + lookback, max_index, size=batch_size)\n",
    "        else:\n",
    "            if i + batch_size >= max_index:\n",
    "                i = min_index + lookback\n",
    "            rows = np.arange(i, min(i + batch_size, max_index))\n",
    "            i += len(rows)\n",
    "            \n",
    "        samples = np.zeros((len(rows),\n",
    "                            lookback // step,\n",
    "                            data.shape[-1]))\n",
    "        targets = np.zeros((len(rows),))\n",
    "        for j, row in enumerate(rows):\n",
    "            indices = range(rows[j] - lookback, rows[j], step)\n",
    "            samples[j] = data[indices]\n",
    "            targets[j] = data[rows[j] + delay][1]\n",
    "        yield samples, targets"
   ]
  },
  {
   "cell_type": "code",
   "execution_count": 21,
   "metadata": {},
   "outputs": [],
   "source": [
    "lookback = 1440\n",
    "step = 6\n",
    "delay = 144\n",
    "batch_size = 128\n",
    "\n",
    "train_gen = generator(float_data,\n",
    "                      lookback=lookback,\n",
    "                      delay=delay,\n",
    "                      min_index=0,\n",
    "                      max_index=200000,\n",
    "                      shuffle=True,\n",
    "                      step=step,\n",
    "                      batch_size=batch_size)\n",
    "val_gen = generator(float_data,\n",
    "                    lookback=lookback,\n",
    "                    delay=delay,\n",
    "                    min_index=200001,\n",
    "                    max_index=300000,\n",
    "                    step=step,\n",
    "                    batch_size=batch_size)\n",
    "test_gen = generator(float_data,\n",
    "                     lookback=lookback,\n",
    "                     delay=delay,\n",
    "                     min_index=300001,\n",
    "                     max_index=None,\n",
    "                     step=step,\n",
    "                     batch_size=batch_size)\n",
    "\n",
    "val_steps = (300000 - 200001 - lookback) // batch_size\n",
    "\n",
    "test_steps = (len(float_data) - 300001 - lookback) // batch_size"
   ]
  },
  {
   "cell_type": "code",
   "execution_count": null,
   "metadata": {},
   "outputs": [],
   "source": [
    "def evaluate_naive_method():\n",
    "    batch_maes = []\n",
    "    for step in range(val_steps):\n",
    "        samples, targets = next(val_gen)\n",
    "        preds = samples[:, -1, 1]\n",
    "        mae = np.mean(np.abs(preds - targets))\n",
    "        batch_maes.append(mae)\n",
    "    print(np.mean(batch_maes))\n",
    "    \n",
    "evaluate_naive_method()"
   ]
  },
  {
   "cell_type": "code",
   "execution_count": 12,
   "metadata": {},
   "outputs": [
    {
     "name": "stdout",
     "output_type": "stream",
     "text": [
      "Epoch 1/20\n",
      "500/500 [==============================] - 13s 26ms/step - loss: 1.2049 - val_loss: 0.6596\n",
      "Epoch 2/20\n",
      "500/500 [==============================] - 13s 25ms/step - loss: 0.4305 - val_loss: 0.3281\n",
      "Epoch 3/20\n",
      "500/500 [==============================] - 13s 25ms/step - loss: 0.2963 - val_loss: 0.3132\n",
      "Epoch 4/20\n",
      "500/500 [==============================] - 13s 25ms/step - loss: 0.2681 - val_loss: 0.3065\n",
      "Epoch 5/20\n",
      "500/500 [==============================] - 13s 25ms/step - loss: 0.2532 - val_loss: 0.3208\n",
      "Epoch 6/20\n",
      "500/500 [==============================] - 13s 25ms/step - loss: 0.2458 - val_loss: 0.3281\n",
      "Epoch 7/20\n",
      "500/500 [==============================] - 13s 25ms/step - loss: 0.2384 - val_loss: 0.3157\n",
      "Epoch 8/20\n",
      "500/500 [==============================] - 13s 26ms/step - loss: 0.2330 - val_loss: 0.3086\n",
      "Epoch 9/20\n",
      "500/500 [==============================] - 13s 25ms/step - loss: 0.2293 - val_loss: 0.3164\n",
      "Epoch 10/20\n",
      "500/500 [==============================] - 13s 26ms/step - loss: 0.2258 - val_loss: 0.3271\n",
      "Epoch 11/20\n",
      "500/500 [==============================] - 13s 26ms/step - loss: 0.2211 - val_loss: 0.3314\n",
      "Epoch 12/20\n",
      "500/500 [==============================] - 13s 25ms/step - loss: 0.2194 - val_loss: 0.3336\n",
      "Epoch 13/20\n",
      "500/500 [==============================] - 13s 26ms/step - loss: 0.2150 - val_loss: 0.3386\n",
      "Epoch 14/20\n",
      "500/500 [==============================] - 13s 25ms/step - loss: 0.2120 - val_loss: 0.3511\n",
      "Epoch 15/20\n",
      "500/500 [==============================] - 13s 26ms/step - loss: 0.2102 - val_loss: 0.3296\n",
      "Epoch 16/20\n",
      "500/500 [==============================] - 13s 27ms/step - loss: 0.2076 - val_loss: 0.3502\n",
      "Epoch 17/20\n",
      "500/500 [==============================] - 13s 26ms/step - loss: 0.2055 - val_loss: 0.3223\n",
      "Epoch 18/20\n",
      "500/500 [==============================] - 13s 26ms/step - loss: 0.2028 - val_loss: 0.3318\n",
      "Epoch 19/20\n",
      "500/500 [==============================] - 13s 25ms/step - loss: 0.2035 - val_loss: 0.3320\n",
      "Epoch 20/20\n",
      "500/500 [==============================] - 13s 26ms/step - loss: 0.2011 - val_loss: 0.3534\n"
     ]
    }
   ],
   "source": [
    "from keras.models import Sequential\n",
    "from keras import layers\n",
    "from keras.optimizers import RMSprop\n",
    "\n",
    "model = Sequential()\n",
    "model.add(layers.Flatten(input_shape=(lookback // step, float_data.shape[-1])))\n",
    "model.add(layers.Dense(32, activation='relu'))\n",
    "model.add(layers.Dense(1))\n",
    "\n",
    "model.compile (optimizer=RMSprop(), loss='mae')\n",
    "history = model.fit_generator(train_gen,\n",
    "                              steps_per_epoch=500,\n",
    "                              epochs=20,\n",
    "                              validation_data=val_gen,\n",
    "                              validation_steps=val_steps)"
   ]
  },
  {
   "cell_type": "code",
   "execution_count": 14,
   "metadata": {},
   "outputs": [
    {
     "data": {
      "image/png": "[encoded data removed]",
      "text/plain": [
       "<Figure size 432x288 with 1 Axes>"
      ]
     },
     "metadata": {
      "needs_background": "light"
     },
     "output_type": "display_data"
    }
   ],
   "source": [
    "import matplotlib.pyplot as plt\n",
    "\n",
    "plt.clf()\n",
    "\n",
    "loss = history.history['loss']\n",
    "val_loss = history.history['val_loss']\n",
    "\n",
    "epochs = range(1, len(loss) + 1)\n",
    "\n",
    "plt.plot(epochs, loss, 'bo', label='Training loss')\n",
    "plt.plot(epochs, val_loss, 'b', label='Validation loss')\n",
    "plt.title('Training and validation loss')\n",
    "plt.legend()\n",
    "\n",
    "plt.show()"
   ]
  },
  {
   "cell_type": "code",
   "execution_count": 15,
   "metadata": {},
   "outputs": [
    {
     "name": "stdout",
     "output_type": "stream",
     "text": [
      "Epoch 1/20\n",
      "500/500 [==============================] - 211s 422ms/step - loss: 0.2996 - val_loss: 0.2698\n",
      "Epoch 2/20\n",
      "500/500 [==============================] - 213s 426ms/step - loss: 0.2838 - val_loss: 0.2668\n",
      "Epoch 3/20\n",
      "500/500 [==============================] - 213s 426ms/step - loss: 0.2767 - val_loss: 0.2725\n",
      "Epoch 4/20\n",
      "500/500 [==============================] - 225s 449ms/step - loss: 0.2722 - val_loss: 0.2754\n",
      "Epoch 5/20\n",
      "500/500 [==============================] - 220s 440ms/step - loss: 0.2686 - val_loss: 0.2636\n",
      "Epoch 6/20\n",
      "500/500 [==============================] - 225s 451ms/step - loss: 0.2630 - val_loss: 0.2698\n",
      "Epoch 7/20\n",
      "500/500 [==============================] - 218s 436ms/step - loss: 0.2602 - val_loss: 0.2708\n",
      "Epoch 8/20\n",
      "500/500 [==============================] - 218s 437ms/step - loss: 0.2565 - val_loss: 0.2756\n",
      "Epoch 9/20\n",
      "500/500 [==============================] - 224s 448ms/step - loss: 0.2521 - val_loss: 0.2808\n",
      "Epoch 10/20\n",
      "500/500 [==============================] - 208s 417ms/step - loss: 0.2458 - val_loss: 0.2817\n",
      "Epoch 11/20\n",
      "500/500 [==============================] - 209s 418ms/step - loss: 0.2405 - val_loss: 0.2851\n",
      "Epoch 12/20\n",
      "500/500 [==============================] - 208s 417ms/step - loss: 0.2347 - val_loss: 0.2887\n",
      "Epoch 13/20\n",
      "500/500 [==============================] - 208s 417ms/step - loss: 0.2316 - val_loss: 0.2905\n",
      "Epoch 14/20\n",
      "500/500 [==============================] - 208s 416ms/step - loss: 0.2284 - val_loss: 0.2968\n",
      "Epoch 15/20\n",
      "500/500 [==============================] - 208s 417ms/step - loss: 0.2238 - val_loss: 0.2988\n",
      "Epoch 16/20\n",
      "500/500 [==============================] - 208s 417ms/step - loss: 0.2194 - val_loss: 0.2994\n",
      "Epoch 17/20\n",
      "500/500 [==============================] - 208s 417ms/step - loss: 0.2184 - val_loss: 0.3059\n",
      "Epoch 18/20\n",
      "500/500 [==============================] - 208s 417ms/step - loss: 0.2147 - val_loss: 0.3071\n",
      "Epoch 19/20\n",
      "500/500 [==============================] - 208s 417ms/step - loss: 0.2105 - val_loss: 0.3142\n",
      "Epoch 20/20\n",
      "500/500 [==============================] - 209s 417ms/step - loss: 0.2076 - val_loss: 0.3165\n"
     ]
    }
   ],
   "source": [
    "from keras.models import Sequential\n",
    "from keras import layers\n",
    "from keras.optimizers import RMSprop\n",
    "\n",
    "model = Sequential()\n",
    "model.add(layers.GRU(32, input_shape=(None, float_data.shape[-1])))\n",
    "model.add(layers.Dense(1))\n",
    "\n",
    "model.compile(optimizer=RMSprop(), loss='mae')\n",
    "history = model.fit_generator(train_gen,\n",
    "                              steps_per_epoch=500,\n",
    "                              epochs=20,\n",
    "                              validation_data=val_gen,\n",
    "                              validation_steps=val_steps)"
   ]
  },
  {
   "cell_type": "code",
   "execution_count": 16,
   "metadata": {},
   "outputs": [
    {
     "data": {
      "image/png": "[encoded data removed]",
      "text/plain": [
       "<Figure size 432x288 with 1 Axes>"
      ]
     },
     "metadata": {
      "needs_background": "light"
     },
     "output_type": "display_data"
    }
   ],
   "source": [
    "import matplotlib.pyplot as plt\n",
    "\n",
    "plt.clf()\n",
    "\n",
    "loss = history.history['loss']\n",
    "val_loss = history.history['val_loss']\n",
    "\n",
    "epochs = range(1, len(loss) + 1)\n",
    "\n",
    "plt.plot(epochs, loss, 'bo', label='Training loss')\n",
    "plt.plot(epochs, val_loss, 'b', label='Validation loss')\n",
    "plt.title('Training and validation loss')\n",
    "plt.legend()\n",
    "\n",
    "plt.show()"
   ]
  },
  {
   "cell_type": "code",
   "execution_count": 17,
   "metadata": {},
   "outputs": [
    {
     "data": {
      "text/plain": [
       "5668"
      ]
     },
     "execution_count": 17,
     "metadata": {},
     "output_type": "execute_result"
    }
   ],
   "source": [
    "del history\n",
    "del model\n",
    "gc.collect()"
   ]
  },
  {
   "cell_type": "code",
   "execution_count": 18,
   "metadata": {},
   "outputs": [
    {
     "name": "stdout",
     "output_type": "stream",
     "text": [
      "Epoch 1/40\n",
      "500/500 [==============================] - 244s 488ms/step - loss: 0.3440 - val_loss: 0.2744\n",
      "Epoch 2/40\n",
      "500/500 [==============================] - 249s 498ms/step - loss: 0.3128 - val_loss: 0.2726\n",
      "Epoch 3/40\n",
      "500/500 [==============================] - 246s 493ms/step - loss: 0.3059 - val_loss: 0.2705\n",
      "Epoch 4/40\n",
      "500/500 [==============================] - 243s 485ms/step - loss: 0.3029 - val_loss: 0.2701\n",
      "Epoch 5/40\n",
      "500/500 [==============================] - 241s 482ms/step - loss: 0.2992 - val_loss: 0.2693\n",
      "Epoch 6/40\n",
      "500/500 [==============================] - 241s 483ms/step - loss: 0.2970 - val_loss: 0.2707\n",
      "Epoch 7/40\n",
      "500/500 [==============================] - 241s 482ms/step - loss: 0.2964 - val_loss: 0.2683\n",
      "Epoch 8/40\n",
      "500/500 [==============================] - 243s 487ms/step - loss: 0.2916 - val_loss: 0.2740\n",
      "Epoch 9/40\n",
      "500/500 [==============================] - 248s 496ms/step - loss: 0.2920 - val_loss: 0.2682\n",
      "Epoch 10/40\n",
      "500/500 [==============================] - 255s 509ms/step - loss: 0.2916 - val_loss: 0.2708\n",
      "Epoch 11/40\n",
      "500/500 [==============================] - 253s 506ms/step - loss: 0.2905 - val_loss: 0.2660\n",
      "Epoch 12/40\n",
      "500/500 [==============================] - 255s 511ms/step - loss: 0.2876 - val_loss: 0.2674\n",
      "Epoch 13/40\n",
      "500/500 [==============================] - 254s 508ms/step - loss: 0.2873 - val_loss: 0.2661\n",
      "Epoch 14/40\n",
      "500/500 [==============================] - 253s 507ms/step - loss: 0.2855 - val_loss: 0.2704\n",
      "Epoch 15/40\n",
      "500/500 [==============================] - 254s 507ms/step - loss: 0.2856 - val_loss: 0.2629\n",
      "Epoch 16/40\n",
      "500/500 [==============================] - 253s 506ms/step - loss: 0.2832 - val_loss: 0.2635\n",
      "Epoch 17/40\n",
      "500/500 [==============================] - 254s 507ms/step - loss: 0.2816 - val_loss: 0.2655\n",
      "Epoch 18/40\n",
      "500/500 [==============================] - 245s 490ms/step - loss: 0.2805 - val_loss: 0.2630\n",
      "Epoch 19/40\n",
      "500/500 [==============================] - 244s 487ms/step - loss: 0.2802 - val_loss: 0.2658\n",
      "Epoch 20/40\n",
      "500/500 [==============================] - 243s 487ms/step - loss: 0.2794 - val_loss: 0.2628\n",
      "Epoch 21/40\n",
      "500/500 [==============================] - 244s 487ms/step - loss: 0.2782 - val_loss: 0.2701\n",
      "Epoch 22/40\n",
      "500/500 [==============================] - 243s 487ms/step - loss: 0.2801 - val_loss: 0.2625\n",
      "Epoch 23/40\n",
      "500/500 [==============================] - 243s 487ms/step - loss: 0.2765 - val_loss: 0.2711\n",
      "Epoch 24/40\n",
      "500/500 [==============================] - 244s 488ms/step - loss: 0.2776 - val_loss: 0.2683\n",
      "Epoch 25/40\n",
      "500/500 [==============================] - 243s 487ms/step - loss: 0.2769 - val_loss: 0.2641\n",
      "Epoch 26/40\n",
      "500/500 [==============================] - 244s 488ms/step - loss: 0.2746 - val_loss: 0.2636\n",
      "Epoch 27/40\n",
      "500/500 [==============================] - 244s 487ms/step - loss: 0.2741 - val_loss: 0.2611\n",
      "Epoch 28/40\n",
      "500/500 [==============================] - 244s 488ms/step - loss: 0.2764 - val_loss: 0.2695\n",
      "Epoch 29/40\n",
      "500/500 [==============================] - 244s 487ms/step - loss: 0.2723 - val_loss: 0.2606\n",
      "Epoch 30/40\n",
      "500/500 [==============================] - 244s 488ms/step - loss: 0.2731 - val_loss: 0.2607\n",
      "Epoch 31/40\n",
      "500/500 [==============================] - 244s 488ms/step - loss: 0.2748 - val_loss: 0.2674\n",
      "Epoch 32/40\n",
      "500/500 [==============================] - 244s 488ms/step - loss: 0.2727 - val_loss: 0.2639\n",
      "Epoch 33/40\n",
      "500/500 [==============================] - 244s 488ms/step - loss: 0.2723 - val_loss: 0.2617\n",
      "Epoch 34/40\n",
      "500/500 [==============================] - 243s 487ms/step - loss: 0.2706 - val_loss: 0.2686\n",
      "Epoch 35/40\n",
      "500/500 [==============================] - 244s 487ms/step - loss: 0.2700 - val_loss: 0.2614\n",
      "Epoch 36/40\n",
      "500/500 [==============================] - 243s 487ms/step - loss: 0.2718 - val_loss: 0.2619\n",
      "Epoch 37/40\n",
      "500/500 [==============================] - 244s 487ms/step - loss: 0.2699 - val_loss: 0.2649\n",
      "Epoch 38/40\n",
      "500/500 [==============================] - 244s 488ms/step - loss: 0.2709 - val_loss: 0.2644\n",
      "Epoch 39/40\n",
      "500/500 [==============================] - 243s 487ms/step - loss: 0.2699 - val_loss: 0.2750\n",
      "Epoch 40/40\n",
      "500/500 [==============================] - 243s 487ms/step - loss: 0.2707 - val_loss: 0.2615\n"
     ]
    }
   ],
   "source": [
    "from keras.models import Sequential\n",
    "from keras import layers\n",
    "from keras.optimizers import RMSprop\n",
    "\n",
    "model = Sequential()\n",
    "model.add(layers.GRU(32,\n",
    "                     dropout=0.2,\n",
    "                     recurrent_dropout=0.2,\n",
    "                     input_shape=(None, float_data.shape[-1])))\n",
    "model.add(layers.Dense(1))\n",
    "\n",
    "model.compile(optimizer=RMSprop(), loss='mae')\n",
    "history = model.fit_generator(train_gen,\n",
    "                              steps_per_epoch=500,\n",
    "                              epochs=40,\n",
    "                              validation_data=val_gen,\n",
    "                              validation_steps=val_steps)"
   ]
  },
  {
   "cell_type": "code",
   "execution_count": 19,
   "metadata": {},
   "outputs": [
    {
     "data": {
      "image/png": "[encoded data removed]",
      "text/plain": [
       "<Figure size 432x288 with 1 Axes>"
      ]
     },
     "metadata": {
      "needs_background": "light"
     },
     "output_type": "display_data"
    }
   ],
   "source": [
    "import matplotlib.pyplot as plt\n",
    "\n",
    "plt.clf()\n",
    "\n",
    "loss = history.history['loss']\n",
    "val_loss = history.history['val_loss']\n",
    "\n",
    "epochs = range(1, len(loss) + 1)\n",
    "\n",
    "plt.plot(epochs, loss, 'bo', label='Training loss')\n",
    "plt.plot(epochs, val_loss, 'b', label='Validation loss')\n",
    "plt.title('Training and validation loss')\n",
    "plt.legend()\n",
    "\n",
    "plt.show()"
   ]
  },
  {
   "cell_type": "code",
   "execution_count": 20,
   "metadata": {},
   "outputs": [
    {
     "data": {
      "text/plain": [
       "2734"
      ]
     },
     "execution_count": 20,
     "metadata": {},
     "output_type": "execute_result"
    }
   ],
   "source": [
    "del history\n",
    "del model\n",
    "gc.collect()"
   ]
  },
  {
   "cell_type": "code",
   "execution_count": 24,
   "metadata": {},
   "outputs": [
    {
     "name": "stdout",
     "output_type": "stream",
     "text": [
      "Epoch 1/40\n",
      "500/500 [==============================] - 496s 992ms/step - loss: 0.3381 - val_loss: 0.2803\n",
      "Epoch 2/40\n",
      "500/500 [==============================] - 487s 973ms/step - loss: 0.3130 - val_loss: 0.2831\n",
      "Epoch 3/40\n",
      "500/500 [==============================] - 487s 973ms/step - loss: 0.3067 - val_loss: 0.2738\n",
      "Epoch 4/40\n",
      "500/500 [==============================] - 487s 973ms/step - loss: 0.2994 - val_loss: 0.2711\n",
      "Epoch 5/40\n",
      "500/500 [==============================] - 487s 975ms/step - loss: 0.2971 - val_loss: 0.2739\n",
      "Epoch 6/40\n",
      "500/500 [==============================] - 486s 973ms/step - loss: 0.2943 - val_loss: 0.2660\n",
      "Epoch 7/40\n",
      "500/500 [==============================] - 487s 974ms/step - loss: 0.2909 - val_loss: 0.2660\n",
      "Epoch 8/40\n",
      "500/500 [==============================] - 487s 975ms/step - loss: 0.2864 - val_loss: 0.2677\n",
      "Epoch 9/40\n",
      "500/500 [==============================] - 487s 974ms/step - loss: 0.2847 - val_loss: 0.2656\n",
      "Epoch 10/40\n",
      "500/500 [==============================] - 488s 976ms/step - loss: 0.2842 - val_loss: 0.2716\n",
      "Epoch 11/40\n",
      "500/500 [==============================] - 488s 975ms/step - loss: 0.2819 - val_loss: 0.2676\n",
      "Epoch 12/40\n",
      "500/500 [==============================] - 487s 974ms/step - loss: 0.2793 - val_loss: 0.2650\n",
      "Epoch 13/40\n",
      "500/500 [==============================] - 487s 974ms/step - loss: 0.2776 - val_loss: 0.2645\n",
      "Epoch 14/40\n",
      "500/500 [==============================] - 487s 974ms/step - loss: 0.2764 - val_loss: 0.2658\n",
      "Epoch 15/40\n",
      "500/500 [==============================] - 487s 975ms/step - loss: 0.2738 - val_loss: 0.2652\n",
      "Epoch 16/40\n",
      "500/500 [==============================] - 487s 974ms/step - loss: 0.2727 - val_loss: 0.2631\n",
      "Epoch 17/40\n",
      "500/500 [==============================] - 487s 973ms/step - loss: 0.2715 - val_loss: 0.2672\n",
      "Epoch 18/40\n",
      "500/500 [==============================] - 487s 975ms/step - loss: 0.2703 - val_loss: 0.2684\n",
      "Epoch 19/40\n",
      "500/500 [==============================] - 487s 975ms/step - loss: 0.2707 - val_loss: 0.2656\n",
      "Epoch 20/40\n",
      "500/500 [==============================] - 487s 974ms/step - loss: 0.2692 - val_loss: 0.2654\n",
      "Epoch 21/40\n",
      "500/500 [==============================] - 487s 974ms/step - loss: 0.2689 - val_loss: 0.2684\n",
      "Epoch 22/40\n",
      "500/500 [==============================] - 487s 974ms/step - loss: 0.2664 - val_loss: 0.2687\n",
      "Epoch 23/40\n",
      "500/500 [==============================] - 487s 974ms/step - loss: 0.2651 - val_loss: 0.2641\n",
      "Epoch 24/40\n",
      "500/500 [==============================] - 487s 974ms/step - loss: 0.2651 - val_loss: 0.2743\n",
      "Epoch 25/40\n",
      "500/500 [==============================] - 487s 975ms/step - loss: 0.2624 - val_loss: 0.2642\n",
      "Epoch 26/40\n",
      "500/500 [==============================] - 487s 974ms/step - loss: 0.2636 - val_loss: 0.2709\n",
      "Epoch 27/40\n",
      "500/500 [==============================] - 487s 974ms/step - loss: 0.2633 - val_loss: 0.2690\n",
      "Epoch 28/40\n",
      "500/500 [==============================] - 487s 974ms/step - loss: 0.2606 - val_loss: 0.2672\n",
      "Epoch 29/40\n",
      "500/500 [==============================] - 487s 975ms/step - loss: 0.2605 - val_loss: 0.2658\n",
      "Epoch 30/40\n",
      "500/500 [==============================] - 487s 974ms/step - loss: 0.2599 - val_loss: 0.2659\n",
      "Epoch 31/40\n",
      "500/500 [==============================] - 488s 975ms/step - loss: 0.2584 - val_loss: 0.2662\n",
      "Epoch 32/40\n",
      "500/500 [==============================] - 487s 975ms/step - loss: 0.2578 - val_loss: 0.2699\n",
      "Epoch 33/40\n",
      "500/500 [==============================] - 487s 973ms/step - loss: 0.2589 - val_loss: 0.2658\n",
      "Epoch 34/40\n",
      "500/500 [==============================] - 488s 976ms/step - loss: 0.2571 - val_loss: 0.2680\n",
      "Epoch 35/40\n",
      "500/500 [==============================] - 487s 974ms/step - loss: 0.2558 - val_loss: 0.2686\n",
      "Epoch 36/40\n",
      "500/500 [==============================] - 488s 975ms/step - loss: 0.2553 - val_loss: 0.2673\n",
      "Epoch 37/40\n",
      "500/500 [==============================] - 487s 975ms/step - loss: 0.2554 - val_loss: 0.2647\n",
      "Epoch 38/40\n",
      "500/500 [==============================] - 487s 975ms/step - loss: 0.2543 - val_loss: 0.2660\n",
      "Epoch 39/40\n",
      "500/500 [==============================] - 487s 975ms/step - loss: 0.2545 - val_loss: 0.2660\n",
      "Epoch 40/40\n",
      "500/500 [==============================] - 487s 974ms/step - loss: 0.2537 - val_loss: 0.2706\n"
     ]
    }
   ],
   "source": [
    "from keras.models import Sequential\n",
    "from keras import layers\n",
    "from keras.optimizers import RMSprop\n",
    "\n",
    "model = Sequential()\n",
    "model.add(layers.GRU(32,\n",
    "                     dropout=0.1,\n",
    "                     recurrent_dropout=0.5,\n",
    "                     return_sequences=True,\n",
    "                     input_shape=(None, float_data.shape[-1])))\n",
    "model.add(layers.GRU(64, activation='relu',\n",
    "                     dropout=0.1,\n",
    "                     recurrent_dropout=0.5))\n",
    "model.add(layers.Dense(1))\n",
    "\n",
    "model.compile(optimizer=RMSprop(), loss='mae')\n",
    "history = model.fit_generator(train_gen,\n",
    "                              steps_per_epoch=500,\n",
    "                              epochs=40,\n",
    "                              validation_data=val_gen,\n",
    "                              validation_steps=val_steps)"
   ]
  },
  {
   "cell_type": "code",
   "execution_count": 25,
   "metadata": {},
   "outputs": [
    {
     "data": {
      "image/png": "[encoded data removed]",
      "text/plain": [
       "<Figure size 432x288 with 1 Axes>"
      ]
     },
     "metadata": {
      "needs_background": "light"
     },
     "output_type": "display_data"
    }
   ],
   "source": [
    "import matplotlib.pyplot as plt\n",
    "\n",
    "plt.clf()\n",
    "\n",
    "loss = history.history['loss']\n",
    "val_loss = history.history['val_loss']\n",
    "\n",
    "epochs = range(1, len(loss) + 1)\n",
    "\n",
    "plt.plot(epochs, loss, 'bo', label='Training loss')\n",
    "plt.plot(epochs, val_loss, 'b', label='Validation loss')\n",
    "plt.title('Training and validation loss')\n",
    "plt.legend()\n",
    "\n",
    "plt.show()"
   ]
  },
  {
   "cell_type": "code",
   "execution_count": 26,
   "metadata": {},
   "outputs": [
    {
     "data": {
      "text/plain": [
       "2737"
      ]
     },
     "execution_count": 26,
     "metadata": {},
     "output_type": "execute_result"
    }
   ],
   "source": [
    "del history\n",
    "del model\n",
    "gc.collect()"
   ]
  },
  {
   "cell_type": "code",
   "execution_count": 27,
   "metadata": {},
   "outputs": [],
   "source": [
    "def reverse_order_generator(data, lookback, delay, min_index, max_index, shuffle=False, batch_size=128, step=6):\n",
    "    if max_index is None:\n",
    "        max_index = len(data) - delay - 1\n",
    "    i = min_index + lookback\n",
    "    while 1:\n",
    "        if shuffle:\n",
    "            rows = np.random.randint(min_index + lookback, max_index, size=batch_size)\n",
    "        else:\n",
    "            if i + batch_size >= max_index:\n",
    "                i = min_index + lookback\n",
    "            rows = np.arange(i, min(i + batch_size, max_index))\n",
    "            i += len(rows)\n",
    "            \n",
    "        samples = np.zeros((len(rows),\n",
    "                            lookback // step,\n",
    "                            data.shape[-1]))\n",
    "        targets = np.zeros((len(rows),))\n",
    "        for j, row in enumerate(rows):\n",
    "            indices = range(rows[j] - lookback, rows[j], step)\n",
    "            samples[j] = data[indices]\n",
    "            targets[j] = data[rows[j] + delay][1]\n",
    "        yield samples[:, ::-1, :], targets\n",
    "    \n",
    "train_gen_reverse = reverse_order_generator(\n",
    "    float_data,\n",
    "    lookback=lookback,\n",
    "    delay=delay,\n",
    "    min_index=0,\n",
    "    max_index=200000,\n",
    "    shuffle=True,\n",
    "    step=step, \n",
    "    batch_size=batch_size)\n",
    "val_gen_reverse = reverse_order_generator(\n",
    "    float_data,\n",
    "    lookback=lookback,\n",
    "    delay=delay,\n",
    "    min_index=200001,\n",
    "    max_index=300000,\n",
    "    step=step,\n",
    "    batch_size=batch_size)"
   ]
  },
  {
   "cell_type": "code",
   "execution_count": 28,
   "metadata": {},
   "outputs": [
    {
     "name": "stdout",
     "output_type": "stream",
     "text": [
      "Epoch 1/20\n",
      "500/500 [==============================] - 212s 424ms/step - loss: 0.4806 - val_loss: 0.4793\n",
      "Epoch 2/20\n",
      "500/500 [==============================] - 211s 422ms/step - loss: 0.4519 - val_loss: 0.4914\n",
      "Epoch 3/20\n",
      "500/500 [==============================] - 211s 421ms/step - loss: 0.4149 - val_loss: 0.4652\n",
      "Epoch 4/20\n",
      "500/500 [==============================] - 210s 420ms/step - loss: 0.3893 - val_loss: 0.4628\n",
      "Epoch 5/20\n",
      "500/500 [==============================] - 211s 422ms/step - loss: 0.3666 - val_loss: 0.4661\n",
      "Epoch 6/20\n",
      "500/500 [==============================] - 211s 422ms/step - loss: 0.3451 - val_loss: 0.4623\n",
      "Epoch 7/20\n",
      "500/500 [==============================] - 211s 421ms/step - loss: 0.3233 - val_loss: 0.4676\n",
      "Epoch 8/20\n",
      "500/500 [==============================] - 211s 422ms/step - loss: 0.3071 - val_loss: 0.4500\n",
      "Epoch 9/20\n",
      "500/500 [==============================] - 210s 421ms/step - loss: 0.2928 - val_loss: 0.4717\n",
      "Epoch 10/20\n",
      "500/500 [==============================] - 211s 422ms/step - loss: 0.2805 - val_loss: 0.4796\n",
      "Epoch 11/20\n",
      "500/500 [==============================] - 211s 422ms/step - loss: 0.2725 - val_loss: 0.4888\n",
      "Epoch 12/20\n",
      "500/500 [==============================] - 211s 422ms/step - loss: 0.2656 - val_loss: 0.4643\n",
      "Epoch 13/20\n",
      "500/500 [==============================] - 212s 423ms/step - loss: 0.2595 - val_loss: 0.4754\n",
      "Epoch 14/20\n",
      "500/500 [==============================] - 211s 421ms/step - loss: 0.2526 - val_loss: 0.4890\n",
      "Epoch 15/20\n",
      "500/500 [==============================] - 211s 421ms/step - loss: 0.2498 - val_loss: 0.4823\n",
      "Epoch 16/20\n",
      "500/500 [==============================] - 211s 422ms/step - loss: 0.2451 - val_loss: 0.4879\n",
      "Epoch 17/20\n",
      "500/500 [==============================] - 211s 421ms/step - loss: 0.2394 - val_loss: 0.4923\n",
      "Epoch 18/20\n",
      "500/500 [==============================] - 211s 422ms/step - loss: 0.2361 - val_loss: 0.4960\n",
      "Epoch 19/20\n",
      "500/500 [==============================] - 211s 422ms/step - loss: 0.2310 - val_loss: 0.4839\n",
      "Epoch 20/20\n",
      "500/500 [==============================] - 211s 422ms/step - loss: 0.2291 - val_loss: 0.5142\n"
     ]
    }
   ],
   "source": [
    "model = Sequential()\n",
    "model.add(layers.GRU(32, input_shape=(None, float_data.shape[-1])))\n",
    "model.add(layers.Dense(1))\n",
    "\n",
    "model.compile(optimizer=RMSprop(), loss='mae')\n",
    "history = model.fit_generator(train_gen_reverse,\n",
    "                              steps_per_epoch=500,\n",
    "                              epochs=20,\n",
    "                              validation_data=val_gen_reverse,\n",
    "                              validation_steps=val_steps)"
   ]
  },
  {
   "cell_type": "code",
   "execution_count": 29,
   "metadata": {},
   "outputs": [
    {
     "data": {
      "text/plain": [
       "<Figure size 432x288 with 0 Axes>"
      ]
     },
     "metadata": {},
     "output_type": "display_data"
    },
    {
     "data": {
      "image/png": "[encoded data removed]",
      "text/plain": [
       "<Figure size 432x288 with 1 Axes>"
      ]
     },
     "metadata": {
      "needs_background": "light"
     },
     "output_type": "display_data"
    }
   ],
   "source": [
    "import matplotlib.pyplot as plt\n",
    "\n",
    "plt.clf()\n",
    "\n",
    "loss = history.history['loss']\n",
    "val_loss = history.history['val_loss']\n",
    "\n",
    "epochs = range(len(loss))\n",
    "\n",
    "plt.figure()\n",
    "\n",
    "plt.plot(epochs, loss, 'bo', label='Training loss')\n",
    "plt.plot(epochs, val_loss, 'b', label='Validation loss')\n",
    "plt.title('Training and validation loss')\n",
    "plt.legend()\n",
    "\n",
    "plt.show()"
   ]
  },
  {
   "cell_type": "code",
   "execution_count": 30,
   "metadata": {},
   "outputs": [
    {
     "data": {
      "text/plain": [
       "3053"
      ]
     },
     "execution_count": 30,
     "metadata": {},
     "output_type": "execute_result"
    }
   ],
   "source": [
    "del history\n",
    "del model\n",
    "gc.collect()"
   ]
  },
  {
   "cell_type": "code",
   "execution_count": 32,
   "metadata": {},
   "outputs": [
    {
     "name": "stdout",
     "output_type": "stream",
     "text": [
      "Train on 20000 samples, validate on 5000 samples\n",
      "Epoch 1/10\n",
      "20000/20000 [==============================] - 149s 7ms/step - loss: 0.4922 - acc: 0.7643 - val_loss: 0.6137 - val_acc: 0.7658\n",
      "Epoch 2/10\n",
      "20000/20000 [==============================] - 150s 8ms/step - loss: 0.3096 - acc: 0.8835 - val_loss: 0.4358 - val_acc: 0.8360\n",
      "Epoch 3/10\n",
      "20000/20000 [==============================] - 150s 8ms/step - loss: 0.2608 - acc: 0.9026 - val_loss: 0.3581 - val_acc: 0.8428\n",
      "Epoch 4/10\n",
      "20000/20000 [==============================] - 150s 7ms/step - loss: 0.2207 - acc: 0.9182 - val_loss: 0.3691 - val_acc: 0.8780\n",
      "Epoch 5/10\n",
      "20000/20000 [==============================] - 150s 8ms/step - loss: 0.1938 - acc: 0.9324 - val_loss: 0.4741 - val_acc: 0.8262\n",
      "Epoch 6/10\n",
      "20000/20000 [==============================] - 140s 7ms/step - loss: 0.1760 - acc: 0.9365 - val_loss: 0.3770 - val_acc: 0.8796\n",
      "Epoch 7/10\n",
      "20000/20000 [==============================] - 140s 7ms/step - loss: 0.1600 - acc: 0.9465 - val_loss: 0.5588 - val_acc: 0.8524\n",
      "Epoch 8/10\n",
      "20000/20000 [==============================] - 146s 7ms/step - loss: 0.1507 - acc: 0.9506 - val_loss: 0.3967 - val_acc: 0.8714\n",
      "Epoch 9/10\n",
      "20000/20000 [==============================] - 151s 8ms/step - loss: 0.1282 - acc: 0.9569 - val_loss: 0.4485 - val_acc: 0.8744\n",
      "Epoch 10/10\n",
      "20000/20000 [==============================] - 151s 8ms/step - loss: 0.1189 - acc: 0.9610 - val_loss: 0.4098 - val_acc: 0.8584\n"
     ]
    }
   ],
   "source": [
    "from keras.datasets import imdb\n",
    "from keras.preprocessing import sequence\n",
    "from keras import layers\n",
    "from keras.models import Sequential\n",
    "\n",
    "max_features = 10000\n",
    "maxlen = 500\n",
    "(x_train, y_train), (x_test, y_test) = imdb.load_data(num_words=max_features)\n",
    "\n",
    "x_train = [x[::-1] for x in x_train]\n",
    "x_test = [x[::-1] for x in x_test]\n",
    "\n",
    "x_train = sequence.pad_sequences(x_train, maxlen=maxlen)\n",
    "x_test = sequence.pad_sequences(x_test, maxlen=maxlen)\n",
    "\n",
    "model=Sequential()\n",
    "model.add(layers.Embedding(max_features, 128))\n",
    "model.add(layers.LSTM(32))\n",
    "model.add(layers.Dense(1, activation='sigmoid'))\n",
    "\n",
    "model.compile(optimizer='rmsprop',\n",
    "              loss='binary_crossentropy',\n",
    "              metrics=['acc'])\n",
    "history = model.fit(x_train, y_train,\n",
    "                    epochs=10,\n",
    "                    batch_size=128,\n",
    "                    validation_split=0.2)"
   ]
  },
  {
   "cell_type": "code",
   "execution_count": 33,
   "metadata": {},
   "outputs": [],
   "source": [
    "from keras import backend as K\n",
    "K.clear_session()"
   ]
  },
  {
   "cell_type": "code",
   "execution_count": 34,
   "metadata": {},
   "outputs": [
    {
     "name": "stdout",
     "output_type": "stream",
     "text": [
      "Train on 20000 samples, validate on 5000 samples\n",
      "Epoch 1/10\n",
      "20000/20000 [==============================] - 304s 15ms/step - loss: 0.5573 - acc: 0.7187 - val_loss: 0.4583 - val_acc: 0.7966\n",
      "Epoch 2/10\n",
      "20000/20000 [==============================] - 302s 15ms/step - loss: 0.3242 - acc: 0.8756 - val_loss: 0.3377 - val_acc: 0.8838\n",
      "Epoch 3/10\n",
      "20000/20000 [==============================] - 305s 15ms/step - loss: 0.2641 - acc: 0.9014 - val_loss: 0.3901 - val_acc: 0.8762\n",
      "Epoch 4/10\n",
      "20000/20000 [==============================] - 303s 15ms/step - loss: 0.2315 - acc: 0.9194 - val_loss: 0.3165 - val_acc: 0.8822\n",
      "Epoch 5/10\n",
      "20000/20000 [==============================] - 302s 15ms/step - loss: 0.2111 - acc: 0.9247 - val_loss: 0.3255 - val_acc: 0.8860\n",
      "Epoch 6/10\n",
      "20000/20000 [==============================] - 305s 15ms/step - loss: 0.1880 - acc: 0.9365 - val_loss: 0.4720 - val_acc: 0.8230\n",
      "Epoch 7/10\n",
      "20000/20000 [==============================] - 304s 15ms/step - loss: 0.1690 - acc: 0.9403 - val_loss: 0.3449 - val_acc: 0.8824\n",
      "Epoch 8/10\n",
      "20000/20000 [==============================] - 301s 15ms/step - loss: 0.1536 - acc: 0.9467 - val_loss: 0.3910 - val_acc: 0.8558\n",
      "Epoch 9/10\n",
      "20000/20000 [==============================] - 302s 15ms/step - loss: 0.1451 - acc: 0.9487 - val_loss: 0.3532 - val_acc: 0.8620\n",
      "Epoch 10/10\n",
      "20000/20000 [==============================] - 301s 15ms/step - loss: 0.1353 - acc: 0.9546 - val_loss: 0.3599 - val_acc: 0.8736\n"
     ]
    }
   ],
   "source": [
    "model = Sequential()\n",
    "model.add(layers.Embedding(max_features, 32))\n",
    "model.add(layers.Bidirectional(layers.LSTM(32)))\n",
    "model.add(layers.Dense(1, activation='sigmoid'))\n",
    "\n",
    "model.compile(optimizer='rmsprop', loss='binary_crossentropy', metrics=['acc'])\n",
    "history = model.fit(x_train, y_train,\n",
    "                    epochs=10,\n",
    "                    batch_size=128,\n",
    "                    validation_split=0.2)"
   ]
  },
  {
   "cell_type": "code",
   "execution_count": 35,
   "metadata": {},
   "outputs": [
    {
     "data": {
      "text/plain": [
       "4764"
      ]
     },
     "execution_count": 35,
     "metadata": {},
     "output_type": "execute_result"
    }
   ],
   "source": [
    "del history\n",
    "del model\n",
    "gc.collect()"
   ]
  },
  {
   "cell_type": "code",
   "execution_count": 36,
   "metadata": {},
   "outputs": [
    {
     "name": "stdout",
     "output_type": "stream",
     "text": [
      "Epoch 1/40\n",
      "500/500 [==============================] - 433s 867ms/step - loss: 0.2930 - val_loss: 0.2739\n",
      "Epoch 2/40\n",
      "500/500 [==============================] - 432s 864ms/step - loss: 0.2743 - val_loss: 0.2708\n",
      "Epoch 3/40\n",
      "500/500 [==============================] - 432s 864ms/step - loss: 0.2667 - val_loss: 0.2692\n",
      "Epoch 4/40\n",
      "500/500 [==============================] - 427s 854ms/step - loss: 0.2627 - val_loss: 0.2722\n",
      "Epoch 5/40\n",
      "500/500 [==============================] - 417s 833ms/step - loss: 0.2554 - val_loss: 0.2720\n",
      "Epoch 6/40\n",
      "500/500 [==============================] - 430s 861ms/step - loss: 0.2489 - val_loss: 0.2726\n",
      "Epoch 7/40\n",
      "500/500 [==============================] - 430s 861ms/step - loss: 0.2453 - val_loss: 0.2804\n",
      "Epoch 8/40\n",
      "500/500 [==============================] - 430s 860ms/step - loss: 0.2399 - val_loss: 0.2831\n",
      "Epoch 9/40\n",
      "500/500 [==============================] - 425s 851ms/step - loss: 0.2337 - val_loss: 0.2815\n",
      "Epoch 10/40\n",
      "500/500 [==============================] - 421s 843ms/step - loss: 0.2282 - val_loss: 0.2830\n",
      "Epoch 11/40\n",
      "500/500 [==============================] - 405s 811ms/step - loss: 0.2225 - val_loss: 0.2874\n",
      "Epoch 12/40\n",
      "500/500 [==============================] - 407s 814ms/step - loss: 0.2161 - val_loss: 0.2920\n",
      "Epoch 13/40\n",
      "500/500 [==============================] - 404s 808ms/step - loss: 0.2098 - val_loss: 0.2960\n",
      "Epoch 14/40\n",
      "500/500 [==============================] - 404s 808ms/step - loss: 0.2064 - val_loss: 0.3014\n",
      "Epoch 15/40\n",
      "500/500 [==============================] - 404s 808ms/step - loss: 0.2005 - val_loss: 0.3033\n",
      "Epoch 16/40\n",
      "500/500 [==============================] - 404s 808ms/step - loss: 0.1959 - val_loss: 0.3070\n",
      "Epoch 17/40\n",
      "500/500 [==============================] - 403s 806ms/step - loss: 0.1906 - val_loss: 0.3055\n",
      "Epoch 18/40\n",
      "500/500 [==============================] - 404s 808ms/step - loss: 0.1889 - val_loss: 0.3139\n",
      "Epoch 19/40\n",
      "500/500 [==============================] - 403s 806ms/step - loss: 0.1846 - val_loss: 0.3117\n",
      "Epoch 20/40\n",
      "500/500 [==============================] - 404s 808ms/step - loss: 0.1804 - val_loss: 0.3154\n",
      "Epoch 21/40\n",
      "500/500 [==============================] - 404s 807ms/step - loss: 0.1768 - val_loss: 0.3176\n",
      "Epoch 22/40\n",
      "500/500 [==============================] - 404s 807ms/step - loss: 0.1741 - val_loss: 0.3175\n",
      "Epoch 23/40\n",
      "500/500 [==============================] - 404s 808ms/step - loss: 0.1695 - val_loss: 0.3186\n",
      "Epoch 24/40\n",
      "500/500 [==============================] - 403s 807ms/step - loss: 0.1668 - val_loss: 0.3222\n",
      "Epoch 25/40\n",
      "500/500 [==============================] - 403s 807ms/step - loss: 0.1645 - val_loss: 0.3197\n",
      "Epoch 26/40\n",
      "500/500 [==============================] - 403s 807ms/step - loss: 0.1621 - val_loss: 0.3222\n",
      "Epoch 27/40\n",
      "500/500 [==============================] - 404s 808ms/step - loss: 0.1599 - val_loss: 0.3286\n",
      "Epoch 28/40\n",
      "500/500 [==============================] - 404s 807ms/step - loss: 0.1561 - val_loss: 0.3247\n",
      "Epoch 29/40\n",
      "500/500 [==============================] - 404s 808ms/step - loss: 0.1552 - val_loss: 0.3323\n",
      "Epoch 30/40\n",
      "500/500 [==============================] - 404s 807ms/step - loss: 0.1538 - val_loss: 0.3289\n",
      "Epoch 31/40\n",
      "500/500 [==============================] - 404s 808ms/step - loss: 0.1521 - val_loss: 0.3286\n",
      "Epoch 32/40\n",
      "500/500 [==============================] - 405s 809ms/step - loss: 0.1498 - val_loss: 0.3343\n",
      "Epoch 33/40\n",
      "500/500 [==============================] - 404s 808ms/step - loss: 0.1468 - val_loss: 0.3352\n",
      "Epoch 34/40\n",
      "500/500 [==============================] - 404s 807ms/step - loss: 0.1464 - val_loss: 0.3357\n",
      "Epoch 35/40\n",
      "500/500 [==============================] - 403s 806ms/step - loss: 0.1452 - val_loss: 0.3358\n",
      "Epoch 36/40\n",
      "500/500 [==============================] - 404s 809ms/step - loss: 0.1450 - val_loss: 0.3389\n",
      "Epoch 37/40\n",
      "500/500 [==============================] - 404s 807ms/step - loss: 0.1423 - val_loss: 0.3381\n",
      "Epoch 38/40\n",
      "500/500 [==============================] - 404s 808ms/step - loss: 0.1406 - val_loss: 0.3391\n",
      "Epoch 39/40\n",
      "500/500 [==============================] - 404s 809ms/step - loss: 0.1395 - val_loss: 0.3406\n",
      "Epoch 40/40\n",
      "500/500 [==============================] - 404s 808ms/step - loss: 0.1390 - val_loss: 0.3468\n"
     ]
    }
   ],
   "source": [
    "from keras.models import Sequential\n",
    "from keras import layers\n",
    "from keras.optimizers import RMSprop\n",
    "\n",
    "model=Sequential()\n",
    "model.add(layers.Bidirectional(layers.GRU(32), input_shape=(None, float_data.shape[-1])))\n",
    "model.add(layers.Dense(1))\n",
    "\n",
    "model.compile(optimizer=RMSprop(), loss='mae')\n",
    "history = model.fit_generator(train_gen,\n",
    "                              steps_per_epoch=500,\n",
    "                              epochs=40,\n",
    "                              validation_data=val_gen,\n",
    "                              validation_steps=val_steps)"
   ]
  },
  {
   "cell_type": "code",
   "execution_count": 37,
   "metadata": {},
   "outputs": [
    {
     "data": {
      "image/png": "[encoded data removed]",
      "text/plain": [
       "<Figure size 432x288 with 1 Axes>"
      ]
     },
     "metadata": {
      "needs_background": "light"
     },
     "output_type": "display_data"
    }
   ],
   "source": [
    "import matplotlib.pyplot as plt\n",
    "\n",
    "plt.clf()\n",
    "\n",
    "loss = history.history['loss']\n",
    "val_loss = history.history['val_loss']\n",
    "\n",
    "epochs = range(1, len(loss) + 1)\n",
    "\n",
    "plt.plot(epochs, loss, 'bo', label='Training loss')\n",
    "plt.plot(epochs, val_loss, 'b', label='Validation loss')\n",
    "plt.title('Training and validation loss')\n",
    "plt.legend()\n",
    "\n",
    "plt.show()"
   ]
  },
  {
   "cell_type": "code",
   "execution_count": 38,
   "metadata": {},
   "outputs": [
    {
     "data": {
      "text/plain": [
       "2736"
      ]
     },
     "execution_count": 38,
     "metadata": {},
     "output_type": "execute_result"
    }
   ],
   "source": [
    "del history\n",
    "del model\n",
    "gc.collect()"
   ]
  },
  {
   "cell_type": "code",
   "execution_count": 3,
   "metadata": {},
   "outputs": [],
   "source": [
    "from keras.datasets import imdb\n",
    "from keras.preprocessing import sequence\n",
    "from keras import layers\n",
    "from keras.models import Sequential\n",
    "\n",
    "max_features = 10000\n",
    "maxlen = 500\n",
    "(x_train, y_train), (x_test, y_test) = imdb.load_data(num_words=max_features)\n",
    "\n",
    "x_train = [x[::-1] for x in x_train]\n",
    "x_test = [x[::-1] for x in x_test]\n",
    "\n",
    "x_train = sequence.pad_sequences(x_train, maxlen=maxlen)\n",
    "x_test = sequence.pad_sequences(x_test, maxlen=maxlen)"
   ]
  },
  {
   "cell_type": "code",
   "execution_count": 4,
   "metadata": {},
   "outputs": [
    {
     "name": "stdout",
     "output_type": "stream",
     "text": [
      "_________________________________________________________________\n",
      "Layer (type)                 Output Shape              Param #   \n",
      "=================================================================\n",
      "embedding_1 (Embedding)      (None, 500, 128)          1280000   \n",
      "_________________________________________________________________\n",
      "conv1d_1 (Conv1D)            (None, 494, 32)           28704     \n",
      "_________________________________________________________________\n",
      "max_pooling1d_1 (MaxPooling1 (None, 98, 32)            0         \n",
      "_________________________________________________________________\n",
      "conv1d_2 (Conv1D)            (None, 92, 32)            7200      \n",
      "_________________________________________________________________\n",
      "global_max_pooling1d_1 (Glob (None, 32)                0         \n",
      "_________________________________________________________________\n",
      "dense_1 (Dense)              (None, 1)                 33        \n",
      "=================================================================\n",
      "Total params: 1,315,937\n",
      "Trainable params: 1,315,937\n",
      "Non-trainable params: 0\n",
      "_________________________________________________________________\n",
      "Train on 20000 samples, validate on 5000 samples\n",
      "Epoch 1/10\n",
      "20000/20000 [==============================] - 6s 322us/step - loss: 0.8310 - acc: 0.5098 - val_loss: 0.6869 - val_acc: 0.5606\n",
      "Epoch 2/10\n",
      "20000/20000 [==============================] - 4s 200us/step - loss: 0.6692 - acc: 0.6465 - val_loss: 0.6622 - val_acc: 0.6584\n",
      "Epoch 3/10\n",
      "20000/20000 [==============================] - 4s 198us/step - loss: 0.6204 - acc: 0.7581 - val_loss: 0.6027 - val_acc: 0.7466\n",
      "Epoch 4/10\n",
      "20000/20000 [==============================] - 4s 197us/step - loss: 0.5168 - acc: 0.8152 - val_loss: 0.4731 - val_acc: 0.8078\n",
      "Epoch 5/10\n",
      "20000/20000 [==============================] - 4s 199us/step - loss: 0.4001 - acc: 0.8509 - val_loss: 0.4211 - val_acc: 0.8296\n",
      "Epoch 6/10\n",
      "20000/20000 [==============================] - 4s 200us/step - loss: 0.3351 - acc: 0.8672 - val_loss: 0.3923 - val_acc: 0.8410\n",
      "Epoch 7/10\n",
      "20000/20000 [==============================] - 4s 200us/step - loss: 0.2910 - acc: 0.8632 - val_loss: 0.4356 - val_acc: 0.8166\n",
      "Epoch 8/10\n",
      "20000/20000 [==============================] - 4s 203us/step - loss: 0.2660 - acc: 0.8400 - val_loss: 0.4149 - val_acc: 0.7952\n",
      "Epoch 9/10\n",
      "20000/20000 [==============================] - 4s 198us/step - loss: 0.2394 - acc: 0.8179 - val_loss: 0.4229 - val_acc: 0.7726\n",
      "Epoch 10/10\n",
      "20000/20000 [==============================] - 4s 198us/step - loss: 0.2190 - acc: 0.7969 - val_loss: 0.4575 - val_acc: 0.7392\n"
     ]
    }
   ],
   "source": [
    "from keras.models import Sequential\n",
    "from keras import layers\n",
    "from keras.optimizers import RMSprop\n",
    "\n",
    "model = Sequential()\n",
    "model.add(layers.Embedding(max_features, 128, input_length=maxlen))\n",
    "model.add(layers.Conv1D(32, 7, activation='relu'))\n",
    "model.add(layers.MaxPooling1D(5))\n",
    "model.add(layers.Conv1D(32, 7, activation='relu'))\n",
    "model.add(layers.GlobalMaxPooling1D())\n",
    "model.add(layers.Dense(1))\n",
    "\n",
    "model.summary()\n",
    "\n",
    "model.compile(optimizer=RMSprop(lr=1e-4),\n",
    "              loss='binary_crossentropy',\n",
    "              metrics=['acc'])\n",
    "history = model.fit(x_train, y_train,\n",
    "                    epochs=10,\n",
    "                    batch_size=128,\n",
    "                    validation_split=0.2)"
   ]
  },
  {
   "cell_type": "code",
   "execution_count": 5,
   "metadata": {},
   "outputs": [
    {
     "data": {
      "image/png": "[encoded data removed]",
      "text/plain": [
       "<Figure size 432x288 with 1 Axes>"
      ]
     },
     "metadata": {
      "needs_background": "light"
     },
     "output_type": "display_data"
    },
    {
     "data": {
      "image/png": "[encoded data removed]",
      "text/plain": [
       "<Figure size 432x288 with 1 Axes>"
      ]
     },
     "metadata": {
      "needs_background": "light"
     },
     "output_type": "display_data"
    }
   ],
   "source": [
    "import matplotlib.pyplot as plt\n",
    "\n",
    "plt.clf()\n",
    "\n",
    "acc = history.history['acc']\n",
    "val_acc = history.history['val_acc']\n",
    "loss = history.history['loss']\n",
    "val_loss = history.history['val_loss']\n",
    "\n",
    "epochs = range(1, len(acc) + 1)\n",
    "\n",
    "plt.plot(epochs, acc, 'bo', label='Training acc')\n",
    "plt.plot(epochs, val_acc, 'b', label='Validation acc')\n",
    "plt.title('Training and validation accuracy')\n",
    "plt.legend()\n",
    "\n",
    "plt.figure()\n",
    "\n",
    "plt.plot(epochs, loss, 'bo', label='Training loss')\n",
    "plt.plot(epochs, val_loss, 'b', label='Validation loss')\n",
    "plt.title('Training and validation loss')\n",
    "plt.legend()\n",
    "\n",
    "plt.show()"
   ]
  },
  {
   "cell_type": "code",
   "execution_count": 24,
   "metadata": {},
   "outputs": [
    {
     "name": "stdout",
     "output_type": "stream",
     "text": [
      "_________________________________________________________________\n",
      "Layer (type)                 Output Shape              Param #   \n",
      "=================================================================\n",
      "conv1d_5 (Conv1D)            (None, None, 32)          2272      \n",
      "_________________________________________________________________\n",
      "max_pooling1d_3 (MaxPooling1 (None, None, 32)          0         \n",
      "_________________________________________________________________\n",
      "conv1d_6 (Conv1D)            (None, None, 32)          5152      \n",
      "_________________________________________________________________\n",
      "global_max_pooling1d_3 (Glob (None, 32)                0         \n",
      "_________________________________________________________________\n",
      "dense_3 (Dense)              (None, 1)                 33        \n",
      "=================================================================\n",
      "Total params: 7,457\n",
      "Trainable params: 7,457\n",
      "Non-trainable params: 0\n",
      "_________________________________________________________________\n",
      "Epoch 1/20\n",
      "500/500 [==============================] - 14s 28ms/step - loss: 0.4406 - val_loss: 0.4462\n",
      "Epoch 2/20\n",
      "500/500 [==============================] - 14s 27ms/step - loss: 0.3937 - val_loss: 0.4510\n",
      "Epoch 3/20\n",
      "500/500 [==============================] - 14s 27ms/step - loss: 0.3741 - val_loss: 0.4503\n",
      "Epoch 4/20\n",
      "500/500 [==============================] - 13s 27ms/step - loss: 0.3641 - val_loss: 0.4444\n",
      "Epoch 5/20\n",
      "500/500 [==============================] - 14s 27ms/step - loss: 0.3530 - val_loss: 0.4362\n",
      "Epoch 6/20\n",
      "500/500 [==============================] - 14s 27ms/step - loss: 0.3495 - val_loss: 0.4370\n",
      "Epoch 7/20\n",
      "500/500 [==============================] - 14s 27ms/step - loss: 0.3417 - val_loss: 0.4611\n",
      "Epoch 8/20\n",
      "500/500 [==============================] - 14s 27ms/step - loss: 0.3384 - val_loss: 0.4598\n",
      "Epoch 9/20\n",
      "500/500 [==============================] - 14s 27ms/step - loss: 0.3331 - val_loss: 0.4911\n",
      "Epoch 10/20\n",
      "500/500 [==============================] - 14s 27ms/step - loss: 0.3308 - val_loss: 0.4806\n",
      "Epoch 11/20\n",
      "500/500 [==============================] - 14s 27ms/step - loss: 0.3286 - val_loss: 0.4904\n",
      "Epoch 12/20\n",
      "500/500 [==============================] - 13s 27ms/step - loss: 0.3243 - val_loss: 0.4589\n",
      "Epoch 13/20\n",
      "500/500 [==============================] - 14s 27ms/step - loss: 0.3212 - val_loss: 0.4950\n",
      "Epoch 14/20\n",
      "500/500 [==============================] - 14s 27ms/step - loss: 0.3204 - val_loss: 0.4667\n",
      "Epoch 15/20\n",
      "500/500 [==============================] - 14s 27ms/step - loss: 0.3188 - val_loss: 0.4624\n",
      "Epoch 16/20\n",
      "500/500 [==============================] - 14s 27ms/step - loss: 0.3146 - val_loss: 0.4795\n",
      "Epoch 17/20\n",
      "500/500 [==============================] - 13s 27ms/step - loss: 0.3116 - val_loss: 0.4598\n",
      "Epoch 18/20\n",
      "500/500 [==============================] - 14s 27ms/step - loss: 0.3095 - val_loss: 0.4654\n",
      "Epoch 19/20\n",
      "500/500 [==============================] - 14s 27ms/step - loss: 0.3081 - val_loss: 0.4741\n",
      "Epoch 20/20\n",
      "500/500 [==============================] - 14s 27ms/step - loss: 0.3082 - val_loss: 0.5007\n"
     ]
    }
   ],
   "source": [
    "from keras.models import Sequential\n",
    "from keras import layers\n",
    "from keras.optimizers import RMSprop\n",
    "\n",
    "model = Sequential()\n",
    "model.add(layers.Conv1D(32, 5, activation='relu', input_shape=(None, float_data.shape[-1])))\n",
    "model.add(layers.MaxPooling1D(3))\n",
    "model.add(layers.Conv1D(32, 5, activation='relu'))\n",
    "model.add(layers.GlobalMaxPooling1D())\n",
    "model.add(layers.Dense(1))\n",
    "\n",
    "model.summary()\n",
    "\n",
    "model.compile(optimizer=RMSprop(), loss='mae')\n",
    "history = model.fit_generator(train_gen,\n",
    "                              steps_per_epoch=500,\n",
    "                              epochs=20,\n",
    "                              validation_data=val_gen,\n",
    "                              validation_steps=val_steps)"
   ]
  },
  {
   "cell_type": "code",
   "execution_count": 25,
   "metadata": {},
   "outputs": [
    {
     "data": {
      "image/png": "[encoded data removed]",
      "text/plain": [
       "<Figure size 432x288 with 1 Axes>"
      ]
     },
     "metadata": {
      "needs_background": "light"
     },
     "output_type": "display_data"
    }
   ],
   "source": [
    "import matplotlib.pyplot as plt\n",
    "\n",
    "plt.clf()\n",
    "\n",
    "loss = history.history['loss']\n",
    "val_loss = history.history['val_loss']\n",
    "\n",
    "epochs = range(1, len(loss) + 1)\n",
    "\n",
    "plt.plot(epochs, loss, 'bo', label='Training loss')\n",
    "plt.plot(epochs, val_loss, 'b', label='Validation loss')\n",
    "plt.title('Training and validation loss')\n",
    "plt.legend()\n",
    "\n",
    "plt.show()"
   ]
  },
  {
   "cell_type": "code",
   "execution_count": 26,
   "metadata": {},
   "outputs": [
    {
     "data": {
      "text/plain": [
       "4866"
      ]
     },
     "execution_count": 26,
     "metadata": {},
     "output_type": "execute_result"
    }
   ],
   "source": [
    "del history\n",
    "del model\n",
    "gc.collect()"
   ]
  },
  {
   "cell_type": "code",
   "execution_count": 27,
   "metadata": {},
   "outputs": [],
   "source": [
    "lookback = 1440\n",
    "step = 3\n",
    "delay = 144\n",
    "batch_size = 128\n",
    "\n",
    "train_gen = generator(float_data,\n",
    "                      lookback=lookback,\n",
    "                      delay=delay,\n",
    "                      min_index=0,\n",
    "                      max_index=200000,\n",
    "                      shuffle=True,\n",
    "                      step=step,\n",
    "                      batch_size=batch_size)\n",
    "val_gen = generator(float_data,\n",
    "                    lookback=lookback,\n",
    "                    delay=delay,\n",
    "                    min_index=200001,\n",
    "                    max_index=300000,\n",
    "                    step=step,\n",
    "                    batch_size=batch_size)\n",
    "test_gen = generator(float_data,\n",
    "                     lookback=lookback,\n",
    "                     delay=delay,\n",
    "                     min_index=300001,\n",
    "                     max_index=None,\n",
    "                     step=step,\n",
    "                     batch_size=batch_size)\n",
    "\n",
    "val_steps = (300000 - 200001 - lookback) // batch_size\n",
    "\n",
    "test_steps = (len(float_data) - 300001 - lookback) // batch_size"
   ]
  },
  {
   "cell_type": "code",
   "execution_count": 28,
   "metadata": {},
   "outputs": [
    {
     "name": "stdout",
     "output_type": "stream",
     "text": [
      "_________________________________________________________________\n",
      "Layer (type)                 Output Shape              Param #   \n",
      "=================================================================\n",
      "conv1d_7 (Conv1D)            (None, None, 32)          2272      \n",
      "_________________________________________________________________\n",
      "max_pooling1d_4 (MaxPooling1 (None, None, 32)          0         \n",
      "_________________________________________________________________\n",
      "conv1d_8 (Conv1D)            (None, None, 32)          5152      \n",
      "_________________________________________________________________\n",
      "gru_1 (GRU)                  (None, 32)                6240      \n",
      "_________________________________________________________________\n",
      "dense_4 (Dense)              (None, 1)                 33        \n",
      "=================================================================\n",
      "Total params: 13,697\n",
      "Trainable params: 13,697\n",
      "Non-trainable params: 0\n",
      "_________________________________________________________________\n",
      "Epoch 1/20\n",
      "500/500 [==============================] - 179s 359ms/step - loss: 0.3369 - val_loss: 0.2904\n",
      "Epoch 2/20\n",
      "500/500 [==============================] - 178s 357ms/step - loss: 0.3040 - val_loss: 0.2764\n",
      "Epoch 3/20\n",
      "500/500 [==============================] - 178s 357ms/step - loss: 0.2908 - val_loss: 0.2698\n",
      "Epoch 4/20\n",
      "500/500 [==============================] - 178s 356ms/step - loss: 0.2829 - val_loss: 0.2714\n",
      "Epoch 5/20\n",
      "500/500 [==============================] - 178s 355ms/step - loss: 0.2749 - val_loss: 0.2749\n",
      "Epoch 6/20\n",
      "500/500 [==============================] - 178s 356ms/step - loss: 0.2722 - val_loss: 0.2760\n",
      "Epoch 7/20\n",
      "500/500 [==============================] - 178s 356ms/step - loss: 0.2662 - val_loss: 0.2762\n",
      "Epoch 8/20\n",
      "500/500 [==============================] - 178s 356ms/step - loss: 0.2593 - val_loss: 0.2747\n",
      "Epoch 9/20\n",
      "500/500 [==============================] - 178s 357ms/step - loss: 0.2560 - val_loss: 0.2725\n",
      "Epoch 10/20\n",
      "500/500 [==============================] - 178s 356ms/step - loss: 0.2542 - val_loss: 0.2798\n",
      "Epoch 11/20\n",
      "500/500 [==============================] - 178s 356ms/step - loss: 0.2498 - val_loss: 0.2796\n",
      "Epoch 12/20\n",
      "500/500 [==============================] - 178s 356ms/step - loss: 0.2446 - val_loss: 0.2866\n",
      "Epoch 13/20\n",
      "500/500 [==============================] - 178s 356ms/step - loss: 0.2433 - val_loss: 0.2812\n",
      "Epoch 14/20\n",
      "500/500 [==============================] - 178s 356ms/step - loss: 0.2400 - val_loss: 0.2863\n",
      "Epoch 15/20\n",
      "500/500 [==============================] - 178s 357ms/step - loss: 0.2365 - val_loss: 0.2871\n",
      "Epoch 16/20\n",
      "500/500 [==============================] - 178s 356ms/step - loss: 0.2349 - val_loss: 0.2836\n",
      "Epoch 17/20\n",
      "500/500 [==============================] - 178s 356ms/step - loss: 0.2317 - val_loss: 0.2880\n",
      "Epoch 18/20\n",
      "500/500 [==============================] - 178s 356ms/step - loss: 0.2288 - val_loss: 0.2842\n",
      "Epoch 19/20\n",
      "500/500 [==============================] - 178s 356ms/step - loss: 0.2265 - val_loss: 0.2898\n",
      "Epoch 20/20\n",
      "500/500 [==============================] - 178s 357ms/step - loss: 0.2243 - val_loss: 0.2855\n"
     ]
    }
   ],
   "source": [
    "from keras.models import Sequential\n",
    "from keras import layers\n",
    "from keras.optimizers import RMSprop\n",
    "\n",
    "model = Sequential()\n",
    "model.add(layers.Conv1D(32, 5, activation='relu', input_shape=(None, float_data.shape[-1])))\n",
    "model.add(layers.MaxPooling1D(3))\n",
    "model.add(layers.Conv1D(32, 5, activation='relu'))\n",
    "model.add(layers.GRU(32, dropout=0.1, recurrent_dropout=0.5))\n",
    "model.add(layers.Dense(1))\n",
    "\n",
    "model.summary()\n",
    "\n",
    "model.compile(optimizer=RMSprop(), loss='mae')\n",
    "\n",
    "history = model.fit_generator(train_gen,\n",
    "                              steps_per_epoch=500,\n",
    "                              epochs=20,\n",
    "                              validation_data=val_gen,\n",
    "                              validation_steps=val_steps)"
   ]
  },
  {
   "cell_type": "code",
   "execution_count": 29,
   "metadata": {},
   "outputs": [
    {
     "data": {
      "image/png": "[encoded data removed]",
      "text/plain": [
       "<Figure size 432x288 with 1 Axes>"
      ]
     },
     "metadata": {
      "needs_background": "light"
     },
     "output_type": "display_data"
    }
   ],
   "source": [
    "import matplotlib.pyplot as plt\n",
    "\n",
    "plt.clf()\n",
    "\n",
    "loss = history.history['loss']\n",
    "val_loss = history.history['val_loss']\n",
    "\n",
    "epochs = range(1, len(loss) + 1)\n",
    "\n",
    "plt.plot(epochs, loss, 'bo', label='Training loss')\n",
    "plt.plot(epochs, val_loss, 'b', label='Validation loss')\n",
    "plt.title('Training and validation loss')\n",
    "plt.legend()\n",
    "\n",
    "plt.show()"
   ]
  },
  {
   "cell_type": "code",
   "execution_count": null,
   "metadata": {},
   "outputs": [],
   "source": []
  }
 ],
 "metadata": {
  "kernelspec": {
   "display_name": "Python 3",
   "language": "python",
   "name": "python3"
  },
  "language_info": {
   "codemirror_mode": {
    "name": "ipython",
    "version": 3
   },
   "file_extension": ".py",
   "mimetype": "text/x-python",
   "name": "python",
   "nbconvert_exporter": "python",
   "pygments_lexer": "ipython3",
   "version": "3.6.6"
  }
 },
 "nbformat": 4,
 "nbformat_minor": 2
}
