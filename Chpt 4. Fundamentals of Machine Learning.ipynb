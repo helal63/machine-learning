{
 "cells": [
  {
   "cell_type": "code",
   "execution_count": 4,
   "metadata": {},
   "outputs": [
    {
     "data": {
      "text/plain": [
       "'2.2.2'"
      ]
     },
     "execution_count": 4,
     "metadata": {},
     "output_type": "execute_result"
    }
   ],
   "source": [
    "import keras\n",
    "import numpy as np\n",
    "from keras.datasets import imdb\n",
    "\n",
    "keras.__version__"
   ]
  },
  {
   "cell_type": "code",
   "execution_count": 5,
   "metadata": {},
   "outputs": [],
   "source": [
    "from keras.datasets import imdb\n",
    "import numpy as np\n",
    "\n",
    "(train_data, train_labels), (test_data, test_labels) = imdb.load_data(num_words=10000)\n",
    "\n",
    "def vectorize_sequences(sequences, dimension=10000):\n",
    "    # Create an all-zero matrix of shape (len(sequences), dimension)\n",
    "    results = np.zeros((len(sequences), dimension))\n",
    "    for i, sequence in enumerate(sequences):\n",
    "        results[i, sequence] = 1.  # set specific indices of results[i] to 1s\n",
    "    return results\n",
    "\n",
    "# Our vectorized training data\n",
    "x_train = vectorize_sequences(train_data)\n",
    "# Our vectorized test data\n",
    "x_test = vectorize_sequences(test_data)\n",
    "# Our vectorized labels\n",
    "y_train = np.asarray(train_labels).astype('float32')\n",
    "y_test = np.asarray(test_labels).astype('float32')"
   ]
  },
  {
   "cell_type": "code",
   "execution_count": 6,
   "metadata": {},
   "outputs": [],
   "source": [
    "from keras import models\n",
    "from keras import layers\n",
    "\n",
    "original_model = models.Sequential()\n",
    "original_model.add(layers.Dense(16, activation='relu', input_shape=(10000,)))\n",
    "original_model.add(layers.Dense(16, activation='relu'))\n",
    "original_model.add(layers.Dense(1, activation='sigmoid'))\n",
    "\n",
    "original_model.compile(optimizer='rmsprop',\n",
    "                      loss='binary_crossentropy',\n",
    "                      metrics=['acc'])"
   ]
  },
  {
   "cell_type": "code",
   "execution_count": 8,
   "metadata": {},
   "outputs": [],
   "source": [
    "smaller_model = models.Sequential()\n",
    "smaller_model.add(layers.Dense(4, activation='relu', input_shape=(10000,)))\n",
    "smaller_model.add(layers.Dense(4, activation='relu'))\n",
    "smaller_model.add(layers.Dense(1, activation='sigmoid'))\n",
    "\n",
    "smaller_model.compile(optimizer='rmsprop',\n",
    "                     loss='binary_crossentropy',\n",
    "                     metrics=['acc'])"
   ]
  },
  {
   "cell_type": "code",
   "execution_count": 9,
   "metadata": {},
   "outputs": [
    {
     "name": "stdout",
     "output_type": "stream",
     "text": [
      "Train on 25000 samples, validate on 25000 samples\n",
      "Epoch 1/20\n",
      "25000/25000 [==============================] - 6s 252us/step - loss: 0.4571 - acc: 0.8166 - val_loss: 0.3328 - val_acc: 0.8833\n",
      "Epoch 2/20\n",
      "25000/25000 [==============================] - 5s 201us/step - loss: 0.2582 - acc: 0.9076 - val_loss: 0.2886 - val_acc: 0.8870\n",
      "Epoch 3/20\n",
      "25000/25000 [==============================] - 5s 200us/step - loss: 0.1971 - acc: 0.9291 - val_loss: 0.2814 - val_acc: 0.8886\n",
      "Epoch 4/20\n",
      "25000/25000 [==============================] - 5s 201us/step - loss: 0.1651 - acc: 0.9418 - val_loss: 0.2955 - val_acc: 0.8842\n",
      "Epoch 5/20\n",
      "25000/25000 [==============================] - 5s 199us/step - loss: 0.1408 - acc: 0.9502 - val_loss: 0.3407 - val_acc: 0.8712\n",
      "Epoch 6/20\n",
      "25000/25000 [==============================] - 5s 200us/step - loss: 0.1222 - acc: 0.9590 - val_loss: 0.3408 - val_acc: 0.8758\n",
      "Epoch 7/20\n",
      "25000/25000 [==============================] - 5s 199us/step - loss: 0.1089 - acc: 0.9636 - val_loss: 0.3674 - val_acc: 0.8719\n",
      "Epoch 8/20\n",
      "25000/25000 [==============================] - 5s 199us/step - loss: 0.0953 - acc: 0.9676 - val_loss: 0.4055 - val_acc: 0.8648\n",
      "Epoch 9/20\n",
      "25000/25000 [==============================] - 5s 200us/step - loss: 0.0845 - acc: 0.9715 - val_loss: 0.4266 - val_acc: 0.8638\n",
      "Epoch 10/20\n",
      "25000/25000 [==============================] - 5s 201us/step - loss: 0.0738 - acc: 0.9753 - val_loss: 0.4494 - val_acc: 0.8626\n",
      "Epoch 11/20\n",
      "25000/25000 [==============================] - 5s 204us/step - loss: 0.0656 - acc: 0.9783 - val_loss: 0.4754 - val_acc: 0.8626\n",
      "Epoch 12/20\n",
      "25000/25000 [==============================] - 5s 199us/step - loss: 0.0541 - acc: 0.9836 - val_loss: 0.5125 - val_acc: 0.8602\n",
      "Epoch 13/20\n",
      "25000/25000 [==============================] - 5s 202us/step - loss: 0.0500 - acc: 0.9848 - val_loss: 0.5811 - val_acc: 0.8505\n",
      "Epoch 14/20\n",
      "25000/25000 [==============================] - 5s 198us/step - loss: 0.0409 - acc: 0.9881 - val_loss: 0.6223 - val_acc: 0.8488\n",
      "Epoch 15/20\n",
      "25000/25000 [==============================] - 5s 203us/step - loss: 0.0371 - acc: 0.9896 - val_loss: 0.6223 - val_acc: 0.8526\n",
      "Epoch 16/20\n",
      "25000/25000 [==============================] - 5s 203us/step - loss: 0.0305 - acc: 0.9913 - val_loss: 0.6524 - val_acc: 0.8530\n",
      "Epoch 17/20\n",
      "25000/25000 [==============================] - 5s 204us/step - loss: 0.0269 - acc: 0.9923 - val_loss: 0.6885 - val_acc: 0.8522\n",
      "Epoch 18/20\n",
      "25000/25000 [==============================] - 5s 204us/step - loss: 0.0222 - acc: 0.9938 - val_loss: 0.7683 - val_acc: 0.8446\n",
      "Epoch 19/20\n",
      "25000/25000 [==============================] - 5s 201us/step - loss: 0.0194 - acc: 0.9945 - val_loss: 0.7551 - val_acc: 0.8504\n",
      "Epoch 20/20\n",
      "25000/25000 [==============================] - 5s 202us/step - loss: 0.0147 - acc: 0.9968 - val_loss: 0.8059 - val_acc: 0.8492\n"
     ]
    }
   ],
   "source": [
    "original_hist = original_model.fit(x_train, y_train,\n",
    "                                  epochs=20,\n",
    "                                  batch_size=512,\n",
    "                                  validation_data=(x_test, y_test))"
   ]
  },
  {
   "cell_type": "code",
   "execution_count": 10,
   "metadata": {},
   "outputs": [
    {
     "name": "stdout",
     "output_type": "stream",
     "text": [
      "Train on 25000 samples, validate on 25000 samples\n",
      "Epoch 1/20\n",
      "25000/25000 [==============================] - 5s 210us/step - loss: 0.5826 - acc: 0.7415 - val_loss: 0.5278 - val_acc: 0.7955\n",
      "Epoch 2/20\n",
      "25000/25000 [==============================] - 5s 200us/step - loss: 0.4850 - acc: 0.8562 - val_loss: 0.4880 - val_acc: 0.8361\n",
      "Epoch 3/20\n",
      "25000/25000 [==============================] - 5s 201us/step - loss: 0.4403 - acc: 0.8933 - val_loss: 0.4662 - val_acc: 0.8586\n",
      "Epoch 4/20\n",
      "25000/25000 [==============================] - 5s 200us/step - loss: 0.4103 - acc: 0.9139 - val_loss: 0.4518 - val_acc: 0.8732\n",
      "Epoch 5/20\n",
      "25000/25000 [==============================] - 5s 204us/step - loss: 0.3865 - acc: 0.9287 - val_loss: 0.4547 - val_acc: 0.8593\n",
      "Epoch 6/20\n",
      "25000/25000 [==============================] - 5s 203us/step - loss: 0.3662 - acc: 0.9375 - val_loss: 0.4461 - val_acc: 0.8676\n",
      "Epoch 7/20\n",
      "25000/25000 [==============================] - 5s 202us/step - loss: 0.3477 - acc: 0.9470 - val_loss: 0.4520 - val_acc: 0.8642\n",
      "Epoch 8/20\n",
      "25000/25000 [==============================] - 5s 201us/step - loss: 0.3319 - acc: 0.9520 - val_loss: 0.4454 - val_acc: 0.8683\n",
      "Epoch 9/20\n",
      "25000/25000 [==============================] - 5s 204us/step - loss: 0.3163 - acc: 0.9575 - val_loss: 0.4760 - val_acc: 0.8548\n",
      "Epoch 10/20\n",
      "25000/25000 [==============================] - 5s 208us/step - loss: 0.3028 - acc: 0.9607 - val_loss: 0.4646 - val_acc: 0.8625\n",
      "Epoch 11/20\n",
      "25000/25000 [==============================] - 5s 202us/step - loss: 0.2888 - acc: 0.9630 - val_loss: 0.4660 - val_acc: 0.8638\n",
      "Epoch 12/20\n",
      "25000/25000 [==============================] - 5s 205us/step - loss: 0.2763 - acc: 0.9669 - val_loss: 0.4483 - val_acc: 0.8660\n",
      "Epoch 13/20\n",
      "25000/25000 [==============================] - 5s 205us/step - loss: 0.2647 - acc: 0.9693 - val_loss: 0.4866 - val_acc: 0.8610\n",
      "Epoch 14/20\n",
      "25000/25000 [==============================] - 5s 205us/step - loss: 0.2537 - acc: 0.9712 - val_loss: 0.5241 - val_acc: 0.8546\n",
      "Epoch 15/20\n",
      "25000/25000 [==============================] - 5s 203us/step - loss: 0.2422 - acc: 0.9731 - val_loss: 0.4822 - val_acc: 0.8608\n",
      "Epoch 16/20\n",
      "25000/25000 [==============================] - 5s 205us/step - loss: 0.2332 - acc: 0.9740 - val_loss: 0.4865 - val_acc: 0.8599\n",
      "Epoch 17/20\n",
      "25000/25000 [==============================] - 5s 202us/step - loss: 0.2242 - acc: 0.9752 - val_loss: 0.5332 - val_acc: 0.8562\n",
      "Epoch 18/20\n",
      "25000/25000 [==============================] - 5s 202us/step - loss: 0.2146 - acc: 0.9768 - val_loss: 0.5531 - val_acc: 0.8553\n",
      "Epoch 19/20\n",
      "25000/25000 [==============================] - 5s 201us/step - loss: 0.2055 - acc: 0.9784 - val_loss: 0.5639 - val_acc: 0.8554\n",
      "Epoch 20/20\n",
      "25000/25000 [==============================] - 5s 203us/step - loss: 0.1987 - acc: 0.9780 - val_loss: 0.5443 - val_acc: 0.8557\n"
     ]
    }
   ],
   "source": [
    "smaller_model_hist = smaller_model.fit(x_train, y_train,\n",
    "                                      epochs=20,\n",
    "                                      batch_size=512,\n",
    "                                      validation_data=(x_test, y_test))"
   ]
  },
  {
   "cell_type": "code",
   "execution_count": 11,
   "metadata": {},
   "outputs": [],
   "source": [
    "epochs = range(1, 21)\n",
    "original_val_loss = original_hist.history['val_loss']\n",
    "smaller_model_val_loss = smaller_model_hist.history['val_loss']"
   ]
  },
  {
   "cell_type": "code",
   "execution_count": 12,
   "metadata": {},
   "outputs": [
    {
     "data": {
      "text/plain": [
       "<Figure size 640x480 with 1 Axes>"
      ]
     },
     "metadata": {},
     "output_type": "display_data"
    }
   ],
   "source": [
    "import matplotlib.pyplot as plt\n",
    "\n",
    "plt.clf()\n",
    "\n",
    "# b+ is for \"blue cross\"\n",
    "plt.plot(epochs, original_val_loss, 'b+', label='Original model')\n",
    "# \"bo\" is for \"blue dot\"\n",
    "plt.plot(epochs, smaller_model_val_loss, 'bo', label='Smaller model')\n",
    "plt.xlabel('Epochs')\n",
    "plt.ylabel('Validation loss')\n",
    "plt.legend()\n",
    "\n",
    "plt.show()"
   ]
  },
  {
   "cell_type": "code",
   "execution_count": 13,
   "metadata": {},
   "outputs": [],
   "source": [
    "bigger_model = models.Sequential()\n",
    "bigger_model.add(layers.Dense(512, activation='relu', input_shape=(10000,)))\n",
    "bigger_model.add(layers.Dense(512, activation='relu'))\n",
    "bigger_model.add(layers.Dense(1, activation='sigmoid'))\n",
    "\n",
    "bigger_model.compile(optimizer='rmsprop',\n",
    "                     loss='binary_crossentropy',\n",
    "                     metrics=['acc'])"
   ]
  },
  {
   "cell_type": "code",
   "execution_count": 14,
   "metadata": {},
   "outputs": [
    {
     "name": "stdout",
     "output_type": "stream",
     "text": [
      "Train on 25000 samples, validate on 25000 samples\n",
      "Epoch 1/20\n",
      "25000/25000 [==============================] - 7s 265us/step - loss: 0.4630 - acc: 0.7954 - val_loss: 0.2848 - val_acc: 0.8882\n",
      "Epoch 2/20\n",
      "25000/25000 [==============================] - 6s 238us/step - loss: 0.2237 - acc: 0.9120 - val_loss: 0.3084 - val_acc: 0.8730\n",
      "Epoch 3/20\n",
      "25000/25000 [==============================] - 6s 242us/step - loss: 0.1352 - acc: 0.9494 - val_loss: 0.3076 - val_acc: 0.8851\n",
      "Epoch 4/20\n",
      "25000/25000 [==============================] - 6s 237us/step - loss: 0.0763 - acc: 0.9792 - val_loss: 0.4175 - val_acc: 0.8808\n",
      "Epoch 5/20\n",
      "25000/25000 [==============================] - 6s 238us/step - loss: 0.0818 - acc: 0.9856 - val_loss: 0.4809 - val_acc: 0.8818\n",
      "Epoch 6/20\n",
      "25000/25000 [==============================] - 6s 241us/step - loss: 0.0728 - acc: 0.9882 - val_loss: 0.4978 - val_acc: 0.8729\n",
      "Epoch 7/20\n",
      "25000/25000 [==============================] - 6s 242us/step - loss: 0.0017 - acc: 1.0000 - val_loss: 0.6401 - val_acc: 0.8789\n",
      "Epoch 8/20\n",
      "25000/25000 [==============================] - 6s 244us/step - loss: 1.9125e-04 - acc: 1.0000 - val_loss: 0.7594 - val_acc: 0.8787\n",
      "Epoch 9/20\n",
      "25000/25000 [==============================] - 6s 242us/step - loss: 0.1095 - acc: 0.9881 - val_loss: 0.7476 - val_acc: 0.8781\n",
      "Epoch 10/20\n",
      "25000/25000 [==============================] - 6s 243us/step - loss: 5.5737e-04 - acc: 1.0000 - val_loss: 0.7769 - val_acc: 0.8779\n",
      "Epoch 11/20\n",
      "25000/25000 [==============================] - 6s 240us/step - loss: 2.0219e-05 - acc: 1.0000 - val_loss: 0.8623 - val_acc: 0.8781\n",
      "Epoch 12/20\n",
      "25000/25000 [==============================] - 6s 239us/step - loss: 3.3496e-06 - acc: 1.0000 - val_loss: 0.9439 - val_acc: 0.8774\n",
      "Epoch 13/20\n",
      "25000/25000 [==============================] - 6s 241us/step - loss: 5.9520e-07 - acc: 1.0000 - val_loss: 1.0177 - val_acc: 0.8777\n",
      "Epoch 14/20\n",
      "25000/25000 [==============================] - 6s 239us/step - loss: 1.8911e-07 - acc: 1.0000 - val_loss: 1.0676 - val_acc: 0.8779\n",
      "Epoch 15/20\n",
      "25000/25000 [==============================] - 6s 239us/step - loss: 1.2898e-07 - acc: 1.0000 - val_loss: 1.0911 - val_acc: 0.8780\n",
      "Epoch 16/20\n",
      "25000/25000 [==============================] - 6s 238us/step - loss: 1.1806e-07 - acc: 1.0000 - val_loss: 1.1053 - val_acc: 0.8781\n",
      "Epoch 17/20\n",
      "25000/25000 [==============================] - 6s 240us/step - loss: 1.1434e-07 - acc: 1.0000 - val_loss: 1.1139 - val_acc: 0.8780\n",
      "Epoch 18/20\n",
      "25000/25000 [==============================] - 6s 240us/step - loss: 1.1264e-07 - acc: 1.0000 - val_loss: 1.1191 - val_acc: 0.8778\n",
      "Epoch 19/20\n",
      "25000/25000 [==============================] - 6s 243us/step - loss: 1.1174e-07 - acc: 1.0000 - val_loss: 1.1231 - val_acc: 0.8778\n",
      "Epoch 20/20\n",
      "25000/25000 [==============================] - 6s 238us/step - loss: 1.1123e-07 - acc: 1.0000 - val_loss: 1.1267 - val_acc: 0.8778\n"
     ]
    }
   ],
   "source": [
    "bigger_model_hist = bigger_model.fit(x_train, y_train,\n",
    "                                     epochs=20,\n",
    "                                     batch_size=512,\n",
    "                                     validation_data=(x_test, y_test))"
   ]
  },
  {
   "cell_type": "code",
   "execution_count": 15,
   "metadata": {},
   "outputs": [
    {
     "data": {
      "image/png": "[encoded data removed]",
      "text/plain": [
       "<Figure size 432x288 with 1 Axes>"
      ]
     },
     "metadata": {
      "needs_background": "light"
     },
     "output_type": "display_data"
    }
   ],
   "source": [
    "bigger_model_val_loss = bigger_model_hist.history['val_loss']\n",
    "\n",
    "plt.clf()\n",
    "\n",
    "plt.plot(epochs, original_val_loss, 'b+', label='Original model')\n",
    "plt.plot(epochs, bigger_model_val_loss, 'bo', label='Bigger model')\n",
    "plt.xlabel('Epochs')\n",
    "plt.ylabel('Validation loss')\n",
    "plt.legend()\n",
    "\n",
    "plt.show()"
   ]
  },
  {
   "cell_type": "code",
   "execution_count": 16,
   "metadata": {},
   "outputs": [
    {
     "data": {
      "image/png": "[encoded data removed]",
      "text/plain": [
       "<Figure size 432x288 with 1 Axes>"
      ]
     },
     "metadata": {
      "needs_background": "light"
     },
     "output_type": "display_data"
    }
   ],
   "source": [
    "original_train_loss = original_hist.history['loss']\n",
    "bigger_model_train_loss = bigger_model_hist.history['loss']\n",
    "\n",
    "plt.clf()\n",
    "\n",
    "plt.plot(epochs, original_train_loss, 'b+', label='Original model')\n",
    "plt.plot(epochs, bigger_model_train_loss, 'bo', label='Bigger model')\n",
    "plt.xlabel('Epochs')\n",
    "plt.ylabel('Training loss')\n",
    "plt.legend()\n",
    "\n",
    "plt.show()"
   ]
  },
  {
   "cell_type": "code",
   "execution_count": 19,
   "metadata": {},
   "outputs": [],
   "source": [
    "from keras import regularizers\n",
    "\n",
    "l2_model = models.Sequential()\n",
    "l2_model.add(layers.Dense(16, kernel_regularizer=regularizers.l2(0.001),\n",
    "                      activation='relu', input_shape=(10000,)))\n",
    "l2_model.add(layers.Dense(16, kernel_regularizer=regularizers.l2(0.001),\n",
    "                      activation='relu'))\n",
    "l2_model.add(layers.Dense(1, activation='sigmoid'))"
   ]
  },
  {
   "cell_type": "code",
   "execution_count": 20,
   "metadata": {},
   "outputs": [],
   "source": [
    "l2_model.compile(optimizer='rmsprop',\n",
    "                loss='binary_crossentropy',\n",
    "                metrics=['acc'])"
   ]
  },
  {
   "cell_type": "code",
   "execution_count": 21,
   "metadata": {},
   "outputs": [
    {
     "name": "stdout",
     "output_type": "stream",
     "text": [
      "Train on 25000 samples, validate on 25000 samples\n",
      "Epoch 1/20\n",
      "25000/25000 [==============================] - 6s 239us/step - loss: 0.4864 - acc: 0.8299 - val_loss: 0.3778 - val_acc: 0.8822\n",
      "Epoch 2/20\n",
      "25000/25000 [==============================] - 6s 224us/step - loss: 0.3150 - acc: 0.9044 - val_loss: 0.3368 - val_acc: 0.8859\n",
      "Epoch 3/20\n",
      "25000/25000 [==============================] - 6s 222us/step - loss: 0.2698 - acc: 0.9204 - val_loss: 0.3403 - val_acc: 0.8820\n",
      "Epoch 4/20\n",
      "25000/25000 [==============================] - 5s 216us/step - loss: 0.2518 - acc: 0.9271 - val_loss: 0.3336 - val_acc: 0.8873\n",
      "Epoch 5/20\n",
      "25000/25000 [==============================] - 5s 218us/step - loss: 0.2394 - acc: 0.9314 - val_loss: 0.3926 - val_acc: 0.8636\n",
      "Epoch 6/20\n",
      "25000/25000 [==============================] - 5s 217us/step - loss: 0.2296 - acc: 0.9352 - val_loss: 0.3451 - val_acc: 0.8824\n",
      "Epoch 7/20\n",
      "25000/25000 [==============================] - 5s 217us/step - loss: 0.2248 - acc: 0.9364 - val_loss: 0.3527 - val_acc: 0.8811\n",
      "Epoch 8/20\n",
      "25000/25000 [==============================] - 6s 221us/step - loss: 0.2200 - acc: 0.9410 - val_loss: 0.3724 - val_acc: 0.8750\n",
      "Epoch 9/20\n",
      "25000/25000 [==============================] - 5s 219us/step - loss: 0.2127 - acc: 0.9434 - val_loss: 0.3797 - val_acc: 0.8733\n",
      "Epoch 10/20\n",
      "25000/25000 [==============================] - 6s 220us/step - loss: 0.2105 - acc: 0.9448 - val_loss: 0.3902 - val_acc: 0.8704\n",
      "Epoch 11/20\n",
      "25000/25000 [==============================] - 5s 219us/step - loss: 0.2081 - acc: 0.9455 - val_loss: 0.4029 - val_acc: 0.8672\n",
      "Epoch 12/20\n",
      "25000/25000 [==============================] - 5s 218us/step - loss: 0.2033 - acc: 0.9465 - val_loss: 0.4215 - val_acc: 0.8636\n",
      "Epoch 13/20\n",
      "25000/25000 [==============================] - 6s 221us/step - loss: 0.2003 - acc: 0.9478 - val_loss: 0.4069 - val_acc: 0.8667\n",
      "Epoch 14/20\n",
      "25000/25000 [==============================] - 6s 222us/step - loss: 0.2032 - acc: 0.9460 - val_loss: 0.3980 - val_acc: 0.8706\n",
      "Epoch 15/20\n",
      "25000/25000 [==============================] - 6s 221us/step - loss: 0.1978 - acc: 0.9491 - val_loss: 0.4089 - val_acc: 0.8687\n",
      "Epoch 16/20\n",
      "25000/25000 [==============================] - 6s 230us/step - loss: 0.1949 - acc: 0.9504 - val_loss: 0.4002 - val_acc: 0.8713\n",
      "Epoch 17/20\n",
      "25000/25000 [==============================] - 5s 219us/step - loss: 0.1965 - acc: 0.9490 - val_loss: 0.4028 - val_acc: 0.8697\n",
      "Epoch 18/20\n",
      "25000/25000 [==============================] - 6s 221us/step - loss: 0.1927 - acc: 0.9488 - val_loss: 0.4070 - val_acc: 0.8700\n",
      "Epoch 19/20\n",
      "25000/25000 [==============================] - 6s 220us/step - loss: 0.1909 - acc: 0.9495 - val_loss: 0.4108 - val_acc: 0.8674\n",
      "Epoch 20/20\n",
      "25000/25000 [==============================] - 5s 216us/step - loss: 0.1859 - acc: 0.9523 - val_loss: 0.4149 - val_acc: 0.8689\n"
     ]
    }
   ],
   "source": [
    "l2_model_hist = l2_model.fit(x_train, y_train,\n",
    "                             epochs=20,\n",
    "                             batch_size=512,\n",
    "                             validation_data=(x_test, y_test))"
   ]
  },
  {
   "cell_type": "code",
   "execution_count": 22,
   "metadata": {},
   "outputs": [
    {
     "data": {
      "image/png": "[encoded data removed]",
      "text/plain": [
       "<Figure size 432x288 with 1 Axes>"
      ]
     },
     "metadata": {
      "needs_background": "light"
     },
     "output_type": "display_data"
    }
   ],
   "source": [
    "l2_model_val_loss = l2_model_hist.history['val_loss']\n",
    "\n",
    "plt.clf()\n",
    "\n",
    "plt.plot(epochs, original_val_loss, 'b+', label='Original model')\n",
    "plt.plot(epochs, l2_model_val_loss, 'bo', label='L2-regularized model')\n",
    "plt.xlabel('Epochs')\n",
    "plt.ylabel('Validation loss')\n",
    "plt.legend()\n",
    "\n",
    "plt.show()"
   ]
  },
  {
   "cell_type": "code",
   "execution_count": 23,
   "metadata": {},
   "outputs": [
    {
     "data": {
      "text/plain": [
       "<keras.regularizers.L1L2 at 0x7f67867a0a90>"
      ]
     },
     "execution_count": 23,
     "metadata": {},
     "output_type": "execute_result"
    }
   ],
   "source": [
    "# L1 regularization\n",
    "regularizers.l1(0.001)\n",
    "\n",
    "# L1 and L2 regularization at the same time\n",
    "regularizers.l1_l2(l1=0.001, l2=0.001)"
   ]
  },
  {
   "cell_type": "code",
   "execution_count": 26,
   "metadata": {},
   "outputs": [],
   "source": [
    "dpt_model = models.Sequential()\n",
    "dpt_model.add(layers.Dense(16, activation='relu', input_shape=(10000,)))\n",
    "dpt_model.add(layers.Dropout(0.5))\n",
    "dpt_model.add(layers.Dense(16, activation='relu'))\n",
    "dpt_model.add(layers.Dropout(0.5))\n",
    "dpt_model.add(layers.Dense(1, activation='sigmoid'))\n",
    "\n",
    "dpt_model.compile(optimizer='rmsprop',\n",
    "                 loss='binary_crossentropy',\n",
    "                 metrics=['acc'])"
   ]
  },
  {
   "cell_type": "code",
   "execution_count": 27,
   "metadata": {},
   "outputs": [
    {
     "name": "stdout",
     "output_type": "stream",
     "text": [
      "Train on 25000 samples, validate on 25000 samples\n",
      "Epoch 1/20\n",
      "25000/25000 [==============================] - 8s 317us/step - loss: 0.6117 - acc: 0.6664 - val_loss: 0.4880 - val_acc: 0.8569\n",
      "Epoch 2/20\n",
      "25000/25000 [==============================] - 7s 293us/step - loss: 0.4692 - acc: 0.7984 - val_loss: 0.3689 - val_acc: 0.8774\n",
      "Epoch 3/20\n",
      "25000/25000 [==============================] - 7s 287us/step - loss: 0.3771 - acc: 0.8547 - val_loss: 0.3051 - val_acc: 0.8880\n",
      "Epoch 4/20\n",
      "25000/25000 [==============================] - 7s 289us/step - loss: 0.3196 - acc: 0.8872 - val_loss: 0.2860 - val_acc: 0.8890\n",
      "Epoch 5/20\n",
      "25000/25000 [==============================] - 7s 289us/step - loss: 0.2797 - acc: 0.9063 - val_loss: 0.2817 - val_acc: 0.8866\n",
      "Epoch 6/20\n",
      "25000/25000 [==============================] - 7s 290us/step - loss: 0.2472 - acc: 0.9172 - val_loss: 0.2868 - val_acc: 0.8889\n",
      "Epoch 7/20\n",
      "25000/25000 [==============================] - 7s 294us/step - loss: 0.2246 - acc: 0.9250 - val_loss: 0.2978 - val_acc: 0.8876\n",
      "Epoch 8/20\n",
      "25000/25000 [==============================] - 7s 290us/step - loss: 0.2096 - acc: 0.9301 - val_loss: 0.3147 - val_acc: 0.8854\n",
      "Epoch 9/20\n",
      "25000/25000 [==============================] - 7s 289us/step - loss: 0.1961 - acc: 0.9353 - val_loss: 0.3306 - val_acc: 0.8843\n",
      "Epoch 10/20\n",
      "25000/25000 [==============================] - 7s 288us/step - loss: 0.1792 - acc: 0.9409 - val_loss: 0.3640 - val_acc: 0.8852\n",
      "Epoch 11/20\n",
      "25000/25000 [==============================] - 7s 290us/step - loss: 0.1694 - acc: 0.9448 - val_loss: 0.4080 - val_acc: 0.8800\n",
      "Epoch 12/20\n",
      "25000/25000 [==============================] - 7s 286us/step - loss: 0.1593 - acc: 0.9491 - val_loss: 0.3943 - val_acc: 0.8806\n",
      "Epoch 13/20\n",
      "25000/25000 [==============================] - 7s 287us/step - loss: 0.1542 - acc: 0.9501 - val_loss: 0.3999 - val_acc: 0.8800\n",
      "Epoch 14/20\n",
      "25000/25000 [==============================] - 7s 288us/step - loss: 0.1516 - acc: 0.9522 - val_loss: 0.4317 - val_acc: 0.8796\n",
      "Epoch 15/20\n",
      "25000/25000 [==============================] - 7s 287us/step - loss: 0.1441 - acc: 0.9546 - val_loss: 0.4455 - val_acc: 0.8771\n",
      "Epoch 16/20\n",
      "25000/25000 [==============================] - 7s 289us/step - loss: 0.1431 - acc: 0.9561 - val_loss: 0.4633 - val_acc: 0.8766\n",
      "Epoch 17/20\n",
      "25000/25000 [==============================] - 7s 290us/step - loss: 0.1378 - acc: 0.9561 - val_loss: 0.5021 - val_acc: 0.8775\n",
      "Epoch 18/20\n",
      "25000/25000 [==============================] - 7s 300us/step - loss: 0.1327 - acc: 0.9574 - val_loss: 0.5258 - val_acc: 0.8751\n",
      "Epoch 19/20\n",
      "25000/25000 [==============================] - 7s 288us/step - loss: 0.1295 - acc: 0.9585 - val_loss: 0.5320 - val_acc: 0.8764\n",
      "Epoch 20/20\n",
      "25000/25000 [==============================] - 7s 289us/step - loss: 0.1291 - acc: 0.9600 - val_loss: 0.5614 - val_acc: 0.8746\n"
     ]
    }
   ],
   "source": [
    "dpt_model_hist = dpt_model.fit(x_train, y_train,\n",
    "                               epochs=20,\n",
    "                               batch_size=512,\n",
    "                               validation_data=(x_test, y_test))"
   ]
  },
  {
   "cell_type": "code",
   "execution_count": 28,
   "metadata": {},
   "outputs": [
    {
     "data": {
      "image/png": "[encoded data removed]",
      "text/plain": [
       "<Figure size 432x288 with 1 Axes>"
      ]
     },
     "metadata": {
      "needs_background": "light"
     },
     "output_type": "display_data"
    }
   ],
   "source": [
    "dpt_model_val_loss = dpt_model_hist.history['val_loss']\n",
    "\n",
    "plt.clf()\n",
    "\n",
    "plt.plot(epochs, original_val_loss, 'b+', label='Original model')\n",
    "plt.plot(epochs, dpt_model_val_loss, 'bo', label='Dropout-regularized model')\n",
    "plt.xlabel('Epochs')\n",
    "plt.ylabel('Validation loss')\n",
    "plt.legend()\n",
    "\n",
    "plt.show()"
   ]
  },
  {
   "cell_type": "code",
   "execution_count": null,
   "metadata": {},
   "outputs": [],
   "source": []
  }
 ],
 "metadata": {
  "kernelspec": {
   "display_name": "Python 3",
   "language": "python",
   "name": "python3"
  },
  "language_info": {
   "codemirror_mode": {
    "name": "ipython",
    "version": 3
   },
   "file_extension": ".py",
   "mimetype": "text/x-python",
   "name": "python",
   "nbconvert_exporter": "python",
   "pygments_lexer": "ipython3",
   "version": "3.6.5"
  }
 },
 "nbformat": 4,
 "nbformat_minor": 2
}
