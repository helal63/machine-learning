{
 "cells": [
  {
   "cell_type": "code",
   "execution_count": 1,
   "metadata": {},
   "outputs": [],
   "source": [
    "# To support both python 2 and python 3\n",
    "from __future__ import division, print_function, unicode_literals\n",
    "\n",
    "# Common imports\n",
    "import numpy as np\n",
    "import os\n",
    "import sys\n",
    "\n",
    "# to make this notebook's output stable across runs\n",
    "def reset_graph(seed=42):\n",
    "    tf.reset_default_graph()\n",
    "    tf.set_random_seed(seed)\n",
    "    np.random.seed(seed)\n",
    "\n",
    "# To plot pretty figures\n",
    "%matplotlib inline\n",
    "import matplotlib\n",
    "import matplotlib.pyplot as plt\n",
    "plt.rcParams['axes.labelsize'] = 14\n",
    "plt.rcParams['xtick.labelsize'] = 12\n",
    "plt.rcParams['ytick.labelsize'] = 12\n",
    "\n",
    "# Where to save the figures\n",
    "PROJECT_ROOT_DIR = \".\"\n",
    "CHAPTER_ID = \"autoencoders\"\n",
    "\n",
    "def save_fig(fig_id, tight_layout=True):\n",
    "    path = os.path.join(PROJECT_ROOT_DIR, \"images\", CHAPTER_ID, fig_id + \".png\")\n",
    "    print(\"Saving figure\", fig_id)\n",
    "    if tight_layout:\n",
    "        plt.tight_layout()\n",
    "    plt.savefig(path, format='png', dpi=300)"
   ]
  },
  {
   "cell_type": "code",
   "execution_count": 2,
   "metadata": {},
   "outputs": [],
   "source": [
    "def plot_image(image, shape=[28, 28]):\n",
    "    plt.imshow(image.reshape(shape), cmap=\"Greys\", interpolation=\"nearest\")\n",
    "    plt.axis(\"off\")"
   ]
  },
  {
   "cell_type": "code",
   "execution_count": 3,
   "metadata": {},
   "outputs": [],
   "source": [
    "def plot_multiple_images(images, n_rows, n_cols, pad=2):\n",
    "    images = images - images.min()  # make the minimum == 0, so the padding looks white\n",
    "    w,h = images.shape[1:]\n",
    "    image = np.zeros(((w+pad)*n_rows+pad, (h+pad)*n_cols+pad))\n",
    "    for y in range(n_rows):\n",
    "        for x in range(n_cols):\n",
    "            image[(y*(h+pad)+pad):(y*(h+pad)+pad+h),(x*(w+pad)+pad):(x*(w+pad)+pad+w)] = images[y*n_cols+x]\n",
    "    plt.imshow(image, cmap=\"Greys\", interpolation=\"nearest\")\n",
    "    plt.axis(\"off\")"
   ]
  },
  {
   "cell_type": "code",
   "execution_count": 4,
   "metadata": {},
   "outputs": [],
   "source": [
    "import numpy.random as rnd\n",
    "\n",
    "rnd.seed(4)\n",
    "m = 200\n",
    "w1, w2 = 0.1, 0.3\n",
    "noise = 0.1\n",
    "\n",
    "angles = rnd.rand(m) * 3 * np.pi / 2 - 0.5\n",
    "data = np.empty((m, 3))\n",
    "data[:, 0] = np.cos(angles) + np.sin(angles)/2 + noise * rnd.randn(m) / 2\n",
    "data[:, 1] = np.sin(angles) * 0.7 + noise * rnd.randn(m) / 2\n",
    "data[:, 2] = data[:, 0] * w1 + data[:, 1] * w2 + noise * rnd.randn(m)"
   ]
  },
  {
   "cell_type": "code",
   "execution_count": 5,
   "metadata": {},
   "outputs": [],
   "source": [
    "from sklearn.preprocessing import StandardScaler\n",
    "scaler = StandardScaler()\n",
    "X_train = scaler.fit_transform(data[:100])\n",
    "X_test = scaler.transform(data[100:])"
   ]
  },
  {
   "cell_type": "code",
   "execution_count": 6,
   "metadata": {},
   "outputs": [],
   "source": [
    "import tensorflow as tf\n",
    "\n",
    "reset_graph()\n",
    "\n",
    "n_inputs = 3 # 3D inputs\n",
    "n_hidden = 2 # 2D codings\n",
    "n_outputs = n_inputs\n",
    "\n",
    "learning_rate = 0.01\n",
    "\n",
    "X = tf.placeholder(tf.float32, shape=[None, n_inputs])\n",
    "hidden = tf.layers.dense(X, n_hidden)\n",
    "outputs = tf.layers.dense(hidden, n_outputs)\n",
    "\n",
    "reconstruction_loss = tf.reduce_mean(tf.square(outputs - X)) # MSE\n",
    "\n",
    "optimizer = tf.train.AdamOptimizer(learning_rate)\n",
    "training_op = optimizer.minimize(reconstruction_loss)\n",
    "\n",
    "init = tf.global_variables_initializer()"
   ]
  },
  {
   "cell_type": "code",
   "execution_count": 7,
   "metadata": {},
   "outputs": [],
   "source": [
    "n_iterations = 1000\n",
    "codings = hidden # the output of the hidden layer provides the codings\n",
    "\n",
    "with tf.Session() as sess:\n",
    "    init.run()\n",
    "    for iteration in range(n_iterations):\n",
    "        training_op.run(feed_dict={X: X_train})\n",
    "    codings_val = codings.eval(feed_dict={X: X_test})"
   ]
  },
  {
   "cell_type": "code",
   "execution_count": 9,
   "metadata": {},
   "outputs": [
    {
     "data": {
      "image/png": "[encoded data removed]",
      "text/plain": [
       "<Figure size 288x216 with 1 Axes>"
      ]
     },
     "metadata": {},
     "output_type": "display_data"
    }
   ],
   "source": [
    "fig = plt.figure(figsize=(4,3))\n",
    "plt.plot(codings_val[:,0], codings_val[:, 1], \"b.\")\n",
    "plt.xlabel(\"$z_1$\", fontsize=18)\n",
    "plt.ylabel(\"$z_2$\", fontsize=18, rotation=0)\n",
    "#save_fig(\"linear_autoencoder_pca_plot\")\n",
    "plt.show()"
   ]
  },
  {
   "cell_type": "code",
   "execution_count": 10,
   "metadata": {},
   "outputs": [
    {
     "name": "stdout",
     "output_type": "stream",
     "text": [
      "WARNING:tensorflow:From <ipython-input-10-c50d5bb4a85c>:2: read_data_sets (from tensorflow.contrib.learn.python.learn.datasets.mnist) is deprecated and will be removed in a future version.\n",
      "Instructions for updating:\n",
      "Please use alternatives such as official/mnist/dataset.py from tensorflow/models.\n",
      "WARNING:tensorflow:From /home/johnt/ml/env/lib/python3.6/site-packages/tensorflow/contrib/learn/python/learn/datasets/mnist.py:260: maybe_download (from tensorflow.contrib.learn.python.learn.datasets.base) is deprecated and will be removed in a future version.\n",
      "Instructions for updating:\n",
      "Please write your own downloading logic.\n",
      "WARNING:tensorflow:From /home/johnt/ml/env/lib/python3.6/site-packages/tensorflow/contrib/learn/python/learn/datasets/mnist.py:262: extract_images (from tensorflow.contrib.learn.python.learn.datasets.mnist) is deprecated and will be removed in a future version.\n",
      "Instructions for updating:\n",
      "Please use tf.data to implement this functionality.\n",
      "Extracting /tmp/data/train-images-idx3-ubyte.gz\n",
      "WARNING:tensorflow:From /home/johnt/ml/env/lib/python3.6/site-packages/tensorflow/contrib/learn/python/learn/datasets/mnist.py:267: extract_labels (from tensorflow.contrib.learn.python.learn.datasets.mnist) is deprecated and will be removed in a future version.\n",
      "Instructions for updating:\n",
      "Please use tf.data to implement this functionality.\n",
      "Extracting /tmp/data/train-labels-idx1-ubyte.gz\n",
      "Extracting /tmp/data/t10k-images-idx3-ubyte.gz\n",
      "Extracting /tmp/data/t10k-labels-idx1-ubyte.gz\n",
      "WARNING:tensorflow:From /home/johnt/ml/env/lib/python3.6/site-packages/tensorflow/contrib/learn/python/learn/datasets/mnist.py:290: DataSet.__init__ (from tensorflow.contrib.learn.python.learn.datasets.mnist) is deprecated and will be removed in a future version.\n",
      "Instructions for updating:\n",
      "Please use alternatives such as official/mnist/dataset.py from tensorflow/models.\n"
     ]
    }
   ],
   "source": [
    "from tensorflow.examples.tutorials.mnist import input_data\n",
    "mnist = input_data.read_data_sets(\"/tmp/data/\")"
   ]
  },
  {
   "cell_type": "code",
   "execution_count": 14,
   "metadata": {},
   "outputs": [],
   "source": [
    "reset_graph()\n",
    "\n",
    "from functools import partial\n",
    "\n",
    "n_inputs = 28 * 28\n",
    "n_hidden1 = 300\n",
    "n_hidden2 = 150\n",
    "n_hidden3 = n_hidden1\n",
    "n_outputs = n_inputs\n",
    "\n",
    "learning_rate = 0.01\n",
    "l2_reg = 0.0001\n",
    "\n",
    "X = tf.placeholder(tf.float32, shape=[None, n_inputs])\n",
    "\n",
    "he_init = tf.contrib.layers.variance_scaling_initializer()\n",
    "l2_regularizer = tf.contrib.layers.l2_regularizer(l2_reg)\n",
    "my_dense_layer = partial(tf.layers.dense,\n",
    "                        activation=tf.nn.elu,\n",
    "                        kernel_initializer=he_init,\n",
    "                        kernel_regularizer=l2_regularizer)\n",
    "\n",
    "hidden1 = my_dense_layer(X, n_hidden1)\n",
    "hidden2 = my_dense_layer(hidden1, n_hidden2)\n",
    "hidden3 = my_dense_layer(hidden2, n_hidden3)\n",
    "outputs = my_dense_layer(hidden3, n_outputs)\n",
    "\n",
    "reconstruction_loss = tf.reduce_mean(tf.square(outputs - X)) # MSE\n",
    "\n",
    "reg_losses = tf.get_collection(tf.GraphKeys.REGULARIZATION_LOSSES)\n",
    "loss = tf.add_n([reconstruction_loss] + reg_losses)\n",
    "\n",
    "optimizer = tf.train.AdamOptimizer(learning_rate)\n",
    "training_op = optimizer.minimize(loss)\n",
    "\n",
    "init = tf.global_variables_initializer()\n",
    "saver = tf.train.Saver()"
   ]
  },
  {
   "cell_type": "code",
   "execution_count": 17,
   "metadata": {},
   "outputs": [
    {
     "name": "stdout",
     "output_type": "stream",
     "text": [
      "09% Train MSE: 0.016836016\n",
      "1 Train MSE: 0.010599847\n",
      "2 Train MSE: 0.010291325\n",
      "3 Train MSE: 0.010536748\n",
      "4 Train MSE: 0.011389471\n"
     ]
    }
   ],
   "source": [
    "n_epochs = 5\n",
    "batch_size = 150\n",
    "\n",
    "with tf.Session() as sess:\n",
    "    init.run()\n",
    "    for epoch in range(n_epochs):\n",
    "        n_batches = mnist.train.num_examples // batch_size\n",
    "        for iteration in range(n_batches):\n",
    "            print(\"\\r{}%\".format(100 * iteration // n_batches), end=\"\")\n",
    "            sys.stdout.flush()\n",
    "            X_batch, y_batch = mnist.train.next_batch(batch_size)\n",
    "            sess.run(training_op, feed_dict={X: X_batch})\n",
    "        loss_train = reconstruction_loss.eval(feed_dict={X: X_batch})\n",
    "        print(\"\\r{}\".format(epoch), \"Train MSE:\", loss_train)\n",
    "        saver.save(sess, \"./my_model_all_layers.ckpt\")"
   ]
  },
  {
   "cell_type": "code",
   "execution_count": 18,
   "metadata": {},
   "outputs": [],
   "source": [
    "def show_reconstructed_digits(X, outputs, model_path = None, n_test_digits = 2):\n",
    "    with tf.Session() as sess:\n",
    "        if model_path:\n",
    "            saver.restore(sess, model_path)\n",
    "        X_test = mnist.test.images[:n_test_digits]\n",
    "        outputs_val = outputs.eval(feed_dict={X: X_test})\n",
    "\n",
    "    fig = plt.figure(figsize=(8, 3 * n_test_digits))\n",
    "    for digit_index in range(n_test_digits):\n",
    "        plt.subplot(n_test_digits, 2, digit_index * 2 + 1)\n",
    "        plot_image(X_test[digit_index])\n",
    "        plt.subplot(n_test_digits, 2, digit_index * 2 + 2)\n",
    "        plot_image(outputs_val[digit_index])"
   ]
  },
  {
   "cell_type": "code",
   "execution_count": 20,
   "metadata": {},
   "outputs": [
    {
     "name": "stdout",
     "output_type": "stream",
     "text": [
      "INFO:tensorflow:Restoring parameters from ./my_model_all_layers.ckpt\n"
     ]
    },
    {
     "data": {
      "image/png": "[encoded data removed]",
      "text/plain": [
       "<Figure size 576x432 with 4 Axes>"
      ]
     },
     "metadata": {},
     "output_type": "display_data"
    }
   ],
   "source": [
    "show_reconstructed_digits(X, outputs, \"./my_model_all_layers.ckpt\")\n",
    "# save_fig(\"reconstruction_plot\")"
   ]
  },
  {
   "cell_type": "code",
   "execution_count": 21,
   "metadata": {},
   "outputs": [],
   "source": [
    "reset_graph()\n",
    "\n",
    "n_inputs = 28 * 28\n",
    "n_hidden1 = 300\n",
    "n_hidden2 = 150  # codings\n",
    "n_hidden3 = n_hidden1\n",
    "n_outputs = n_inputs\n",
    "\n",
    "learning_rate = 0.01\n",
    "l2_reg = 0.0005"
   ]
  },
  {
   "cell_type": "code",
   "execution_count": 26,
   "metadata": {},
   "outputs": [],
   "source": [
    "activation = tf.nn.elu\n",
    "regularizer = tf.contrib.layers.l2_regularizer(l2_reg)\n",
    "initializer = tf.contrib.layers.variance_scaling_initializer()\n",
    "\n",
    "X = tf.placeholder(tf.float32, shape=[None, n_inputs])\n",
    "\n",
    "weights1_init = initializer([n_inputs, n_hidden1])\n",
    "weights2_init = initializer([n_hidden1, n_hidden2])\n",
    "\n",
    "weights1 = tf.Variable(weights1_init, dtype=tf.float32, name=\"weights1\")\n",
    "weights2 = tf.Variable(weights2_init, dtype=tf.float32, name=\"weights2\")\n",
    "weights3 = tf.transpose(weights2, name=\"weights3\") # transpose of 1 and 2, halves number of\n",
    "weights4 = tf.transpose(weights1, name=\"weights4\") # of weights to train, ties them together\n",
    "\n",
    "biases1 = tf.Variable(tf.zeros(n_hidden1), name=\"biases1\")\n",
    "biases2 = tf.Variable(tf.zeros(n_hidden2), name=\"biases2\")\n",
    "biases3 = tf.Variable(tf.zeros(n_hidden3), name=\"biases3\")\n",
    "biases4 = tf.Variable(tf.zeros(n_outputs), name=\"biases4\")\n",
    "\n",
    "hidden1 = activation(tf.matmul(X, weights1) + biases1)\n",
    "hidden2 = activation(tf.matmul(hidden1, weights2) + biases2)\n",
    "hidden3 = activation(tf.matmul(hidden2, weights3) + biases3)\n",
    "outputs = tf.matmul(hidden3, weights4) + biases4\n",
    "\n",
    "reconstruction_loss = tf.reduce_mean(tf.square(outputs - X))\n",
    "reg_loss = regularizer(weights1) + regularizer(weights2)\n",
    "loss = reconstruction_loss + reg_loss\n",
    "\n",
    "optimizer = tf.train.AdamOptimizer(learning_rate)\n",
    "\n",
    "training_op = optimizer.minimize(loss)\n",
    "\n",
    "init = tf.global_variables_initializer()"
   ]
  },
  {
   "cell_type": "code",
   "execution_count": 27,
   "metadata": {},
   "outputs": [],
   "source": [
    "saver = tf.train.Saver()"
   ]
  },
  {
   "cell_type": "code",
   "execution_count": 28,
   "metadata": {},
   "outputs": [
    {
     "name": "stdout",
     "output_type": "stream",
     "text": [
      "0 Train MSE: 0.01898222\n",
      "1 Train MSE: 0.017025502\n",
      "2 Train MSE: 0.017052786\n",
      "3 Train MSE: 0.016795054\n",
      "4 Train MSE: 0.016804827\n"
     ]
    }
   ],
   "source": [
    "n_epochs = 5\n",
    "batch_size = 150\n",
    "\n",
    "with tf.Session() as sess:\n",
    "    init.run()\n",
    "    for epoch in range(n_epochs):\n",
    "        n_batches = mnist.train.num_examples // batch_size\n",
    "        for iteration in range(n_batches):\n",
    "            print(\"\\r{}%\".format(100 * iteration // n_batches), end=\"\")\n",
    "            sys.stdout.flush()\n",
    "            X_batch, y_batch = mnist.train.next_batch(batch_size)\n",
    "            sess.run(training_op, feed_dict={X: X_batch})\n",
    "        loss_train = reconstruction_loss.eval(feed_dict={X: X_batch})\n",
    "        print(\"\\r{}\".format(epoch), \"Train MSE:\", loss_train)\n",
    "        saver.save(sess, \"./my_model_tying_weights.ckpt\")"
   ]
  },
  {
   "cell_type": "code",
   "execution_count": 29,
   "metadata": {},
   "outputs": [
    {
     "name": "stdout",
     "output_type": "stream",
     "text": [
      "INFO:tensorflow:Restoring parameters from ./my_model_tying_weights.ckpt\n"
     ]
    },
    {
     "data": {
      "image/png": "[encoded data removed]",
      "text/plain": [
       "<Figure size 576x432 with 4 Axes>"
      ]
     },
     "metadata": {},
     "output_type": "display_data"
    }
   ],
   "source": [
    "show_reconstructed_digits(X, outputs, \"./my_model_tying_weights.ckpt\")"
   ]
  },
  {
   "cell_type": "code",
   "execution_count": 30,
   "metadata": {},
   "outputs": [],
   "source": [
    "reset_graph()\n",
    "\n",
    "from functools import partial\n",
    "\n",
    "def train_autoencoder(X_train, n_neurons, n_epochs, batch_size,\n",
    "                      learning_rate = 0.01, l2_reg = 0.0005, seed=42,\n",
    "                      hidden_activation=tf.nn.elu,\n",
    "                      output_activation=tf.nn.elu):\n",
    "    graph = tf.Graph()\n",
    "    with graph.as_default():\n",
    "        tf.set_random_seed(seed)\n",
    "\n",
    "        n_inputs = X_train.shape[1]\n",
    "\n",
    "        X = tf.placeholder(tf.float32, shape=[None, n_inputs])\n",
    "        \n",
    "        my_dense_layer = partial(\n",
    "            tf.layers.dense,\n",
    "            kernel_initializer=tf.contrib.layers.variance_scaling_initializer(),\n",
    "            kernel_regularizer=tf.contrib.layers.l2_regularizer(l2_reg))\n",
    "\n",
    "        hidden = my_dense_layer(X, n_neurons, activation=hidden_activation, name=\"hidden\")\n",
    "        outputs = my_dense_layer(hidden, n_inputs, activation=output_activation, name=\"outputs\")\n",
    "\n",
    "        reconstruction_loss = tf.reduce_mean(tf.square(outputs - X))\n",
    "\n",
    "        reg_losses = tf.get_collection(tf.GraphKeys.REGULARIZATION_LOSSES)\n",
    "        loss = tf.add_n([reconstruction_loss] + reg_losses)\n",
    "\n",
    "        optimizer = tf.train.AdamOptimizer(learning_rate)\n",
    "        training_op = optimizer.minimize(loss)\n",
    "\n",
    "        init = tf.global_variables_initializer()\n",
    "\n",
    "    with tf.Session(graph=graph) as sess:\n",
    "        init.run()\n",
    "        for epoch in range(n_epochs):\n",
    "            n_batches = len(X_train) // batch_size\n",
    "            for iteration in range(n_batches):\n",
    "                print(\"\\r{}%\".format(100 * iteration // n_batches), end=\"\")\n",
    "                sys.stdout.flush()\n",
    "                indices = rnd.permutation(len(X_train))[:batch_size]\n",
    "                X_batch = X_train[indices]\n",
    "                sess.run(training_op, feed_dict={X: X_batch})\n",
    "            loss_train = reconstruction_loss.eval(feed_dict={X: X_batch})\n",
    "            print(\"\\r{}\".format(epoch), \"Train MSE:\", loss_train)\n",
    "        params = dict([(var.name, var.eval()) for var in tf.get_collection(tf.GraphKeys.TRAINABLE_VARIABLES)])\n",
    "        hidden_val = hidden.eval(feed_dict={X: X_train})\n",
    "        return hidden_val, params[\"hidden/kernel:0\"], params[\"hidden/bias:0\"], params[\"outputs/kernel:0\"], params[\"outputs/bias:0\"]"
   ]
  },
  {
   "cell_type": "code",
   "execution_count": 31,
   "metadata": {},
   "outputs": [
    {
     "name": "stdout",
     "output_type": "stream",
     "text": [
      "0 Train MSE: 0.01851794\n",
      "1 Train MSE: 0.01868272\n",
      "2 Train MSE: 0.018467719\n",
      "3 Train MSE: 0.019231746\n",
      "0 Train MSE: 0.0042360923\n",
      "1 Train MSE: 0.004832633\n",
      "2 Train MSE: 0.0046687066\n",
      "3 Train MSE: 0.0044038743\n"
     ]
    }
   ],
   "source": [
    "hidden_output, W1, b1, W4, b4 = train_autoencoder(mnist.train.images, n_neurons=300, n_epochs=4, batch_size=150,\n",
    "                                                  output_activation=None)\n",
    "_, W2, b2, W3, b3 = train_autoencoder(hidden_output, n_neurons=150, n_epochs=4, batch_size=150)"
   ]
  },
  {
   "cell_type": "code",
   "execution_count": 32,
   "metadata": {},
   "outputs": [],
   "source": [
    "reset_graph()\n",
    "\n",
    "n_inputs = 28*28\n",
    "\n",
    "X = tf.placeholder(tf.float32, shape=[None, n_inputs])\n",
    "hidden1 = tf.nn.elu(tf.matmul(X, W1) + b1)\n",
    "hidden2 = tf.nn.elu(tf.matmul(hidden1, W2) + b2)\n",
    "hidden3 = tf.nn.elu(tf.matmul(hidden2, W3) + b3)\n",
    "outputs = tf.matmul(hidden3, W4) + b4"
   ]
  },
  {
   "cell_type": "code",
   "execution_count": 33,
   "metadata": {},
   "outputs": [
    {
     "data": {
      "image/png": "[encoded data removed]",
      "text/plain": [
       "<Figure size 576x432 with 4 Axes>"
      ]
     },
     "metadata": {},
     "output_type": "display_data"
    }
   ],
   "source": [
    "show_reconstructed_digits(X, outputs)"
   ]
  },
  {
   "cell_type": "code",
   "execution_count": 34,
   "metadata": {},
   "outputs": [],
   "source": [
    "reset_graph()\n",
    "\n",
    "n_inputs = 28 * 28\n",
    "n_hidden1 = 300\n",
    "n_hidden2 = 150  # codings\n",
    "n_hidden3 = n_hidden1\n",
    "n_outputs = n_inputs\n",
    "\n",
    "learning_rate = 0.01\n",
    "l2_reg = 0.0001\n",
    "\n",
    "activation = tf.nn.elu\n",
    "regularizer = tf.contrib.layers.l2_regularizer(l2_reg)\n",
    "initializer = tf.contrib.layers.variance_scaling_initializer()\n",
    "\n",
    "X = tf.placeholder(tf.float32, shape=[None, n_inputs])\n",
    "\n",
    "weights1_init = initializer([n_inputs, n_hidden1])\n",
    "weights2_init = initializer([n_hidden1, n_hidden2])\n",
    "weights3_init = initializer([n_hidden2, n_hidden3])\n",
    "weights4_init = initializer([n_hidden3, n_outputs])\n",
    "\n",
    "weights1 = tf.Variable(weights1_init, dtype=tf.float32, name=\"weights1\")\n",
    "weights2 = tf.Variable(weights2_init, dtype=tf.float32, name=\"weights2\")\n",
    "weights3 = tf.Variable(weights3_init, dtype=tf.float32, name=\"weights3\")\n",
    "weights4 = tf.Variable(weights4_init, dtype=tf.float32, name=\"weights4\")\n",
    "\n",
    "biases1 = tf.Variable(tf.zeros(n_hidden1), name=\"biases1\")\n",
    "biases2 = tf.Variable(tf.zeros(n_hidden2), name=\"biases2\")\n",
    "biases3 = tf.Variable(tf.zeros(n_hidden3), name=\"biases3\")\n",
    "biases4 = tf.Variable(tf.zeros(n_outputs), name=\"biases4\")\n",
    "\n",
    "hidden1 = activation(tf.matmul(X, weights1) + biases1)\n",
    "hidden2 = activation(tf.matmul(hidden1, weights2) + biases2)\n",
    "hidden3 = activation(tf.matmul(hidden2, weights3) + biases3)\n",
    "outputs = tf.matmul(hidden3, weights4) + biases4\n",
    "\n",
    "reconstruction_loss = tf.reduce_mean(tf.square(outputs - X))"
   ]
  },
  {
   "cell_type": "code",
   "execution_count": 36,
   "metadata": {},
   "outputs": [],
   "source": [
    "optimizer = tf.train.AdamOptimizer(learning_rate)\n",
    "\n",
    "with tf.name_scope(\"phase1\"):\n",
    "    phase1_outputs = tf.matmul(hidden1, weights4) + biases4 # bypass hidden 2 and hidden3\n",
    "    phase1_reconstruction_loss = tf.reduce_mean(tf.square(phase1_outputs - X))\n",
    "    phase1_reg_loss = regularizer(weights1) + regularizer(weights4)\n",
    "    phase1_loss = phase1_reconstruction_loss + phase1_reg_loss\n",
    "    phase1_training_op = optimizer.minimize(phase1_loss)\n",
    "    \n",
    "with tf.name_scope(\"phase2\"):\n",
    "    phase2_reconstruction_loss = tf.reduce_mean(tf.square(hidden3-hidden1))\n",
    "    phase2_reg_loss = regularizer(weights2) + regularizer(weights3)\n",
    "    phase2_loss = phase2_reconstruction_loss + phase2_reg_loss\n",
    "    train_vars = [weights2, biases2, weights3, biases3]\n",
    "    phase2_training_op = optimizer.minimize(phase2_loss, var_list=train_vars) # freeze hidden1"
   ]
  },
  {
   "cell_type": "code",
   "execution_count": 37,
   "metadata": {},
   "outputs": [],
   "source": [
    "init = tf.global_variables_initializer()\n",
    "saver = tf.train.Saver()"
   ]
  },
  {
   "cell_type": "code",
   "execution_count": 38,
   "metadata": {},
   "outputs": [
    {
     "name": "stdout",
     "output_type": "stream",
     "text": [
      "Training phase #1\n",
      "0 Train MSE: 0.007633153\n",
      "1 Train MSE: 0.0074867676\n",
      "2 Train MSE: 0.007552817\n",
      "3 Train MSE: 0.0072671617\n",
      "Training phase #2\n",
      "0 Train MSE: 0.3418688\n",
      "1 Train MSE: 0.0074005616\n",
      "2 Train MSE: 0.0031476095\n",
      "3 Train MSE: 0.0021905191\n",
      "Test MSE: 0.009730358\n"
     ]
    }
   ],
   "source": [
    "training_ops = [phase1_training_op, phase2_training_op]\n",
    "reconstruction_losses = [phase1_reconstruction_loss, phase2_reconstruction_loss]\n",
    "n_epochs = [4, 4]\n",
    "batch_sizes = [150, 150]\n",
    "\n",
    "with tf.Session() as sess:\n",
    "    init.run()\n",
    "    for phase in range(2):\n",
    "        print(\"Training phase #{}\".format(phase + 1))\n",
    "        for epoch in range(n_epochs[phase]):\n",
    "            n_batches = mnist.train.num_examples // batch_sizes[phase]\n",
    "            for iteration in range(n_batches):\n",
    "                print(\"\\r{}%\".format(100 * iteration // n_batches), end=\"\")\n",
    "                sys.stdout.flush()\n",
    "                X_batch, y_batch = mnist.train.next_batch(batch_sizes[phase])\n",
    "                sess.run(training_ops[phase], feed_dict={X: X_batch})\n",
    "            loss_train = reconstruction_losses[phase].eval(feed_dict={X: X_batch})\n",
    "            print(\"\\r{}\".format(epoch), \"Train MSE:\", loss_train)\n",
    "            saver.save(sess, \"./my_model_one_at_a_time.ckpt\")\n",
    "    loss_test = reconstruction_loss.eval(feed_dict={X: mnist.test.images})\n",
    "    print(\"Test MSE:\", loss_test)"
   ]
  },
  {
   "cell_type": "code",
   "execution_count": 40,
   "metadata": {},
   "outputs": [
    {
     "name": "stdout",
     "output_type": "stream",
     "text": [
      "Training phase #1\n",
      "0 Train MSE: 0.0075779897\n",
      "1 Train MSE: 0.0075121815\n",
      "2 Train MSE: 0.008273264\n",
      "3 Train MSE: 0.008221074\n",
      "Training phase #2\n",
      "0 Train MSE: 0.18398763\n",
      "1 Train MSE: 0.005316521\n",
      "2 Train MSE: 0.0025735192\n",
      "3 Train MSE: 0.0021171337\n",
      "Test MSE: 0.0096060075\n"
     ]
    }
   ],
   "source": [
    "training_ops = [phase1_training_op, phase2_training_op]\n",
    "reconstruction_losses = [phase1_reconstruction_loss, phase2_reconstruction_loss]\n",
    "n_epochs = [4, 4]\n",
    "batch_sizes = [150, 150]\n",
    "\n",
    "with tf.Session() as sess:\n",
    "    init.run()\n",
    "    for phase in range(2):\n",
    "        print(\"Training phase #{}\".format(phase + 1))\n",
    "        if phase == 1:\n",
    "            hidden1_cache = hidden1.eval(feed_dict={X: mnist.train.images})\n",
    "        for epoch in range(n_epochs[phase]):\n",
    "            n_batches = mnist.train.num_examples // batch_sizes[phase]\n",
    "            for iteration in range(n_batches):\n",
    "                print(\"\\r{}%\".format(100 * iteration // n_batches), end=\"\")\n",
    "                sys.stdout.flush()\n",
    "                if phase == 1:\n",
    "                    indices = rnd.permutation(mnist.train.num_examples)\n",
    "                    hidden1_batch = hidden1_cache[indices[:batch_sizes[phase]]]\n",
    "                    feed_dict = {hidden1: hidden1_batch}\n",
    "                    sess.run(training_ops[phase], feed_dict=feed_dict)\n",
    "                else:\n",
    "                    X_batch, y_batch = mnist.train.next_batch(batch_sizes[phase])\n",
    "                    feed_dict = {X: X_batch}\n",
    "                    sess.run(training_ops[phase], feed_dict=feed_dict)\n",
    "            loss_train = reconstruction_losses[phase].eval(feed_dict=feed_dict)\n",
    "            print(\"\\r{}\".format(epoch), \"Train MSE:\", loss_train)\n",
    "            saver.save(sess, \"./my_model_cache_frozen.ckpt\")\n",
    "    loss_test = reconstruction_loss.eval(feed_dict={X: mnist.test.images})\n",
    "    print(\"Test MSE:\", loss_test)"
   ]
  },
  {
   "cell_type": "code",
   "execution_count": 41,
   "metadata": {},
   "outputs": [
    {
     "name": "stdout",
     "output_type": "stream",
     "text": [
      "INFO:tensorflow:Restoring parameters from ./my_model_one_at_a_time.ckpt\n"
     ]
    },
    {
     "data": {
      "image/png": "[encoded data removed]",
      "text/plain": [
       "<Figure size 432x288 with 4 Axes>"
      ]
     },
     "metadata": {},
     "output_type": "display_data"
    }
   ],
   "source": [
    "n_test_digits = 2\n",
    "X_test = mnist.test.images[:n_test_digits]\n",
    "\n",
    "with tf.Session() as sess:\n",
    "    saver.restore(sess, \"./my_model_one_at_a_time.ckpt\") # not shown in the book\n",
    "    outputs_val = outputs.eval(feed_dict={X: X_test})\n",
    "\n",
    "def plot_image(image, shape=[28, 28]):\n",
    "    plt.imshow(image.reshape(shape), cmap=\"Greys\", interpolation=\"nearest\")\n",
    "    plt.axis(\"off\")\n",
    "\n",
    "for digit_index in range(n_test_digits):\n",
    "    plt.subplot(n_test_digits, 2, digit_index * 2 + 1)\n",
    "    plot_image(X_test[digit_index])\n",
    "    plt.subplot(n_test_digits, 2, digit_index * 2 + 2)\n",
    "    plot_image(outputs_val[digit_index])"
   ]
  },
  {
   "cell_type": "code",
   "execution_count": 42,
   "metadata": {},
   "outputs": [
    {
     "name": "stdout",
     "output_type": "stream",
     "text": [
      "INFO:tensorflow:Restoring parameters from ./my_model_one_at_a_time.ckpt\n"
     ]
    },
    {
     "data": {
      "image/png": "[encoded data removed]",
      "text/plain": [
       "<Figure size 432x288 with 5 Axes>"
      ]
     },
     "metadata": {},
     "output_type": "display_data"
    }
   ],
   "source": [
    "with tf.Session() as sess:\n",
    "    saver.restore(sess, \"./my_model_one_at_a_time.ckpt\") # not shown in the book\n",
    "    weights1_val = weights1.eval()\n",
    "\n",
    "for i in range(5):\n",
    "    plt.subplot(1, 5, i + 1)\n",
    "    plot_image(weights1_val.T[i])\n",
    "\n",
    "#save_fig(\"extracted_features_plot\") # not shown\n",
    "plt.show()                          # not shown"
   ]
  },
  {
   "cell_type": "code",
   "execution_count": 43,
   "metadata": {},
   "outputs": [],
   "source": [
    "reset_graph()\n",
    "\n",
    "n_inputs = 28 * 28\n",
    "n_hidden1 = 300\n",
    "n_hidden2 = 150\n",
    "n_outputs = 10\n",
    "\n",
    "learning_rate = 0.01\n",
    "l2_reg = 0.0005\n",
    "\n",
    "activation = tf.nn.elu\n",
    "regularizer = tf.contrib.layers.l2_regularizer(l2_reg)\n",
    "initializer = tf.contrib.layers.variance_scaling_initializer()\n",
    "\n",
    "X = tf.placeholder(tf.float32, shape=[None, n_inputs])\n",
    "y = tf.placeholder(tf.int32, shape=[None])\n",
    "\n",
    "weights1_init = initializer([n_inputs, n_hidden1])\n",
    "weights2_init = initializer([n_hidden1, n_hidden2])\n",
    "weights3_init = initializer([n_hidden2, n_outputs])\n",
    "\n",
    "weights1 = tf.Variable(weights1_init, dtype=tf.float32, name=\"weights1\")\n",
    "weights2 = tf.Variable(weights2_init, dtype=tf.float32, name=\"weights2\")\n",
    "weights3 = tf.Variable(weights3_init, dtype=tf.float32, name=\"weights3\")\n",
    "\n",
    "biases1 = tf.Variable(tf.zeros(n_hidden1), name=\"biases1\")\n",
    "biases2 = tf.Variable(tf.zeros(n_hidden2), name=\"biases2\")\n",
    "biases3 = tf.Variable(tf.zeros(n_outputs), name=\"biases3\")\n",
    "\n",
    "hidden1 = activation(tf.matmul(X, weights1) + biases1)\n",
    "hidden2 = activation(tf.matmul(hidden1, weights2) + biases2)\n",
    "logits = tf.matmul(hidden2, weights3) + biases3\n",
    "\n",
    "cross_entropy = tf.nn.sparse_softmax_cross_entropy_with_logits(labels=y, logits=logits)\n",
    "reg_loss = regularizer(weights1) + regularizer(weights2) + regularizer(weights3)\n",
    "loss = cross_entropy + reg_loss\n",
    "optimizer = tf.train.AdamOptimizer(learning_rate)\n",
    "training_op = optimizer.minimize(loss)\n",
    "\n",
    "correct = tf.nn.in_top_k(logits, y, 1)\n",
    "accuracy = tf.reduce_mean(tf.cast(correct, tf.float32))\n",
    "\n",
    "init = tf.global_variables_initializer()\n",
    "pretrain_saver = tf.train.Saver([weights1, weights2, biases1, biases2])\n",
    "saver = tf.train.Saver()"
   ]
  },
  {
   "cell_type": "code",
   "execution_count": 44,
   "metadata": {},
   "outputs": [
    {
     "name": "stdout",
     "output_type": "stream",
     "text": [
      "0 Train accuracy: 0.97333336 Test accuracy: 0.9334\n",
      "1 Train accuracy: 0.98 Test accuracy: 0.936\n",
      "2 Train accuracy: 0.97333336 Test accuracy: 0.9382\n",
      "3 Train accuracy: 0.9866667 Test accuracy: 0.9489\n"
     ]
    }
   ],
   "source": [
    "n_epochs = 4\n",
    "batch_size = 150\n",
    "n_labeled_instances = 20000\n",
    "\n",
    "with tf.Session() as sess:\n",
    "    init.run()\n",
    "    for epoch in range(n_epochs):\n",
    "        n_batches = n_labeled_instances // batch_size\n",
    "        for iteration in range(n_batches):\n",
    "            print(\"\\r{}%\".format(100 * iteration // n_batches), end=\"\")\n",
    "            sys.stdout.flush()\n",
    "            indices = rnd.permutation(n_labeled_instances)[:batch_size]\n",
    "            X_batch, y_batch = mnist.train.images[indices], mnist.train.labels[indices]\n",
    "            sess.run(training_op, feed_dict={X: X_batch, y: y_batch})\n",
    "        accuracy_val = accuracy.eval(feed_dict={X: X_batch, y: y_batch})\n",
    "        print(\"\\r{}\".format(epoch), \"Train accuracy:\", accuracy_val, end=\" \")\n",
    "        saver.save(sess, \"./my_model_supervised.ckpt\")\n",
    "        accuracy_val = accuracy.eval(feed_dict={X: mnist.test.images, y: mnist.test.labels})\n",
    "        print(\"Test accuracy:\", accuracy_val)"
   ]
  },
  {
   "cell_type": "code",
   "execution_count": 45,
   "metadata": {},
   "outputs": [
    {
     "name": "stdout",
     "output_type": "stream",
     "text": [
      "INFO:tensorflow:Restoring parameters from ./my_model_cache_frozen.ckpt\n",
      "0 Train accuracy: 0.94666666\tTest accuracy: 0.929\n",
      "1 Train accuracy: 0.9866667\tTest accuracy: 0.9445\n",
      "2 Train accuracy: 0.96666664\tTest accuracy: 0.9451\n",
      "3 Train accuracy: 0.96666664\tTest accuracy: 0.9457\n"
     ]
    }
   ],
   "source": [
    "n_epochs = 4\n",
    "batch_size = 150\n",
    "n_labeled_instances = 20000\n",
    "\n",
    "#training_op = optimizer.minimize(loss, var_list=[weights3, biases3])  # Freeze layers 1 and 2 (optional)\n",
    "\n",
    "with tf.Session() as sess:\n",
    "    init.run()\n",
    "    pretrain_saver.restore(sess, \"./my_model_cache_frozen.ckpt\")\n",
    "    for epoch in range(n_epochs):\n",
    "        n_batches = n_labeled_instances // batch_size\n",
    "        for iteration in range(n_batches):\n",
    "            print(\"\\r{}%\".format(100 * iteration // n_batches), end=\"\")\n",
    "            sys.stdout.flush()\n",
    "            indices = rnd.permutation(n_labeled_instances)[:batch_size]\n",
    "            X_batch, y_batch = mnist.train.images[indices], mnist.train.labels[indices]\n",
    "            sess.run(training_op, feed_dict={X: X_batch, y: y_batch})\n",
    "        accuracy_val = accuracy.eval(feed_dict={X: X_batch, y: y_batch})\n",
    "        print(\"\\r{}\".format(epoch), \"Train accuracy:\", accuracy_val, end=\"\\t\")\n",
    "        saver.save(sess, \"./my_model_supervised_pretrained.ckpt\")\n",
    "        accuracy_val = accuracy.eval(feed_dict={X: mnist.test.images, y: mnist.test.labels})\n",
    "        print(\"Test accuracy:\", accuracy_val)"
   ]
  },
  {
   "cell_type": "code",
   "execution_count": 46,
   "metadata": {},
   "outputs": [],
   "source": [
    "reset_graph()\n",
    "\n",
    "n_inputs = 28 * 28\n",
    "n_hidden1 = 300\n",
    "n_hidden2 = 150  # codings\n",
    "n_hidden3 = n_hidden1\n",
    "n_outputs = n_inputs\n",
    "\n",
    "learning_rate = 0.01"
   ]
  },
  {
   "cell_type": "code",
   "execution_count": 48,
   "metadata": {},
   "outputs": [],
   "source": [
    "noise_level = 1.0\n",
    "\n",
    "X = tf.placeholder(tf.float32, shape=[None, n_inputs])\n",
    "X_noisy = X + noise_level * tf.random_normal(tf.shape(X))\n",
    "\n",
    "hidden1 = tf.layers.dense(X_noisy, n_hidden1, activation=tf.nn.relu, name=\"hidden1\")\n",
    "hidden2 = tf.layers.dense(hidden1, n_hidden2, activation=tf.nn.relu, name=\"hidden2\")\n",
    "hidden3 = tf.layers.dense(hidden2, n_hidden3, activation=tf.nn.relu, name=\"hidden3\")\n",
    "outputs = tf.layers.dense(hidden3, n_outputs, name=\"outputs\")\n",
    "\n",
    "reconstruction_loss = tf.reduce_mean(tf.square(outputs - X)) # MSE"
   ]
  },
  {
   "cell_type": "code",
   "execution_count": 49,
   "metadata": {},
   "outputs": [],
   "source": [
    "optimizer = tf.train.AdamOptimizer(learning_rate)\n",
    "training_op = optimizer.minimize(reconstruction_loss)\n",
    "    \n",
    "init = tf.global_variables_initializer()\n",
    "saver = tf.train.Saver()"
   ]
  },
  {
   "cell_type": "code",
   "execution_count": 57,
   "metadata": {},
   "outputs": [
    {
     "name": "stdout",
     "output_type": "stream",
     "text": [
      "0 Train MSE: 0.038664985\n",
      "1 Train MSE: 0.032341726\n",
      "2 Train MSE: 0.029060107\n",
      "3 Train MSE: 0.028742343\n",
      "4 Train MSE: 0.028551446\n",
      "5 Train MSE: 0.027792217\n",
      "6 Train MSE: 0.0274574\n",
      "7 Train MSE: 0.029339302\n",
      "8 Train MSE: 0.028590292\n",
      "9 Train MSE: 0.028061787\n"
     ]
    }
   ],
   "source": [
    "n_epochs = 10\n",
    "batch_size = 150\n",
    "\n",
    "with tf.Session() as sess:\n",
    "    init.run()\n",
    "    for epoch in range(n_epochs):\n",
    "        n_batches = mnist.train.num_examples // batch_size\n",
    "        for iteration in range(n_batches):\n",
    "            print(\"\\r{}%\".format(100 * iteration // n_batches), end=\"\")\n",
    "            sys.stdout.flush()\n",
    "            X_batch, y_batch = mnist.train.next_batch(batch_size)\n",
    "            sess.run(training_op, feed_dict={X: X_batch})\n",
    "        loss_train = reconstruction_loss.eval(feed_dict={X: X_batch})\n",
    "        print(\"\\r{}\".format(epoch), \"Train MSE:\", loss_train)\n",
    "        saver.save(sess, \"./my_model_stacked_denoising_gaussian.ckpt\")"
   ]
  },
  {
   "cell_type": "code",
   "execution_count": 58,
   "metadata": {},
   "outputs": [
    {
     "name": "stdout",
     "output_type": "stream",
     "text": [
      "INFO:tensorflow:Restoring parameters from ./my_model_stacked_denoising_gaussian.ckpt\n"
     ]
    },
    {
     "data": {
      "image/png": "[encoded data removed]",
      "text/plain": [
       "<Figure size 576x432 with 4 Axes>"
      ]
     },
     "metadata": {},
     "output_type": "display_data"
    }
   ],
   "source": [
    "show_reconstructed_digits(X, outputs, \"./my_model_stacked_denoising_gaussian.ckpt\")"
   ]
  },
  {
   "cell_type": "code",
   "execution_count": 59,
   "metadata": {},
   "outputs": [],
   "source": [
    "reset_graph()\n",
    "\n",
    "n_inputs = 28 * 28\n",
    "n_hidden1 = 300\n",
    "n_hidden2 = 150  # codings\n",
    "n_hidden3 = n_hidden1\n",
    "n_outputs = n_inputs\n",
    "\n",
    "learning_rate = 0.01"
   ]
  },
  {
   "cell_type": "code",
   "execution_count": 60,
   "metadata": {},
   "outputs": [],
   "source": [
    "dropout_rate = 0.3\n",
    "\n",
    "training = tf.placeholder_with_default(False, shape=(), name='training')\n",
    "\n",
    "X = tf.placeholder(tf.float32, shape=[None, n_inputs])\n",
    "X_drop = tf.layers.dropout(X, dropout_rate, training=training)\n",
    "\n",
    "hidden1 = tf.layers.dense(X_drop, n_hidden1, activation=tf.nn.relu,\n",
    "                          name=\"hidden1\")\n",
    "hidden2 = tf.layers.dense(hidden1, n_hidden2, activation=tf.nn.relu, # not shown in the book\n",
    "                          name=\"hidden2\")                            # not shown\n",
    "hidden3 = tf.layers.dense(hidden2, n_hidden3, activation=tf.nn.relu, # not shown\n",
    "                          name=\"hidden3\")                            # not shown\n",
    "outputs = tf.layers.dense(hidden3, n_outputs, name=\"outputs\")        # not shown\n",
    "\n",
    "reconstruction_loss = tf.reduce_mean(tf.square(outputs - X)) # MSE"
   ]
  },
  {
   "cell_type": "code",
   "execution_count": 61,
   "metadata": {},
   "outputs": [],
   "source": [
    "optimizer = tf.train.AdamOptimizer(learning_rate)\n",
    "training_op = optimizer.minimize(reconstruction_loss)\n",
    "    \n",
    "init = tf.global_variables_initializer()\n",
    "saver = tf.train.Saver()"
   ]
  },
  {
   "cell_type": "code",
   "execution_count": 62,
   "metadata": {},
   "outputs": [
    {
     "name": "stdout",
     "output_type": "stream",
     "text": [
      "0 Train MSE: 0.031238604\n",
      "1 Train MSE: 0.027905263\n",
      "2 Train MSE: 0.027314926\n",
      "3 Train MSE: 0.029612144\n",
      "4 Train MSE: 0.027996114\n",
      "5 Train MSE: 0.028013838\n",
      "6 Train MSE: 0.028128428\n",
      "7 Train MSE: 0.029492589\n",
      "8 Train MSE: 0.028878847\n",
      "9 Train MSE: 0.026274247\n"
     ]
    }
   ],
   "source": [
    "n_epochs = 10\n",
    "batch_size = 150\n",
    "\n",
    "with tf.Session() as sess:\n",
    "    init.run()\n",
    "    for epoch in range(n_epochs):\n",
    "        n_batches = mnist.train.num_examples // batch_size\n",
    "        for iteration in range(n_batches):\n",
    "            print(\"\\r{}%\".format(100 * iteration // n_batches), end=\"\")\n",
    "            sys.stdout.flush()\n",
    "            X_batch, y_batch = mnist.train.next_batch(batch_size)\n",
    "            sess.run(training_op, feed_dict={X: X_batch, training: True})\n",
    "        loss_train = reconstruction_loss.eval(feed_dict={X: X_batch})\n",
    "        print(\"\\r{}\".format(epoch), \"Train MSE:\", loss_train)\n",
    "        saver.save(sess, \"./my_model_stacked_denoising_dropout.ckpt\")"
   ]
  },
  {
   "cell_type": "code",
   "execution_count": 63,
   "metadata": {},
   "outputs": [
    {
     "name": "stdout",
     "output_type": "stream",
     "text": [
      "INFO:tensorflow:Restoring parameters from ./my_model_stacked_denoising_dropout.ckpt\n"
     ]
    },
    {
     "data": {
      "image/png": "[encoded data removed]",
      "text/plain": [
       "<Figure size 576x432 with 4 Axes>"
      ]
     },
     "metadata": {},
     "output_type": "display_data"
    }
   ],
   "source": [
    "show_reconstructed_digits(X, outputs, \"./my_model_stacked_denoising_dropout.ckpt\")"
   ]
  },
  {
   "cell_type": "code",
   "execution_count": 71,
   "metadata": {},
   "outputs": [],
   "source": [
    "reset_graph()\n",
    "\n",
    "n_inputs = 28 * 28\n",
    "n_hidden1 = 1000\n",
    "n_outputs = n_inputs"
   ]
  },
  {
   "cell_type": "code",
   "execution_count": 72,
   "metadata": {},
   "outputs": [],
   "source": [
    "def kl_divergence(p, q):\n",
    "    return p * tf.log(p / q) + (1 - p) * tf.log((1 - p) / (1 - q))\n",
    "\n",
    "learning_rate = 0.01\n",
    "sparsity_target = 0.1\n",
    "sparsity_weight = 0.2\n",
    "\n",
    "X = tf.placeholder(tf.float32, shape=[None, n_inputs])\n",
    "\n",
    "hidden1 = tf.layers.dense(X, n_hidden, activation=tf.nn.sigmoid)\n",
    "logits = tf.layers.dense(hidden1, n_outputs)\n",
    "outputs = tf.nn.sigmoid(logits)\n",
    "\n",
    "hidden1_mean = tf.reduce_mean(hidden1, axis=0) # batch mean\n",
    "sparsity_loss = tf.reduce_sum(kl_divergence(sparsity_target, hidden1_mean))\n",
    "xentropy = tf.nn.sigmoid_cross_entropy_with_logits(labels=X, logits=logits)\n",
    "reconstruction_loss = tf.reduce_mean(xentropy)\n",
    "loss = reconstruction_loss + sparsity_weight * sparsity_loss\n",
    "\n",
    "optimizer = tf.train.AdamOptimizer(learning_rate)\n",
    "training_op = optimizer.minimize(loss)"
   ]
  },
  {
   "cell_type": "code",
   "execution_count": 73,
   "metadata": {},
   "outputs": [],
   "source": [
    "init = tf.global_variables_initializer()\n",
    "saver = tf.train.Saver()"
   ]
  },
  {
   "cell_type": "code",
   "execution_count": 74,
   "metadata": {},
   "outputs": [
    {
     "name": "stdout",
     "output_type": "stream",
     "text": [
      "0 Train MSE: 0.49397182 \tSparsity loss: 0.05047938 \tTotal loss: 0.5040677\n",
      "1 Train MSE: 0.38740554 \tSparsity loss: 0.068670906 \tTotal loss: 0.40113974\n",
      "2 Train MSE: 0.3351609 \tSparsity loss: 0.060305126 \tTotal loss: 0.34722194\n",
      "3 Train MSE: 0.3078515 \tSparsity loss: 0.045412526 \tTotal loss: 0.316934\n",
      "4 Train MSE: 0.29218942 \tSparsity loss: 0.037807234 \tTotal loss: 0.29975086\n",
      "5 Train MSE: 0.27479124 \tSparsity loss: 0.037950244 \tTotal loss: 0.2823813\n",
      "6 Train MSE: 0.27132905 \tSparsity loss: 0.025704745 \tTotal loss: 0.27647\n",
      "7 Train MSE: 0.26634896 \tSparsity loss: 0.022314493 \tTotal loss: 0.27081186\n",
      "8 Train MSE: 0.26188362 \tSparsity loss: 0.015692372 \tTotal loss: 0.2650221\n",
      "9 Train MSE: 0.25435725 \tSparsity loss: 0.0155196 \tTotal loss: 0.25746116\n",
      "10 Train MSE: 0.2507392 \tSparsity loss: 0.016503692 \tTotal loss: 0.2540399\n",
      "11 Train MSE: 0.25376484 \tSparsity loss: 0.00988478 \tTotal loss: 0.2557418\n",
      "12 Train MSE: 0.2487272 \tSparsity loss: 0.0105279405 \tTotal loss: 0.2508328\n",
      "13 Train MSE: 0.24635997 \tSparsity loss: 0.012504505 \tTotal loss: 0.24886088\n",
      "14 Train MSE: 0.24613468 \tSparsity loss: 0.011576792 \tTotal loss: 0.24845004\n",
      "15 Train MSE: 0.24373792 \tSparsity loss: 0.011040125 \tTotal loss: 0.24594595\n",
      "16 Train MSE: 0.24177447 \tSparsity loss: 0.008857606 \tTotal loss: 0.243546\n",
      "17 Train MSE: 0.2445085 \tSparsity loss: 0.0060001835 \tTotal loss: 0.24570854\n",
      "18 Train MSE: 0.24009666 \tSparsity loss: 0.008975338 \tTotal loss: 0.24189173\n",
      "19 Train MSE: 0.23851256 \tSparsity loss: 0.010289015 \tTotal loss: 0.24057037\n",
      "20 Train MSE: 0.23768313 \tSparsity loss: 0.00664554 \tTotal loss: 0.23901224\n",
      "21 Train MSE: 0.23946325 \tSparsity loss: 0.00502136 \tTotal loss: 0.24046753\n",
      "22 Train MSE: 0.23450136 \tSparsity loss: 0.00795825 \tTotal loss: 0.23609301\n",
      "23 Train MSE: 0.23625709 \tSparsity loss: 0.005004553 \tTotal loss: 0.237258\n",
      "24 Train MSE: 0.23673803 \tSparsity loss: 0.004630645 \tTotal loss: 0.23766415\n",
      "25 Train MSE: 0.23797663 \tSparsity loss: 0.0055894554 \tTotal loss: 0.23909451\n",
      "26 Train MSE: 0.23583047 \tSparsity loss: 0.0050942246 \tTotal loss: 0.23684932\n",
      "27 Train MSE: 0.23085739 \tSparsity loss: 0.006934529 \tTotal loss: 0.2322443\n",
      "28 Train MSE: 0.23382844 \tSparsity loss: 0.0042661354 \tTotal loss: 0.23468167\n",
      "29 Train MSE: 0.23734832 \tSparsity loss: 0.0033269674 \tTotal loss: 0.23801371\n",
      "30 Train MSE: 0.23723312 \tSparsity loss: 0.0065097045 \tTotal loss: 0.23853506\n",
      "31 Train MSE: 0.2308127 \tSparsity loss: 0.0080238115 \tTotal loss: 0.23241746\n",
      "32 Train MSE: 0.23434533 \tSparsity loss: 0.004346123 \tTotal loss: 0.23521456\n",
      "33 Train MSE: 0.2345821 \tSparsity loss: 0.004151307 \tTotal loss: 0.23541236\n",
      "34 Train MSE: 0.22946514 \tSparsity loss: 0.0073547997 \tTotal loss: 0.2309361\n",
      "35 Train MSE: 0.23269016 \tSparsity loss: 0.0033470783 \tTotal loss: 0.23335958\n",
      "36 Train MSE: 0.22950552 \tSparsity loss: 0.0046579484 \tTotal loss: 0.23043711\n",
      "37 Train MSE: 0.23253283 \tSparsity loss: 0.004532025 \tTotal loss: 0.23343924\n",
      "38 Train MSE: 0.23059183 \tSparsity loss: 0.0037978096 \tTotal loss: 0.23135139\n",
      "39 Train MSE: 0.23321488 \tSparsity loss: 0.0016034478 \tTotal loss: 0.23353557\n",
      "40 Train MSE: 0.22830555 \tSparsity loss: 0.0039408784 \tTotal loss: 0.22909373\n",
      "41 Train MSE: 0.23036067 \tSparsity loss: 0.0020201989 \tTotal loss: 0.23076472\n",
      "42 Train MSE: 0.23255362 \tSparsity loss: 0.004870734 \tTotal loss: 0.23352776\n",
      "43 Train MSE: 0.23080142 \tSparsity loss: 0.0021132194 \tTotal loss: 0.23122406\n",
      "44 Train MSE: 0.23160511 \tSparsity loss: 0.002582443 \tTotal loss: 0.2321216\n",
      "45 Train MSE: 0.22620077 \tSparsity loss: 0.005048815 \tTotal loss: 0.22721054\n",
      "46 Train MSE: 0.23323156 \tSparsity loss: 0.0011148173 \tTotal loss: 0.23345453\n",
      "47 Train MSE: 0.23276758 \tSparsity loss: 0.0020534173 \tTotal loss: 0.23317826\n",
      "48 Train MSE: 0.22757159 \tSparsity loss: 0.0028000232 \tTotal loss: 0.22813159\n",
      "49 Train MSE: 0.232204 \tSparsity loss: 0.0019410225 \tTotal loss: 0.23259221\n",
      "50 Train MSE: 0.22802128 \tSparsity loss: 0.00303502 \tTotal loss: 0.22862828\n",
      "51 Train MSE: 0.22700271 \tSparsity loss: 0.0025950586 \tTotal loss: 0.22752172\n",
      "52 Train MSE: 0.2312678 \tSparsity loss: 0.0038194954 \tTotal loss: 0.23203169\n",
      "53 Train MSE: 0.22817524 \tSparsity loss: 0.0031194668 \tTotal loss: 0.22879913\n",
      "54 Train MSE: 0.2278364 \tSparsity loss: 0.0016068537 \tTotal loss: 0.22815777\n",
      "55 Train MSE: 0.22599597 \tSparsity loss: 0.0066921823 \tTotal loss: 0.22733441\n",
      "56 Train MSE: 0.22704259 \tSparsity loss: 0.003792718 \tTotal loss: 0.22780113\n",
      "57 Train MSE: 0.2277217 \tSparsity loss: 0.0022536293 \tTotal loss: 0.22817244\n",
      "58 Train MSE: 0.23529959 \tSparsity loss: 0.0020474344 \tTotal loss: 0.23570907\n",
      "59 Train MSE: 0.22798547 \tSparsity loss: 0.0020017764 \tTotal loss: 0.22838582\n",
      "60 Train MSE: 0.22894081 \tSparsity loss: 0.0032612514 \tTotal loss: 0.22959307\n",
      "61 Train MSE: 0.23057841 \tSparsity loss: 0.0013397108 \tTotal loss: 0.23084635\n",
      "62 Train MSE: 0.22747234 \tSparsity loss: 0.0015909057 \tTotal loss: 0.22779052\n",
      "63 Train MSE: 0.22632726 \tSparsity loss: 0.0030282335 \tTotal loss: 0.2269329\n",
      "64 Train MSE: 0.2253145 \tSparsity loss: 0.0038458155 \tTotal loss: 0.22608367\n",
      "65 Train MSE: 0.22791944 \tSparsity loss: 0.0015196363 \tTotal loss: 0.22822337\n",
      "66 Train MSE: 0.23007458 \tSparsity loss: 0.0014568618 \tTotal loss: 0.23036596\n",
      "67 Train MSE: 0.22589795 \tSparsity loss: 0.0021358095 \tTotal loss: 0.22632511\n",
      "68 Train MSE: 0.22824292 \tSparsity loss: 0.0029153721 \tTotal loss: 0.22882599\n",
      "69 Train MSE: 0.2291574 \tSparsity loss: 0.0009282739 \tTotal loss: 0.22934306\n",
      "70 Train MSE: 0.22752312 \tSparsity loss: 0.002188608 \tTotal loss: 0.22796084\n",
      "71 Train MSE: 0.22628967 \tSparsity loss: 0.002317598 \tTotal loss: 0.22675319\n",
      "72 Train MSE: 0.22738186 \tSparsity loss: 0.002994771 \tTotal loss: 0.2279808\n",
      "73 Train MSE: 0.22531465 \tSparsity loss: 0.002773026 \tTotal loss: 0.22586925\n",
      "74 Train MSE: 0.22740854 \tSparsity loss: 0.002599597 \tTotal loss: 0.22792846\n",
      "75 Train MSE: 0.23019978 \tSparsity loss: 0.0018434282 \tTotal loss: 0.23056847\n",
      "76 Train MSE: 0.22888656 \tSparsity loss: 0.00066515966 \tTotal loss: 0.2290196\n",
      "77 Train MSE: 0.22574139 \tSparsity loss: 0.0010738745 \tTotal loss: 0.22595616\n",
      "78 Train MSE: 0.22502764 \tSparsity loss: 0.0008714027 \tTotal loss: 0.22520192\n",
      "79 Train MSE: 0.22814281 \tSparsity loss: 0.0009841761 \tTotal loss: 0.22833964\n",
      "80 Train MSE: 0.22386715 \tSparsity loss: 0.0014839247 \tTotal loss: 0.22416393\n",
      "81 Train MSE: 0.22754066 \tSparsity loss: 0.0006285077 \tTotal loss: 0.22766636\n",
      "82 Train MSE: 0.22518872 \tSparsity loss: 0.0010712948 \tTotal loss: 0.22540298\n",
      "83 Train MSE: 0.23052841 \tSparsity loss: 0.00043571834 \tTotal loss: 0.23061556\n",
      "84 Train MSE: 0.22452928 \tSparsity loss: 0.0018814169 \tTotal loss: 0.22490557\n",
      "85 Train MSE: 0.22377934 \tSparsity loss: 0.0018934142 \tTotal loss: 0.22415802\n",
      "86 Train MSE: 0.22634949 \tSparsity loss: 0.0024756035 \tTotal loss: 0.22684461\n",
      "87 Train MSE: 0.2254014 \tSparsity loss: 0.0012397312 \tTotal loss: 0.22564934\n",
      "88 Train MSE: 0.2283688 \tSparsity loss: 0.0007511545 \tTotal loss: 0.22851904\n",
      "89 Train MSE: 0.2249477 \tSparsity loss: 0.0013734563 \tTotal loss: 0.2252224\n",
      "90 Train MSE: 0.22686848 \tSparsity loss: 0.0019578375 \tTotal loss: 0.22726005\n",
      "91 Train MSE: 0.22965163 \tSparsity loss: 0.0007724846 \tTotal loss: 0.22980613\n",
      "92 Train MSE: 0.22486655 \tSparsity loss: 0.002513364 \tTotal loss: 0.22536923\n",
      "93 Train MSE: 0.22571056 \tSparsity loss: 0.0018727025 \tTotal loss: 0.2260851\n",
      "94 Train MSE: 0.22620046 \tSparsity loss: 0.0008424469 \tTotal loss: 0.22636895\n",
      "95 Train MSE: 0.22885431 \tSparsity loss: 0.00022120588 \tTotal loss: 0.22889856\n",
      "96 Train MSE: 0.22489797 \tSparsity loss: 0.0011274 \tTotal loss: 0.22512345\n",
      "97 Train MSE: 0.22362414 \tSparsity loss: 0.0014136008 \tTotal loss: 0.22390686\n",
      "98 Train MSE: 0.22176343 \tSparsity loss: 0.0037098776 \tTotal loss: 0.2225054\n",
      "99 Train MSE: 0.22290966 \tSparsity loss: 0.0005880995 \tTotal loss: 0.22302727\n"
     ]
    }
   ],
   "source": [
    "n_epochs = 100\n",
    "batch_size = 1000\n",
    "\n",
    "with tf.Session() as sess:\n",
    "    init.run()\n",
    "    for epoch in range(n_epochs):\n",
    "        n_batches = mnist.train.num_examples // batch_size\n",
    "        for iteration in range(n_batches):\n",
    "            print(\"\\r{}%\".format(100 * iteration // n_batches), end=\"\")\n",
    "            sys.stdout.flush()\n",
    "            X_batch, y_batch = mnist.train.next_batch(batch_size)\n",
    "            sess.run(training_op, feed_dict={X: X_batch})\n",
    "        reconstruction_loss_val, sparsity_loss_val, loss_val = sess.run([reconstruction_loss, sparsity_loss, loss], feed_dict={X: X_batch})\n",
    "        print(\"\\r{}\".format(epoch), \"Train MSE:\", reconstruction_loss_val, \"\\tSparsity loss:\", sparsity_loss_val, \"\\tTotal loss:\", loss_val)\n",
    "        saver.save(sess, \"./my_model_sparse.ckpt\")"
   ]
  },
  {
   "cell_type": "code",
   "execution_count": 75,
   "metadata": {},
   "outputs": [
    {
     "name": "stdout",
     "output_type": "stream",
     "text": [
      "INFO:tensorflow:Restoring parameters from ./my_model_sparse.ckpt\n"
     ]
    },
    {
     "data": {
      "image/png": "[encoded data removed]",
      "text/plain": [
       "<Figure size 576x432 with 4 Axes>"
      ]
     },
     "metadata": {},
     "output_type": "display_data"
    }
   ],
   "source": [
    "show_reconstructed_digits(X, outputs, \"./my_model_sparse.ckpt\")"
   ]
  },
  {
   "cell_type": "code",
   "execution_count": 77,
   "metadata": {},
   "outputs": [],
   "source": [
    "reset_graph()\n",
    "\n",
    "from functools import partial\n",
    "\n",
    "n_inputs = 28 * 28\n",
    "n_hidden1 = 500\n",
    "n_hidden2 = 500\n",
    "n_hidden3 = 20  # codings\n",
    "n_hidden4 = n_hidden2\n",
    "n_hidden5 = n_hidden1\n",
    "n_outputs = n_inputs\n",
    "learning_rate = 0.001\n",
    "\n",
    "initializer = tf.contrib.layers.variance_scaling_initializer()\n",
    "\n",
    "my_dense_layer = partial(\n",
    "    tf.layers.dense,\n",
    "    activation=tf.nn.elu,\n",
    "    kernel_initializer=initializer)\n",
    "\n",
    "X = tf.placeholder(tf.float32, [None, n_inputs])\n",
    "hidden1 = my_dense_layer(X, n_hidden1)\n",
    "hidden2 = my_dense_layer(hidden1, n_hidden2)\n",
    "hidden3_mean = my_dense_layer(hidden2, n_hidden3, activation=None)\n",
    "hidden3_sigma = my_dense_layer(hidden2, n_hidden3, activation=None)\n",
    "noise = tf.random_normal(tf.shape(hidden3_sigma), dtype=tf.float32)\n",
    "hidden3 = hidden3_mean + hidden3_sigma * noise\n",
    "hidden4 = my_dense_layer(hidden3, n_hidden4)\n",
    "hidden5 = my_dense_layer(hidden4, n_hidden5)\n",
    "logits = my_dense_layer(hidden5, n_outputs, activation=None)\n",
    "outputs = tf.sigmoid(logits)\n",
    "\n",
    "xentropy = tf.nn.sigmoid_cross_entropy_with_logits(labels=X, logits=logits)\n",
    "reconstruction_loss = tf.reduce_sum(xentropy)"
   ]
  },
  {
   "cell_type": "code",
   "execution_count": 78,
   "metadata": {},
   "outputs": [],
   "source": [
    "eps = 1e-10 # smoothing term to avoid computing log(0) which is NaN\n",
    "latent_loss = 0.5 * tf.reduce_sum(\n",
    "    tf.square(hidden3_sigma) + tf.square(hidden3_mean)\n",
    "    - 1 - tf.log(eps + tf.square(hidden3_sigma)))"
   ]
  },
  {
   "cell_type": "code",
   "execution_count": 79,
   "metadata": {},
   "outputs": [],
   "source": [
    "loss = reconstruction_loss + latent_loss\n",
    "\n",
    "optimizer = tf.train.AdamOptimizer(learning_rate=learning_rate)\n",
    "training_op = optimizer.minimize(loss)\n",
    "\n",
    "init = tf.global_variables_initializer()\n",
    "saver = tf.train.Saver()"
   ]
  },
  {
   "cell_type": "code",
   "execution_count": 80,
   "metadata": {},
   "outputs": [
    {
     "name": "stdout",
     "output_type": "stream",
     "text": [
      "0 Train total loss: 31971.576 \tReconstruction loss: 24820.68 \tLatent loss: 7150.897\n",
      "1 Train total loss: 31380.9 \tReconstruction loss: 25332.479 \tLatent loss: 6048.4224\n",
      "2 Train total loss: 30725.71 \tReconstruction loss: 24408.5 \tLatent loss: 6317.212\n",
      "3 Train total loss: 25119.525 \tReconstruction loss: 21783.764 \tLatent loss: 3335.7615\n",
      "4 Train total loss: 22808.576 \tReconstruction loss: 19599.363 \tLatent loss: 3209.2136\n",
      "5 Train total loss: 20528.924 \tReconstruction loss: 17667.691 \tLatent loss: 2861.2327\n",
      "6 Train total loss: 18522.613 \tReconstruction loss: 15395.174 \tLatent loss: 3127.4385\n",
      "7 Train total loss: 17844.45 \tReconstruction loss: 14674.246 \tLatent loss: 3170.203\n",
      "8 Train total loss: 17702.656 \tReconstruction loss: 14609.742 \tLatent loss: 3092.9146\n",
      "9 Train total loss: 17074.207 \tReconstruction loss: 13932.902 \tLatent loss: 3141.3037\n",
      "10 Train total loss: 16323.595 \tReconstruction loss: 13218.752 \tLatent loss: 3104.8428\n",
      "11 Train total loss: 16121.021 \tReconstruction loss: 13052.74 \tLatent loss: 3068.281\n",
      "12 Train total loss: 17322.342 \tReconstruction loss: 13878.02 \tLatent loss: 3444.323\n",
      "13 Train total loss: 16153.856 \tReconstruction loss: 13096.982 \tLatent loss: 3056.8738\n",
      "14 Train total loss: 15689.021 \tReconstruction loss: 12437.416 \tLatent loss: 3251.606\n",
      "15 Train total loss: 16310.793 \tReconstruction loss: 13131.275 \tLatent loss: 3179.517\n",
      "16 Train total loss: 16170.587 \tReconstruction loss: 12788.014 \tLatent loss: 3382.5732\n",
      "17 Train total loss: 15467.527 \tReconstruction loss: 12246.502 \tLatent loss: 3221.0251\n",
      "18 Train total loss: 17742.365 \tReconstruction loss: 14262.602 \tLatent loss: 3479.763\n",
      "19 Train total loss: 18486.99 \tReconstruction loss: 14614.236 \tLatent loss: 3872.7542\n",
      "20 Train total loss: 18855.182 \tReconstruction loss: 15212.955 \tLatent loss: 3642.226\n",
      "21 Train total loss: 18662.273 \tReconstruction loss: 15275.513 \tLatent loss: 3386.7603\n",
      "22 Train total loss: 23861.182 \tReconstruction loss: 19602.596 \tLatent loss: 4258.586\n",
      "23 Train total loss: 16042.935 \tReconstruction loss: 12857.338 \tLatent loss: 3185.597\n",
      "24 Train total loss: 15403.195 \tReconstruction loss: 12104.997 \tLatent loss: 3298.1978\n",
      "25 Train total loss: 15704.467 \tReconstruction loss: 12275.678 \tLatent loss: 3428.789\n",
      "26 Train total loss: 16600.727 \tReconstruction loss: 13178.542 \tLatent loss: 3422.1846\n",
      "27 Train total loss: 15164.602 \tReconstruction loss: 11922.742 \tLatent loss: 3241.8596\n",
      "28 Train total loss: 16208.83 \tReconstruction loss: 12681.775 \tLatent loss: 3527.0542\n",
      "29 Train total loss: 16673.73 \tReconstruction loss: 13261.5205 \tLatent loss: 3412.2092\n",
      "30 Train total loss: 15995.023 \tReconstruction loss: 12570.126 \tLatent loss: 3424.8977\n",
      "31 Train total loss: 15560.447 \tReconstruction loss: 12061.243 \tLatent loss: 3499.2046\n",
      "32 Train total loss: 16470.4 \tReconstruction loss: 13028.121 \tLatent loss: 3442.2788\n",
      "33 Train total loss: 15574.27 \tReconstruction loss: 12150.723 \tLatent loss: 3423.5464\n",
      "34 Train total loss: 15628.944 \tReconstruction loss: 12108.926 \tLatent loss: 3520.0186\n",
      "35 Train total loss: 42799.96 \tReconstruction loss: 27528.178 \tLatent loss: 15271.784\n",
      "36 Train total loss: 27751.363 \tReconstruction loss: 22574.945 \tLatent loss: 5176.4175\n",
      "37 Train total loss: 31204.734 \tReconstruction loss: 22861.527 \tLatent loss: 8343.206\n",
      "38 Train total loss: 22207.75 \tReconstruction loss: 18568.668 \tLatent loss: 3639.082\n",
      "39 Train total loss: 20218.896 \tReconstruction loss: 16527.658 \tLatent loss: 3691.2378\n",
      "40 Train total loss: 17544.29 \tReconstruction loss: 14509.371 \tLatent loss: 3034.9185\n",
      "41 Train total loss: 15986.088 \tReconstruction loss: 12733.861 \tLatent loss: 3252.2263\n",
      "42 Train total loss: 16672.3 \tReconstruction loss: 13347.014 \tLatent loss: 3325.287\n",
      "43 Train total loss: 16080.363 \tReconstruction loss: 12727.355 \tLatent loss: 3353.0078\n",
      "44 Train total loss: 15590.232 \tReconstruction loss: 12271.012 \tLatent loss: 3319.2207\n",
      "45 Train total loss: 15832.98 \tReconstruction loss: 12366.77 \tLatent loss: 3466.211\n",
      "46 Train total loss: 15912.701 \tReconstruction loss: 12370.994 \tLatent loss: 3541.7075\n",
      "47 Train total loss: 15326.35 \tReconstruction loss: 12060.682 \tLatent loss: 3265.668\n",
      "48 Train total loss: 15118.529 \tReconstruction loss: 11697.05 \tLatent loss: 3421.479\n",
      "49 Train total loss: 14887.199 \tReconstruction loss: 11487.885 \tLatent loss: 3399.3147\n"
     ]
    }
   ],
   "source": [
    "n_epochs = 50\n",
    "batch_size = 150\n",
    "\n",
    "with tf.Session() as sess:\n",
    "    init.run()\n",
    "    for epoch in range(n_epochs):\n",
    "        n_batches = mnist.train.num_examples // batch_size\n",
    "        for iteration in range(n_batches):\n",
    "            print(\"\\r{}%\".format(100 * iteration // n_batches), end=\"\")\n",
    "            sys.stdout.flush()\n",
    "            X_batch, y_batch = mnist.train.next_batch(batch_size)\n",
    "            sess.run(training_op, feed_dict={X: X_batch})\n",
    "        loss_val, reconstruction_loss_val, latent_loss_val = sess.run([loss, reconstruction_loss, latent_loss], feed_dict={X: X_batch})\n",
    "        print(\"\\r{}\".format(epoch), \"Train total loss:\", loss_val, \"\\tReconstruction loss:\", reconstruction_loss_val, \"\\tLatent loss:\", latent_loss_val)\n",
    "        saver.save(sess, \"./my_model_variational.ckpt\")"
   ]
  },
  {
   "cell_type": "code",
   "execution_count": 82,
   "metadata": {},
   "outputs": [],
   "source": [
    "reset_graph()\n",
    "\n",
    "from functools import partial\n",
    "\n",
    "n_inputs = 28 * 28\n",
    "n_hidden1 = 500\n",
    "n_hidden2 = 500\n",
    "n_hidden3 = 20  # codings\n",
    "n_hidden4 = n_hidden2\n",
    "n_hidden5 = n_hidden1\n",
    "n_outputs = n_inputs\n",
    "learning_rate = 0.001\n",
    "\n",
    "initializer = tf.contrib.layers.variance_scaling_initializer()\n",
    "my_dense_layer = partial(\n",
    "    tf.layers.dense,\n",
    "    activation=tf.nn.elu,\n",
    "    kernel_initializer=initializer)\n",
    "\n",
    "X = tf.placeholder(tf.float32, [None, n_inputs])\n",
    "hidden1 = my_dense_layer(X, n_hidden1)\n",
    "hidden2 = my_dense_layer(hidden1, n_hidden2)\n",
    "hidden3_mean = my_dense_layer(hidden2, n_hidden3, activation=None)\n",
    "hidden3_gamma = my_dense_layer(hidden2, n_hidden3, activation=None)\n",
    "noise = tf.random_normal(tf.shape(hidden3_gamma), dtype=tf.float32)\n",
    "hidden3 = hidden3_mean + tf.exp(0.5 * hidden3_gamma) * noise\n",
    "hidden4 = my_dense_layer(hidden3, n_hidden4)\n",
    "hidden5 = my_dense_layer(hidden4, n_hidden5)\n",
    "logits = my_dense_layer(hidden5, n_outputs, activation=None)\n",
    "outputs = tf.sigmoid(logits)\n",
    "\n",
    "xentropy = tf.nn.sigmoid_cross_entropy_with_logits(labels=X, logits=logits)\n",
    "reconstruction_loss = tf.reduce_sum(xentropy)\n",
    "latent_loss = 0.5 * tf.reduce_sum(\n",
    "    tf.exp(hidden3_gamma) + tf.square(hidden3_mean) - 1 - hidden3_gamma)\n",
    "loss = reconstruction_loss + latent_loss\n",
    "\n",
    "optimizer = tf.train.AdamOptimizer(learning_rate=learning_rate)\n",
    "training_op = optimizer.minimize(loss)\n",
    "\n",
    "init = tf.global_variables_initializer()\n",
    "saver = tf.train.Saver()"
   ]
  },
  {
   "cell_type": "code",
   "execution_count": 83,
   "metadata": {},
   "outputs": [
    {
     "name": "stdout",
     "output_type": "stream",
     "text": [
      "0 Train total loss: 17803.582 \tReconstruction loss: 14170.83 \tLatent loss: 3632.7512\n",
      "1 Train total loss: 17353.117 \tReconstruction loss: 13592.385 \tLatent loss: 3760.7314\n",
      "2 Train total loss: 16881.254 \tReconstruction loss: 13037.785 \tLatent loss: 3843.4692\n",
      "3 Train total loss: 16199.328 \tReconstruction loss: 12404.488 \tLatent loss: 3794.84\n",
      "4 Train total loss: 16468.414 \tReconstruction loss: 12615.24 \tLatent loss: 3853.1738\n",
      "5 Train total loss: 16231.492 \tReconstruction loss: 12380.57 \tLatent loss: 3850.9216\n",
      "6 Train total loss: 15225.609 \tReconstruction loss: 11512.44 \tLatent loss: 3713.1687\n",
      "7 Train total loss: 16369.288 \tReconstruction loss: 12557.19 \tLatent loss: 3812.0974\n",
      "8 Train total loss: 15579.078 \tReconstruction loss: 11814.881 \tLatent loss: 3764.1978\n",
      "9 Train total loss: 16074.397 \tReconstruction loss: 12195.689 \tLatent loss: 3878.7078\n",
      "10 Train total loss: 15576.654 \tReconstruction loss: 11754.4 \tLatent loss: 3822.2544\n",
      "11 Train total loss: 15315.691 \tReconstruction loss: 11527.264 \tLatent loss: 3788.4275\n",
      "12 Train total loss: 15975.872 \tReconstruction loss: 12093.245 \tLatent loss: 3882.627\n",
      "13 Train total loss: 15507.879 \tReconstruction loss: 11792.974 \tLatent loss: 3714.9055\n",
      "14 Train total loss: 15567.002 \tReconstruction loss: 11744.627 \tLatent loss: 3822.3755\n",
      "15 Train total loss: 15691.848 \tReconstruction loss: 11832.625 \tLatent loss: 3859.2222\n",
      "16 Train total loss: 15373.864 \tReconstruction loss: 11682.178 \tLatent loss: 3691.6865\n",
      "17 Train total loss: 15380.464 \tReconstruction loss: 11521.816 \tLatent loss: 3858.6475\n",
      "18 Train total loss: 15911.778 \tReconstruction loss: 12076.686 \tLatent loss: 3835.0925\n",
      "19 Train total loss: 15531.376 \tReconstruction loss: 11831.807 \tLatent loss: 3699.569\n",
      "20 Train total loss: 15997.305 \tReconstruction loss: 12202.163 \tLatent loss: 3795.142\n",
      "21 Train total loss: 15245.525 \tReconstruction loss: 11434.236 \tLatent loss: 3811.289\n",
      "22 Train total loss: 14736.252 \tReconstruction loss: 10955.592 \tLatent loss: 3780.6606\n",
      "23 Train total loss: 14689.725 \tReconstruction loss: 11027.004 \tLatent loss: 3662.7207\n",
      "24 Train total loss: 15229.305 \tReconstruction loss: 11452.556 \tLatent loss: 3776.7493\n",
      "25 Train total loss: 15071.914 \tReconstruction loss: 11329.656 \tLatent loss: 3742.258\n",
      "26 Train total loss: 14697.728 \tReconstruction loss: 11028.748 \tLatent loss: 3668.9792\n",
      "27 Train total loss: 14589.518 \tReconstruction loss: 10924.895 \tLatent loss: 3664.6226\n",
      "28 Train total loss: 14794.068 \tReconstruction loss: 11098.354 \tLatent loss: 3695.7146\n",
      "29 Train total loss: 15739.443 \tReconstruction loss: 11905.908 \tLatent loss: 3833.5347\n",
      "30 Train total loss: 14933.684 \tReconstruction loss: 11226.511 \tLatent loss: 3707.1726\n",
      "31 Train total loss: 15366.457 \tReconstruction loss: 11556.758 \tLatent loss: 3809.6997\n",
      "32 Train total loss: 15043.57 \tReconstruction loss: 11217.846 \tLatent loss: 3825.724\n",
      "33 Train total loss: 14793.168 \tReconstruction loss: 11142.814 \tLatent loss: 3650.354\n",
      "34 Train total loss: 14687.8125 \tReconstruction loss: 10970.139 \tLatent loss: 3717.6733\n",
      "35 Train total loss: 15687.219 \tReconstruction loss: 11891.085 \tLatent loss: 3796.1343\n",
      "36 Train total loss: 14825.382 \tReconstruction loss: 11130.186 \tLatent loss: 3695.1963\n",
      "37 Train total loss: 15243.244 \tReconstruction loss: 11531.822 \tLatent loss: 3711.4214\n",
      "38 Train total loss: 15288.4 \tReconstruction loss: 11422.281 \tLatent loss: 3866.119\n",
      "39 Train total loss: 14560.404 \tReconstruction loss: 10958.018 \tLatent loss: 3602.3862\n",
      "40 Train total loss: 15116.373 \tReconstruction loss: 11340.9 \tLatent loss: 3775.473\n",
      "41 Train total loss: 14628.82 \tReconstruction loss: 11017.131 \tLatent loss: 3611.6895\n",
      "42 Train total loss: 14821.101 \tReconstruction loss: 11126.222 \tLatent loss: 3694.8792\n",
      "43 Train total loss: 14497.232 \tReconstruction loss: 10775.077 \tLatent loss: 3722.1558\n",
      "44 Train total loss: 14956.115 \tReconstruction loss: 11109.732 \tLatent loss: 3846.3828\n",
      "45 Train total loss: 14810.83 \tReconstruction loss: 11093.801 \tLatent loss: 3717.0298\n",
      "46 Train total loss: 14539.543 \tReconstruction loss: 10895.612 \tLatent loss: 3643.9307\n",
      "47 Train total loss: 14761.309 \tReconstruction loss: 11058.246 \tLatent loss: 3703.0625\n",
      "48 Train total loss: 14461.314 \tReconstruction loss: 10869.128 \tLatent loss: 3592.186\n",
      "49 Train total loss: 14809.869 \tReconstruction loss: 11090.077 \tLatent loss: 3719.792\n"
     ]
    }
   ],
   "source": [
    "import numpy as np\n",
    "\n",
    "n_digits = 60\n",
    "n_epochs = 50\n",
    "batch_size = 150\n",
    "\n",
    "with tf.Session() as sess:\n",
    "    init.run()\n",
    "    for epoch in range(n_epochs):\n",
    "        n_batches = mnist.train.num_examples // batch_size\n",
    "        for iteration in range(n_batches):\n",
    "            print(\"\\r{}%\".format(100 * iteration // n_batches), end=\"\") # not shown in the book\n",
    "            sys.stdout.flush()                                          # not shown\n",
    "            X_batch, y_batch = mnist.train.next_batch(batch_size)\n",
    "            sess.run(training_op, feed_dict={X: X_batch})\n",
    "        loss_val, reconstruction_loss_val, latent_loss_val = sess.run([loss, reconstruction_loss, latent_loss], feed_dict={X: X_batch}) # not shown\n",
    "        print(\"\\r{}\".format(epoch), \"Train total loss:\", loss_val, \"\\tReconstruction loss:\", reconstruction_loss_val, \"\\tLatent loss:\", latent_loss_val)  # not shown\n",
    "        saver.save(sess, \"./my_model_variational.ckpt\")  # not shown\n",
    "    \n",
    "    codings_rnd = np.random.normal(size=[n_digits, n_hidden3])\n",
    "    outputs_val = outputs.eval(feed_dict={hidden3: codings_rnd})"
   ]
  },
  {
   "cell_type": "code",
   "execution_count": 84,
   "metadata": {},
   "outputs": [
    {
     "data": {
      "image/png": "[encoded data removed]",
      "text/plain": [
       "<Figure size 576x3600 with 60 Axes>"
      ]
     },
     "metadata": {},
     "output_type": "display_data"
    }
   ],
   "source": [
    "plt.figure(figsize=(8,50)) # not shown in the book\n",
    "for iteration in range(n_digits):\n",
    "    plt.subplot(n_digits, 10, iteration + 1)\n",
    "    plot_image(outputs_val[iteration])"
   ]
  },
  {
   "cell_type": "code",
   "execution_count": null,
   "metadata": {},
   "outputs": [],
   "source": []
  }
 ],
 "metadata": {
  "kernelspec": {
   "display_name": "Python 3",
   "language": "python",
   "name": "python3"
  },
  "language_info": {
   "codemirror_mode": {
    "name": "ipython",
    "version": 3
   },
   "file_extension": ".py",
   "mimetype": "text/x-python",
   "name": "python",
   "nbconvert_exporter": "python",
   "pygments_lexer": "ipython3",
   "version": "3.6.5"
  }
 },
 "nbformat": 4,
 "nbformat_minor": 2
}
